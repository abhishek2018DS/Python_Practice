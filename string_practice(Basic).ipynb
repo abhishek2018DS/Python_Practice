{
 "cells": [
  {
   "cell_type": "markdown",
   "metadata": {},
   "source": [
    "## Basic String Practice"
   ]
  },
  {
   "cell_type": "code",
   "execution_count": 1,
   "metadata": {},
   "outputs": [
    {
     "name": "stdout",
     "output_type": "stream",
     "text": [
      "symmetrical\n",
      "palindrome\n"
     ]
    }
   ],
   "source": [
    "#symmetrical or palindrome\n",
    "\"\"\"amaama is a palindrome and symmetrical\"\"\"\n",
    "\n",
    "#string= input(\"enter the string: \")\n",
    "string= \"amaama\"\n",
    "#define the length of the string\n",
    "half= int(len(string)/2)\n",
    "\n",
    "#check whether the length is even or odd\n",
    "if len(string)%2== 0:\n",
    "    first_half= string[:half]\n",
    "    second_half= string[half:]\n",
    "else:\n",
    "    first_half= string[:half]\n",
    "    second_half= string[half+1:]\n",
    "#check for symmetric \n",
    "if first_half==second_half:\n",
    "    print(\"symmetrical\")\n",
    "else:\n",
    "    print(\"not symmetric\")\n",
    "    \n",
    "#check for palindrome\n",
    "if first_half== second_half[::-1]:\n",
    "    print(\"palindrome\")\n",
    "else:\n",
    "    print(\"not palindrome\")\n"
   ]
  },
  {
   "cell_type": "code",
   "execution_count": 2,
   "metadata": {},
   "outputs": [
    {
     "data": {
      "text/plain": [
       "'field science data in Abhishek'"
      ]
     },
     "execution_count": 2,
     "metadata": {},
     "output_type": "execute_result"
    }
   ],
   "source": [
    "#reverse words in a sentence\n",
    "\n",
    "#abhishek in data science field --> field science data in Abhishek\n",
    "\n",
    "#sentence= input(\"enter the sentence: \")\n",
    "sentence= \"Abhishek in data science field\"\n",
    "def word_reverse_in_sentence(sentence):\n",
    "    words= sentence.split(' ')\n",
    "    reversed_sentence= ' '.join(reversed(words))\n",
    "    return reversed_sentence \n",
    "word_reverse_in_sentence(sentence)"
   ]
  },
  {
   "cell_type": "code",
   "execution_count": 3,
   "metadata": {},
   "outputs": [
    {
     "name": "stdout",
     "output_type": "stream",
     "text": [
      "the string you entered is: hello abhishek\n",
      "check this is what want to do: helo abhishek\n"
     ]
    }
   ],
   "source": [
    "#remove ith character from the string\n",
    "#string= input(\"enter the string:\")\n",
    "string= \"hello abhishek\"\n",
    "print(\"the string you entered is: \"+ string)\n",
    "#ch_rem= int(input(\"the character from the position that you want to remove: \"))\n",
    "ch_rem= 3\n",
    "new_string= string[:ch_rem-1]+string[ch_rem:]\n",
    "print(\"check this is what want to do: \"+new_string)"
   ]
  },
  {
   "cell_type": "code",
   "execution_count": 4,
   "metadata": {},
   "outputs": [
    {
     "name": "stdout",
     "output_type": "stream",
     "text": [
      "the string you entered is: hello abhishek singh\n",
      "check this is what want to do: hello abhshek singh\n"
     ]
    }
   ],
   "source": [
    "#string= input(\"enter the string:\")\n",
    "string= \"hello abhishek singh\"\n",
    "print(\"the string you entered is: \"+ string)\n",
    "#ch_rem= int(input(\"the character from the position that you want to remove: \"))\n",
    "ch_rem= 9\n",
    "new_string= ''.join((string[i] for i in range(len(string)) if i != ch_rem))\n",
    "print(\"check this is what want to do: \"+new_string)"
   ]
  },
  {
   "cell_type": "code",
   "execution_count": 5,
   "metadata": {},
   "outputs": [
    {
     "name": "stdout",
     "output_type": "stream",
     "text": [
      "the string is : hello abhishek singh\n",
      "the new string is: hello abhshek sngh\n"
     ]
    }
   ],
   "source": [
    "#replace the ith position character with blank is it possible\n",
    "string= \"hello abhishek singh\"\n",
    "ch_rem= 9\n",
    "print(\"the string is : \" +string)\n",
    "new_string= string.replace('i', '')\n",
    "print(\"the new string is: \"+ new_string)"
   ]
  },
  {
   "cell_type": "code",
   "execution_count": 6,
   "metadata": {},
   "outputs": [
    {
     "name": "stdout",
     "output_type": "stream",
     "text": [
      "22\n"
     ]
    }
   ],
   "source": [
    "#length of string avoiding space character\n",
    "\"\"\"The original string is : geeksforgeeks 33 is   best\n",
    "The Characters Frequency avoiding spaces : 21 \"\"\"\n",
    "\n",
    "test_str= \"hello this abhishek world\"\n",
    "result= sum(not chr.isspace() for chr in test_str)\n",
    "print(result)"
   ]
  },
  {
   "cell_type": "markdown",
   "metadata": {},
   "source": [
    "### print even world string length in word "
   ]
  },
  {
   "cell_type": "code",
   "execution_count": 7,
   "metadata": {},
   "outputs": [
    {
     "name": "stdout",
     "output_type": "stream",
     "text": [
      "my name is abhishek  "
     ]
    }
   ],
   "source": [
    "test_string= \"hello my name is abhishek kumar singh \"\n",
    "def even_word(test_string):\n",
    "    test_string= test_string.split(' ')\n",
    "    for word in test_string:\n",
    "        if len(word)%2==0:\n",
    "            print(word, end= \" \")\n",
    "        else:\n",
    "            pass\n",
    "even_word(test_string)"
   ]
  },
  {
   "cell_type": "markdown",
   "metadata": {},
   "source": [
    "### Uppercase Half string\n",
    "Input : test_str = ‘apples’\n",
    "Output : appLES\n",
    "Explanation : Latter half of string is uppercased.\n"
   ]
  },
  {
   "cell_type": "code",
   "execution_count": 8,
   "metadata": {},
   "outputs": [
    {
     "data": {
      "text/plain": [
       "' AbhiSHEK'"
      ]
     },
     "execution_count": 8,
     "metadata": {},
     "output_type": "execute_result"
    }
   ],
   "source": [
    "test_str= \"Abhishek\"\n",
    "\n",
    "def half_uppercase(test_str):\n",
    "    half_index= len(test_str)//2\n",
    "    res= \" \"\n",
    "    for idx in range(len(test_str)):\n",
    "        if idx >= half_index:\n",
    "            res+= test_str[idx].upper()\n",
    "        else:\n",
    "            res += test_str[idx]\n",
    "            \n",
    "    return res\n",
    "\n",
    "half_uppercase(test_str)\n",
    "        "
   ]
  },
  {
   "cell_type": "code",
   "execution_count": 9,
   "metadata": {},
   "outputs": [
    {
     "data": {
      "text/plain": [
       "' ABHIShek'"
      ]
     },
     "execution_count": 9,
     "metadata": {},
     "output_type": "execute_result"
    }
   ],
   "source": [
    "def first_half_uppercase(test_str):\n",
    "    half_index= len(test_str)//2\n",
    "    res= ' '\n",
    "    for idx in range(len(test_str)):\n",
    "        if idx<= half_index:\n",
    "            res += test_str[idx].upper()\n",
    "            \n",
    "        else:\n",
    "            res += test_str[idx]\n",
    "            \n",
    "    return res\n",
    "\n",
    "first_half_uppercase(test_str)"
   ]
  },
  {
   "cell_type": "code",
   "execution_count": 10,
   "metadata": {},
   "outputs": [
    {
     "data": {
      "text/plain": [
       "'AbhiSHEK'"
      ]
     },
     "execution_count": 10,
     "metadata": {},
     "output_type": "execute_result"
    }
   ],
   "source": [
    "#code optimization for second half upper case\n",
    "half_index= len(test_str)//2\n",
    "res= ''.join([test_str[idx].upper() if idx >= half_index else test_str[idx] for idx in range(len(test_str))])\n",
    "res"
   ]
  },
  {
   "cell_type": "code",
   "execution_count": 11,
   "metadata": {},
   "outputs": [
    {
     "data": {
      "text/plain": [
       "'ABHIShek'"
      ]
     },
     "execution_count": 11,
     "metadata": {},
     "output_type": "execute_result"
    }
   ],
   "source": [
    "#code optimazation for first half uppercase\n",
    "res= ''.join([test_str[idx].upper() if idx<= half_index else test_str[idx] for idx in range(len(test_str))])\n",
    "res"
   ]
  },
  {
   "cell_type": "markdown",
   "metadata": {},
   "source": [
    "### **Capitalize the first and last character of each word in a string"
   ]
  },
  {
   "cell_type": "code",
   "execution_count": 12,
   "metadata": {},
   "outputs": [
    {
     "name": "stdout",
     "output_type": "stream",
     "text": [
      "string after capitalization:  HellO ThiS IS AbhisheK WorlD\n"
     ]
    }
   ],
   "source": [
    "def capitalize_first_last_char(str):\n",
    "    return ' '.join(map(lambda s: s[:-1]+s[-1].upper(), s.title().split()))\n",
    "#driver function\n",
    "if __name__==\"__main__\":\n",
    "    s = \"hello this is abhishek world\"\n",
    "    print(\"string after capitalization: \", capitalize_first_last_char(s))"
   ]
  },
  {
   "cell_type": "markdown",
   "metadata": {},
   "source": [
    "### Python program to check if a string has at least one letter and one number"
   ]
  },
  {
   "cell_type": "code",
   "execution_count": 13,
   "metadata": {},
   "outputs": [],
   "source": [
    "# def check_alpha_num(string_):\n",
    "#     if string_.isalpha() and string_.isnumeric():\n",
    "#         print(\"atlest one character is aplhabet and numeric\")\n",
    "#     else:\n",
    "#         print(\"not alpha numeric\")\n",
    "# test_str_2= \"abhisheksingh\"\n",
    "# check_alpha_num(test_str_2)"
   ]
  },
  {
   "cell_type": "code",
   "execution_count": 14,
   "metadata": {},
   "outputs": [
    {
     "name": "stdout",
     "output_type": "stream",
     "text": [
      "True\n",
      "False\n"
     ]
    }
   ],
   "source": [
    "def check_for_alph_num(string_1):\n",
    "    flag_1= False\n",
    "    flag_2= False\n",
    "    for i in string_1:\n",
    "        if i.isalpha():\n",
    "            flag_1= True\n",
    "            \n",
    "        if i.isdigit():\n",
    "            flag_2= True\n",
    "            \n",
    "    return flag_1 and flag_2\n",
    "\n",
    "#driver code\n",
    "if __name__==\"__main__\":\n",
    "    string_1= \"helloAbhihse123\"\n",
    "    string_2= \"abhisheksingh\"\n",
    "    print(check_for_alph_num(string_1))\n",
    "    print(check_for_alph_num(string_2))"
   ]
  },
  {
   "cell_type": "markdown",
   "metadata": {},
   "source": [
    "### *Program to accept the strings which contains all vowels "
   ]
  },
  {
   "cell_type": "markdown",
   "metadata": {},
   "source": [
    "\n",
    "Input : geeksforgeeks\n",
    "Output : Not Accepted\n",
    "All vowels except 'o' are not present\n",
    "\n",
    "Input : ABeeIghiObhkUul\n",
    "Output : Accepted\n",
    "All vowels are present"
   ]
  },
  {
   "cell_type": "code",
   "execution_count": 15,
   "metadata": {},
   "outputs": [
    {
     "name": "stdout",
     "output_type": "stream",
     "text": [
      "all voewels present\n"
     ]
    }
   ],
   "source": [
    "string_1= \"aeiouabhishentopqumbrella\"\n",
    "\n",
    "if len(set(string_1.lower()).intersection(\"aeiou\"))>=5:\n",
    "    print(\"all voewels present\")\n",
    "else:\n",
    "    print(\"not present\")"
   ]
  },
  {
   "cell_type": "code",
   "execution_count": 16,
   "metadata": {},
   "outputs": [
    {
     "name": "stdout",
     "output_type": "stream",
     "text": [
      "Accepted\n"
     ]
    }
   ],
   "source": [
    "import re\n",
    " \n",
    "sampleInput = \"aeioAEiuioea\"\n",
    " \n",
    "\n",
    "c = re.compile('[^aeiouAEIOU]')\n",
    " \n",
    "# use findall() to get the list of strings\n",
    "# that have characters other than a,e,i,o and u.\n",
    "if(len(c.findall(sampleInput))):\n",
    "    print(\"Not Accepted\") # if length of list > 0 then it is not accepted\n",
    "else:\n",
    "    print(\"Accepted\") # if length of list = 0 then it is accepted"
   ]
  },
  {
   "cell_type": "code",
   "execution_count": 17,
   "metadata": {},
   "outputs": [],
   "source": [
    "def check_for_all_vowels(string):\n",
    "    string.lower()\n",
    "    set(\"aeiou\")\n",
    "    s= set({})\n",
    "    "
   ]
  },
  {
   "cell_type": "code",
   "execution_count": 18,
   "metadata": {},
   "outputs": [],
   "source": [
    "#check for prime num\n",
    "# def check_for_prime_num(num):\n",
    "#     if num<=0:\n",
    "#         return \"not prime\"\n",
    "#     for i in range(2, num):\n",
    "#         if num%i==0:\n",
    "#             return \"not prime\"\n",
    "#         else:\n",
    "#             return \"prime\"\n",
    "# num= int(input(\"enter number: \"))\n",
    "# check_for_prime_num(num)\n",
    "\n",
    "\n",
    "# #check for factorial\n",
    "# def factorial_of_num(num):\n",
    "#     if num<0:\n",
    "#         return 0\n",
    "#     if num==0 or num ==1:\n",
    "#         return 1\n",
    "#     else:\n",
    "#         fact= 1\n",
    "#         while(num>1):\n",
    "#             fact*=num\n",
    "#             num-=1\n",
    "#         return fact\n",
    "# num= int(input(\"enter the number: \"))\n",
    "# factorial_of_num(num)"
   ]
  },
  {
   "cell_type": "code",
   "execution_count": 19,
   "metadata": {},
   "outputs": [
    {
     "name": "stdout",
     "output_type": "stream",
     "text": [
      "False\n",
      "True\n"
     ]
    }
   ],
   "source": [
    "def check_vowels(string):\n",
    "    if len(set(string.lower()).intersection(\"aeiou\"))>=5:\n",
    "        return True\n",
    "    else:\n",
    "        return False\n",
    "string= \"ahishek\"\n",
    "string_2= \"aeifrtojsbu\"\n",
    "print(check_vowels(string))\n",
    "print(check_vowels(string_2))"
   ]
  },
  {
   "cell_type": "code",
   "execution_count": 20,
   "metadata": {},
   "outputs": [
    {
     "data": {
      "text/plain": [
       "True"
      ]
     },
     "execution_count": 20,
     "metadata": {},
     "output_type": "execute_result"
    }
   ],
   "source": [
    "def check_vowel_in_string(string):\n",
    "    vowels= ['a','e','i','o','u']\n",
    "    s= set({})\n",
    "    for char in string:\n",
    "        if char in vowels:\n",
    "            s.add(char)\n",
    "        else:\n",
    "            pass\n",
    "        \n",
    "    if len(s)== len(vowels):\n",
    "        return True\n",
    "    else: \n",
    "        return False\n",
    "string= \"aeioursjdfk\"\n",
    "check_vowel_in_string(string)"
   ]
  },
  {
   "cell_type": "code",
   "execution_count": 21,
   "metadata": {},
   "outputs": [
    {
     "data": {
      "text/plain": [
       "False"
      ]
     },
     "execution_count": 21,
     "metadata": {},
     "output_type": "execute_result"
    }
   ],
   "source": [
    "string_1= 'sdhgfkjefcd'\n",
    "check_vowel_in_string(string_1)"
   ]
  },
  {
   "cell_type": "markdown",
   "metadata": {},
   "source": [
    "### Count the Number of matching characters in a pair of string"
   ]
  },
  {
   "cell_type": "code",
   "execution_count": 22,
   "metadata": {},
   "outputs": [
    {
     "name": "stdout",
     "output_type": "stream",
     "text": [
      "total matching characters are: {'g', 'a', 'i', 'b', 'h', 'n', 's'}\n",
      "count: 7\n"
     ]
    }
   ],
   "source": [
    "def matching_characters(string_1, string_2):\n",
    "    matching_char= set({})\n",
    "    \n",
    "    for i in range(len(string_1)):\n",
    "        \n",
    "        for j in range(len(string_2)):\n",
    "            count= 0\n",
    "            if string_1[i] == string_2[j]:\n",
    "                matching_char.add(string_1[i])\n",
    "                \n",
    "            else:\n",
    "                pass\n",
    "    return \"total matching characters are: {}\".format(matching_char)\n",
    "string_1= \"abhisheksingh\"\n",
    "string_2= \"abhisingjihi\"\n",
    "print(matching_characters(string_1, string_2))\n",
    "set_string_1= set(string_1)\n",
    "set_string_2= set(string_2)\n",
    "matched_character= set_string_1 & set_string_2\n",
    "print(\"count: {}\".format(len(matched_character)))"
   ]
  },
  {
   "cell_type": "markdown",
   "metadata": {},
   "source": [
    "### count number of vowels using sets in given string"
   ]
  },
  {
   "cell_type": "code",
   "execution_count": 23,
   "metadata": {},
   "outputs": [
    {
     "data": {
      "text/plain": [
       "\"total matched vowels: 4 and they are: {'e', 'a', 'i', 'u'}\""
      ]
     },
     "execution_count": 23,
     "metadata": {},
     "output_type": "execute_result"
    }
   ],
   "source": [
    "def check_for_vowels_in_string(string_1):\n",
    "    vowels= set({'a', 'e', 'i','o', 'u'})\n",
    "    vowels_matched= set({})\n",
    "    for char in string_1: \n",
    "        if char in vowels:\n",
    "            vowels_matched.add(char)\n",
    "        else: \n",
    "            pass\n",
    "    set_string_1= set(string_1)\n",
    "    matched_charac= len(set_string_1 & vowels)\n",
    "    \n",
    "    return \"total matched vowels: {} and they are: {}\". format(matched_charac, vowels_matched)\n",
    "\n",
    "string_1= \"abhishkekkumarsingh\"\n",
    "check_for_vowels_in_string(string_1)            "
   ]
  },
  {
   "cell_type": "markdown",
   "metadata": {},
   "source": [
    "### Remove all duplicates from a given string"
   ]
  },
  {
   "cell_type": "code",
   "execution_count": 24,
   "metadata": {},
   "outputs": [],
   "source": [
    "# s= set(string_1)\n",
    "# print(\"s:\", s)\n",
    "# print(\"string_1\", string_1)\n",
    "# s= ' '.join(s)\n",
    "# print(\"joining s: \", s )\n",
    "# t= \"\"\n",
    "# for i in string_1:\n",
    "#     if i in t:\n",
    "#         pass\n",
    "#     else:\n",
    "#         t= t+i\n",
    "# print(\"with order: \", t)"
   ]
  },
  {
   "cell_type": "code",
   "execution_count": 25,
   "metadata": {},
   "outputs": [
    {
     "name": "stdout",
     "output_type": "stream",
     "text": [
      "{'g', 'a', 'i', 'r', 'b', 'h', 'n', 'k', 'u', 'm', 'e', 's'}\n"
     ]
    },
    {
     "data": {
      "text/plain": [
       "'abhiskeumrng'"
      ]
     },
     "execution_count": 25,
     "metadata": {},
     "output_type": "execute_result"
    }
   ],
   "source": [
    "def remove_duplicate_characters(string_1):\n",
    "    s =set(string_1) # it will remove all duplicacy without order\n",
    "    print(s)\n",
    "    # to remove duplicate charac with order\n",
    "    t= \"\"\n",
    "    for char in string_1:\n",
    "        if char in t:\n",
    "            pass\n",
    "        else:\n",
    "            t= t+ char #note: .add or .appeend is not applicable for string. if you use, then it will show error\n",
    "            \n",
    "    return t\n",
    "remove_duplicate_characters(string_1)"
   ]
  },
  {
   "cell_type": "markdown",
   "metadata": {},
   "source": [
    "### Least Frequent Character in String"
   ]
  },
  {
   "cell_type": "code",
   "execution_count": 26,
   "metadata": {},
   "outputs": [
    {
     "name": "stdout",
     "output_type": "stream",
     "text": [
      "minimum frequent character: 'o'\n"
     ]
    }
   ],
   "source": [
    "freq= {}\n",
    "def least_frequent_char(string):\n",
    "    \n",
    "    for i in string:\n",
    "        if i in freq:\n",
    "            freq[i]+=1\n",
    "        else:\n",
    "            freq[i] =1\n",
    "            \n",
    "\n",
    "string= \"helloAbhishek\"\n",
    "least_frequent_char(string)\n",
    "res= min(freq, key= freq.get)\n",
    "print(\"minimum frequent character: '{}'\".format(res))"
   ]
  },
  {
   "cell_type": "markdown",
   "metadata": {},
   "source": [
    "### maximum frequency character"
   ]
  },
  {
   "cell_type": "code",
   "execution_count": 27,
   "metadata": {},
   "outputs": [
    {
     "name": "stdout",
     "output_type": "stream",
     "text": [
      "maximum frequent character: {'h': 3, 'e': 2, 'l': 2, 'o': 1, 'A': 1, 'b': 1, 'i': 1, 's': 1, 'k': 1}\n"
     ]
    }
   ],
   "source": [
    "freq_max= {}\n",
    "def max_freq_char(string_2):\n",
    "    for i in string_2:\n",
    "        if i in freq_max:\n",
    "            freq_max[i]+=1\n",
    "        else:\n",
    "            freq_max[i]=1\n",
    "            \n",
    "string_2= \"helloAbhishek\"\n",
    "max_freq_char(string_2)\n",
    "res= max(freq_max, key= freq_max.get)\n",
    "print(\"maximum frequent character: {}\".format(freq_max))"
   ]
  },
  {
   "cell_type": "markdown",
   "metadata": {},
   "source": [
    "### odd frequency characters in string"
   ]
  },
  {
   "cell_type": "code",
   "execution_count": 28,
   "metadata": {},
   "outputs": [
    {
     "name": "stdout",
     "output_type": "stream",
     "text": [
      "if all characters in string are odd in number count:  False\n"
     ]
    }
   ],
   "source": [
    "#program for if all characters are odd in count\n",
    "\n",
    "from collections import Counter\n",
    "\n",
    "def odd_freq_charc(string_2):\n",
    "    freq= Counter(string_2)\n",
    "    for i in freq:\n",
    "        if freq[i]%2==0:\n",
    "            return False\n",
    "        \n",
    "    return True\n",
    "print(\"if all characters in string are odd in number count: \", odd_freq_charc(string_2))"
   ]
  },
  {
   "cell_type": "markdown",
   "metadata": {},
   "source": [
    "#### *using list comprehension + defaultdict \n",
    "objective: to print characters which are odd in numbers"
   ]
  },
  {
   "cell_type": "code",
   "execution_count": 29,
   "metadata": {},
   "outputs": [
    {
     "name": "stdout",
     "output_type": "stream",
     "text": [
      "['e', 'o', 'b', 'i', 's', 'k', 'w', 'r', 'y', 'u']\n"
     ]
    }
   ],
   "source": [
    "from collections import defaultdict\n",
    "\n",
    "def check_for_old_char(string_var):\n",
    "    dict_int_values= defaultdict(int)\n",
    "    for i in string_var:\n",
    "        dict_int_values[i]+=1\n",
    "        \n",
    "    return [val for val, chr in dict_int_values.items() if chr %2 != 0]\n",
    "\n",
    "string_var= \"hello abhishek how are you\"\n",
    "print(check_for_old_char(string_var))"
   ]
  },
  {
   "cell_type": "markdown",
   "metadata": {},
   "source": [
    "### *specific character frequency in string"
   ]
  },
  {
   "cell_type": "code",
   "execution_count": 30,
   "metadata": {},
   "outputs": [
    {
     "name": "stdout",
     "output_type": "stream",
     "text": [
      "specific character {'h': 4, 'e': 2, 'a': 1}: \n"
     ]
    }
   ],
   "source": [
    "from collections import Counter\n",
    "\n",
    "def spec_char_freq_string(string, checklist):\n",
    "    # dict comprehension to retrieve on certain Frequencies\n",
    "    res = {key:val for key, val in dict(Counter(\"\".join(string))).items() if key in checklist}\n",
    "    print(\"specific character {}: \".format(str(res)))\n",
    "\n",
    "string= [\"hello abhishek singh\"]\n",
    "checklist= {'a','e','h'}\n",
    "spec_char_freq_string(string, checklist)"
   ]
  },
  {
   "cell_type": "code",
   "execution_count": 31,
   "metadata": {},
   "outputs": [],
   "source": [
    "# matrix = []\n",
    " \n",
    "# for i in range(3):\n",
    "     \n",
    "#     # Append an empty sublist inside the list\n",
    "#     matrix.append([])\n",
    "     \n",
    "#     for j in range(5):\n",
    "#         matrix[i].append(j)\n",
    "         \n",
    "# print(matrix)"
   ]
  },
  {
   "cell_type": "markdown",
   "metadata": {},
   "source": [
    "### *frequency of number in string"
   ]
  },
  {
   "cell_type": "code",
   "execution_count": 32,
   "metadata": {},
   "outputs": [
    {
     "name": "stdout",
     "output_type": "stream",
     "text": [
      "the original string is:  abhishek2 1 2 7\n"
     ]
    },
    {
     "data": {
      "text/plain": [
       "\"the number's count in string is: 4\""
      ]
     },
     "execution_count": 32,
     "metadata": {},
     "output_type": "execute_result"
    }
   ],
   "source": [
    "import re\n",
    "string= \"abhishek2 1 2 7\"\n",
    "def freq_num_in_string(string):\n",
    "    print(\"the original string is: \", string)\n",
    "    res= len(re.findall(r'\\d+', string))\n",
    "    return \"the number's count in string is: {}\".format(str(res))\n",
    "freq_num_in_string(string)                        "
   ]
  },
  {
   "cell_type": "markdown",
   "metadata": {},
   "source": [
    "### check for if there is any special charcters "
   ]
  },
  {
   "cell_type": "code",
   "execution_count": 33,
   "metadata": {},
   "outputs": [
    {
     "name": "stdout",
     "output_type": "stream",
     "text": [
      "accepted\n"
     ]
    }
   ],
   "source": [
    "import re \n",
    "string= \"abhishe#@$%!\"\n",
    "def check_spec_char(string):\n",
    "    regex= re.compile('[{}\\|?()<>@!#$%^&*~:]')\n",
    "    if regex.search(string)==None:\n",
    "        print(\"not accepted\")\n",
    "    else:\n",
    "        print(\"accepted\")\n",
    "    \n",
    "check_spec_char(string)"
   ]
  },
  {
   "cell_type": "markdown",
   "metadata": {},
   "source": [
    "### *Generating random string until original string is not achieved"
   ]
  },
  {
   "cell_type": "code",
   "execution_count": 34,
   "metadata": {},
   "outputs": [
    {
     "name": "stdout",
     "output_type": "stream",
     "text": [
      ":8;j\n",
      "2901\n",
      "NQwL\n",
      "zuFf\n",
      "cOVK\n",
      "8;4;\n",
      "9N9o\n",
      "ZM5d\n",
      "ar8p\n",
      "aOhW\n",
      "aJhj\n",
      "a2hg\n",
      "a9h;\n",
      "aEhP\n",
      "a3hf\n",
      "aShO\n",
      "a:hY\n",
      "aRh7\n",
      "arhv\n",
      "anhr\n",
      "akh1\n",
      "achV\n",
      "aoh1\n",
      "alhC\n",
      "a?hZ\n",
      "aJh0\n",
      "aOh?\n",
      "a?hv\n",
      "aRh8\n",
      "aHhu\n",
      "aHhi\n",
      "aMhi\n",
      "aYhi\n",
      "aZhi\n",
      "aQhi\n",
      "azhi\n",
      "aOhi\n",
      "aHhi\n",
      "aBhi\n",
      "aKhi\n",
      "awhi\n",
      "aThi\n",
      "aVhi\n",
      "adhi\n",
      "aShi\n",
      "aAhi\n",
      "akhi\n",
      "aZhi\n",
      "aLhi\n",
      "aNhi\n",
      "a0hi\n",
      "aWhi\n",
      "aahi\n",
      "aWhi\n",
      "aRhi\n",
      "ayhi\n",
      "a4hi\n",
      "a7hi\n",
      "achi\n",
      "aIhi\n",
      "aOhi\n",
      "a7hi\n",
      "ashi\n",
      "aIhi\n",
      "aNhi\n",
      "a1hi\n",
      "a;hi\n",
      "aGhi\n",
      "aLhi\n",
      "amhi\n",
      "aqhi\n",
      "awhi\n",
      "amhi\n",
      "aJhi\n",
      "anhi\n",
      "axhi\n",
      "avhi\n",
      "auhi\n",
      "aThi\n",
      "aVhi\n",
      "aehi\n",
      "aqhi\n",
      "a8hi\n",
      "a6hi\n",
      "aBhi\n",
      "aUhi\n",
      "axhi\n",
      "aShi\n",
      "aihi\n",
      "afhi\n",
      "afhi\n",
      "aShi\n",
      "a2hi\n",
      "aIhi\n",
      "aChi\n",
      "ashi\n",
      "aEhi\n",
      "aQhi\n",
      "a6hi\n",
      "aVhi\n",
      "aZhi\n",
      "aQhi\n",
      "ashi\n",
      "aihi\n",
      "afhi\n",
      "aHhi\n",
      "a1hi\n",
      "aVhi\n",
      "aGhi\n",
      "aAhi\n",
      "aShi\n",
      "aVhi\n",
      "aVhi\n",
      "abhi\n",
      "the iteration before getting the exact string:  114\n"
     ]
    }
   ],
   "source": [
    "import string\n",
    "import time\n",
    "import random\n",
    "\n",
    "possible_charac= string.ascii_lowercase+ string.digits+string.ascii_uppercase+ '.,;:?'\n",
    "test_string= \"abhi\"\n",
    "iteration= 0\n",
    "attempt_current= ''.join(random.choice(possible_charac) for i in range(len(test_string)))\n",
    "attempt_next= ''\n",
    "completed= False\n",
    "while completed == False:\n",
    "    print(attempt_current)\n",
    "    attempt_next= ''\n",
    "    \n",
    "    completed= True\n",
    "    for i in range(len(test_string)):\n",
    "        if attempt_current[i]!=test_string[i]:\n",
    "            completed= False\n",
    "            attempt_next+= ''.join(random.choice(possible_charac))\n",
    "        else:\n",
    "            attempt_next+= test_string[i]\n",
    "            \n",
    "    iteration+= 1\n",
    "    attempt_current= attempt_next\n",
    "    time.sleep(0.1)\n",
    "\n",
    "print(\"the iteration before getting the exact string: \", iteration)\n",
    "            "
   ]
  },
  {
   "cell_type": "markdown",
   "metadata": {},
   "source": [
    "### Find words which are greater than given length k"
   ]
  },
  {
   "cell_type": "code",
   "execution_count": 35,
   "metadata": {},
   "outputs": [
    {
     "data": {
      "text/plain": [
       "['hello', 'abhishek', 'world', 'world', 'better']"
      ]
     },
     "execution_count": 35,
     "metadata": {},
     "output_type": "execute_result"
    }
   ],
   "source": [
    "test_string= \"hello this is abhishek world and you will know the world in better way\"\n",
    "\n",
    "def check_word_greter_than_k(k, string):\n",
    "    #greater_than_k_length= {} #it will show error as dict object doesn't have append attribute\n",
    "    greater_than_k_length= []\n",
    "    text= string.split(' ')\n",
    "    for i in text:\n",
    "        if len(i)> k:\n",
    "            greater_than_k_length.append(i)\n",
    "    return  greater_than_k_length\n",
    "check_word_greter_than_k(4, test_string)"
   ]
  },
  {
   "cell_type": "markdown",
   "metadata": {},
   "source": [
    "### Program for removing i-th character from a string"
   ]
  },
  {
   "cell_type": "markdown",
   "metadata": {},
   "source": [
    "#### approach 1: using indexing"
   ]
  },
  {
   "cell_type": "code",
   "execution_count": 36,
   "metadata": {},
   "outputs": [
    {
     "data": {
      "text/plain": [
       "'abhsheksingh'"
      ]
     },
     "execution_count": 36,
     "metadata": {},
     "output_type": "execute_result"
    }
   ],
   "source": [
    "string= \"abhisheksingh\"\n",
    "def remove_string(i, string):\n",
    "    a= string[:i]\n",
    "    b= string[i+1:]\n",
    "    return a+b\n",
    "remove_string(3, string)"
   ]
  },
  {
   "cell_type": "markdown",
   "metadata": {},
   "source": [
    "#### approach 2: replace with space"
   ]
  },
  {
   "cell_type": "code",
   "execution_count": 37,
   "metadata": {},
   "outputs": [
    {
     "data": {
      "text/plain": [
       "'abhiheksingh'"
      ]
     },
     "execution_count": 37,
     "metadata": {},
     "output_type": "execute_result"
    }
   ],
   "source": [
    "def remove_string_2(i, string):\n",
    "    for j in range(len(string)):\n",
    "        if j==i :\n",
    "            text= string.replace(string[i], '', 1)\n",
    "    return text\n",
    "\n",
    "remove_string_2(4, string)"
   ]
  },
  {
   "cell_type": "markdown",
   "metadata": {},
   "source": [
    "### Program to split and join a string"
   ]
  },
  {
   "cell_type": "code",
   "execution_count": 38,
   "metadata": {},
   "outputs": [
    {
     "name": "stdout",
     "output_type": "stream",
     "text": [
      "After splitting, the string is:  ['hello', 'abhishek', 'singh']\n",
      "After split and join, the strig is:  hello-abhishek-singh\n"
     ]
    }
   ],
   "source": [
    "string_entered= \"hello abhishek singh\"\n",
    "def split_the_string(string_entered):\n",
    "    string_now= string_entered.split(' ')\n",
    "    return string_now\n",
    "print(\"After splitting, the string is: \", split_the_string(string_entered))\n",
    "\n",
    "def join_splitted_string(list_string):\n",
    "    final_string= '-'.join(list_string)\n",
    "    return final_string \n",
    "\n",
    "#driver function\n",
    "if __name__==\"__main__\":\n",
    "    list_string= split_the_string(string_entered)\n",
    "    print(\"After split and join, the strig is: \",join_splitted_string(list_string))"
   ]
  },
  {
   "cell_type": "markdown",
   "metadata": {},
   "source": [
    "### Check if a given string is binary string or not"
   ]
  },
  {
   "cell_type": "code",
   "execution_count": 39,
   "metadata": {},
   "outputs": [
    {
     "name": "stdout",
     "output_type": "stream",
     "text": [
      "string 1 is: \n",
      "binary\n",
      "string 2 is: \n",
      "not binary\n"
     ]
    }
   ],
   "source": [
    "#using regular expression\n",
    "import re\n",
    "def binary_or_not(string):\n",
    "    text= re.compile('[^01]')\n",
    "    if len(text.findall(string)):\n",
    "        print(\"not binary\")\n",
    "    else:\n",
    "        print(\"binary\")\n",
    "string_1= \"011110\"\n",
    "string_2= \"abhi321\"\n",
    "print(\"string 1 is: \")\n",
    "binary_or_not( string_1)\n",
    "print(\"string 2 is: \")\n",
    "binary_or_not( string_2)"
   ]
  },
  {
   "cell_type": "code",
   "execution_count": 40,
   "metadata": {},
   "outputs": [
    {
     "name": "stdout",
     "output_type": "stream",
     "text": [
      "the string is:  not binary\n"
     ]
    }
   ],
   "source": [
    "#using genralize method\n",
    "def binary_or_not(string):\n",
    "    s= set(string)\n",
    "    p= {0,1}\n",
    "    \n",
    "    if s== p or s== {'0'} or s== {'1'}:\n",
    "        print(\"binary\")\n",
    "    else:\n",
    "        print(\"not binary\")\n",
    "string= \"0202021\"\n",
    "print(\"the string is: \", end = \" \")\n",
    "binary_or_not(string)"
   ]
  },
  {
   "cell_type": "markdown",
   "metadata": {},
   "source": [
    "### Find close matches of the world"
   ]
  },
  {
   "cell_type": "code",
   "execution_count": 43,
   "metadata": {},
   "outputs": [
    {
     "name": "stdout",
     "output_type": "stream",
     "text": [
      "['apple', 'ape']\n"
     ]
    }
   ],
   "source": [
    "from difflib import get_close_matches\n",
    "def closeMatches(patterns, word):\n",
    "     print(get_close_matches(word, patterns))\n",
    "patterns = ['ape', 'apple','peach', 'puppy']\n",
    "word = 'appel'\n",
    "closeMatches(patterns, word)"
   ]
  },
  {
   "cell_type": "markdown",
   "metadata": {},
   "source": [
    "### Find uncommon words from two Strings"
   ]
  },
  {
   "cell_type": "code",
   "execution_count": 44,
   "metadata": {},
   "outputs": [
    {
     "data": {
      "text/plain": [
       "\"uncommon words ['Learning', 'from']:\""
      ]
     },
     "execution_count": 44,
     "metadata": {},
     "output_type": "execute_result"
    }
   ],
   "source": [
    "A = \"Geeks for Geeks\" \n",
    "B = \"Learning from Geeks for Geeks\"\n",
    "word_list= []\n",
    "\n",
    "def uncommon_words(A, B):\n",
    "    for i in A.split():\n",
    "        if i not in B.split():\n",
    "            word_list.append(i)\n",
    "        else:\n",
    "            pass\n",
    "    for j in B.split():\n",
    "        if j not in A.split():\n",
    "            word_list.append(j)\n",
    "            \n",
    "        else:\n",
    "            pass\n",
    "        \n",
    "    return  'uncommon words {}:'.format(word_list)\n",
    "uncommon_words(A, B)\n",
    "            "
   ]
  },
  {
   "cell_type": "markdown",
   "metadata": {},
   "source": [
    "### Swap commas and dots in a String"
   ]
  },
  {
   "cell_type": "code",
   "execution_count": 45,
   "metadata": {},
   "outputs": [
    {
     "data": {
      "text/plain": [
       "'geeks . for . geeks , is . ,'"
      ]
     },
     "execution_count": 45,
     "metadata": {},
     "output_type": "execute_result"
    }
   ],
   "source": [
    "a= \"geeks , for , geeks . is , .\"\n",
    "def swap_the_character(string):\n",
    "    string= string.replace(',', 'new')\n",
    "    string= string.replace('.',',')\n",
    "    string= string.replace('new', '.')\n",
    "    return string\n",
    "    \n",
    "swap_the_character(a)"
   ]
  },
  {
   "cell_type": "markdown",
   "metadata": {},
   "source": [
    "### Permutation of characters in word"
   ]
  },
  {
   "cell_type": "code",
   "execution_count": 46,
   "metadata": {},
   "outputs": [
    {
     "name": "stdout",
     "output_type": "stream",
     "text": [
      "Abhi Abih Ahbi Ahib Aibh Aihb bAhi bAih bhAi bhiA biAh bihA hAbi hAib hbAi hbiA hiAb hibA iAbh iAhb ibAh ibhA ihAb ihbA "
     ]
    }
   ],
   "source": [
    "from itertools import permutations\n",
    "import string\n",
    "word= \"Abhi\"\n",
    "a= permutations(word)\n",
    "\n",
    "d= []\n",
    "for i in list(a):\n",
    "    if i not in d:\n",
    "        d.append(i)\n",
    "        print(\"\".join(i), end= \" \")\n"
   ]
  },
  {
   "cell_type": "markdown",
   "metadata": {},
   "source": [
    "### *Check for URL in a String"
   ]
  },
  {
   "cell_type": "code",
   "execution_count": 47,
   "metadata": {},
   "outputs": [
    {
     "name": "stdout",
     "output_type": "stream",
     "text": [
      "Urls:  ['https://auth.geeksforgeeks.org/user/Chinmoy%20Lenka/articles', 'http://www.geeksforgeeks.org/']\n"
     ]
    }
   ],
   "source": [
    "\"\"\"Input : string = 'My Profile: \n",
    "https://auth.geeksforgeeks.org/user/Chinmoy%20Lenka/articles \n",
    "in the portal of http://www.geeksforgeeks.org/'\n",
    "\n",
    "Output : URLs :  ['https://auth.geeksforgeeks.org/user/Chinmoy%20Lenka/articles',\n",
    "'http://www.geeksforgeeks.org/']\"\"\"\n",
    "# Python code to find the URL from an input string\n",
    "# Using the regular expression\n",
    "import re\n",
    "\n",
    "def Find(string):\n",
    "\n",
    "\t# findall() has been used\n",
    "\t# with valid conditions for urls in string\n",
    "\tregex = r\"(?i)\\b((?:https?://|www\\d{0,3}[.]|[a-z0-9.\\-]+[.][a-z]{2,4}/)(?:[^\\s()<>]+|\\(([^\\s()<>]+|(\\([^\\s()<>]+\\)))*\\))+(?:\\(([^\\s()<>]+|(\\([^\\s()<>]+\\)))*\\)|[^\\s`!()\\[\\]{};:'\\\".,<>?«»“”‘’]))\"\n",
    "\turl = re.findall(regex,string)\t\n",
    "\treturn [x[0] for x in url]\n",
    "\t\n",
    "# Driver Code\n",
    "string = 'My Profile: https://auth.geeksforgeeks.org/user/Chinmoy%20Lenka/articles in the portal of http://www.geeksforgeeks.org/'\n",
    "print(\"Urls: \", Find(string))"
   ]
  },
  {
   "cell_type": "markdown",
   "metadata": {},
   "source": [
    "### Execute a String of words in Python"
   ]
  },
  {
   "cell_type": "code",
   "execution_count": 51,
   "metadata": {},
   "outputs": [
    {
     "data": {
      "text/plain": [
       "'\\nOutput:\\n120\\nExplanation:\\nOn executing the program cantaining the \\nvariable in Python we must get the result \\nafter executing the content of the variable.'"
      ]
     },
     "execution_count": 51,
     "metadata": {},
     "output_type": "execute_result"
    }
   ],
   "source": [
    "\"\"\"Input:\n",
    "code = a = 6+5\n",
    "          print(a)\n",
    "Output:\n",
    "11\n",
    "Explanation:\n",
    "Mind it that \"code\" is a variable and\n",
    "not python code. It contains another code, \n",
    "which we need to execute.\n",
    "\"\"\"\n",
    "\"\"\"\n",
    "Input:\n",
    "\n",
    "\n",
    "code =  def factorial(num):\n",
    "               for i in range(1,num+1):\n",
    "                   fact = fact*i\n",
    "               return fact\n",
    "           print(factorial(5)) \"\"\"\n",
    "            \n",
    "\"\"\"\n",
    "Output:\n",
    "120\n",
    "Explanation:\n",
    "On executing the program cantaining the \n",
    "variable in Python we must get the result \n",
    "after executing the content of the variable.\"\"\"\n",
    "\n",
    "# Python program to illustrate use of exec to\n",
    "# execute a given code as string.\n",
    "\n",
    "# function illustrating how exec() functions.\n"
   ]
  },
  {
   "cell_type": "code",
   "execution_count": 49,
   "metadata": {},
   "outputs": [
    {
     "name": "stdout",
     "output_type": "stream",
     "text": [
      "120\n"
     ]
    }
   ],
   "source": [
    "def exec_code():\n",
    "    \n",
    "\tLOC = \"\"\"\n",
    "def factorial(num):\n",
    "\tfact=1\n",
    "\tfor i in range(1,num+1):\n",
    "\t\tfact = fact*i\n",
    "\treturn fact\n",
    "print(factorial(5))\n",
    "\"\"\"\n",
    "\texec(LOC)\n",
    "\t\n",
    "# Driver Code\n",
    "exec_code()\n"
   ]
  },
  {
   "cell_type": "code",
   "execution_count": null,
   "metadata": {},
   "outputs": [],
   "source": []
  }
 ],
 "metadata": {
  "kernelspec": {
   "display_name": "Python 3",
   "language": "python",
   "name": "python3"
  },
  "language_info": {
   "codemirror_mode": {
    "name": "ipython",
    "version": 3
   },
   "file_extension": ".py",
   "mimetype": "text/x-python",
   "name": "python",
   "nbconvert_exporter": "python",
   "pygments_lexer": "ipython3",
   "version": "3.6.9"
  }
 },
 "nbformat": 4,
 "nbformat_minor": 4
}
