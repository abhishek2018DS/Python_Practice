{
 "cells": [
  {
   "cell_type": "markdown",
   "metadata": {},
   "source": [
    "## Function practice"
   ]
  },
  {
   "cell_type": "markdown",
   "metadata": {},
   "source": [
    "### Problem 1: "
   ]
  },
  {
   "cell_type": "code",
   "execution_count": 1,
   "metadata": {},
   "outputs": [
    {
     "name": "stdout",
     "output_type": "stream",
     "text": [
      "7\n"
     ]
    }
   ],
   "source": [
    "# Write a Python function to find the Max of three numbers.\n",
    "def max_of_two(x,y):\n",
    "    if x>y:\n",
    "        return x\n",
    "    return y\n",
    "def max_of_three(x,y,z):\n",
    "    return max_of_two(x, max_of_two(y,z))\n",
    "x,y,z = 4,7,2\n",
    "print(max_of_three(x,y,z))\n"
   ]
  },
  {
   "cell_type": "markdown",
   "metadata": {},
   "source": [
    "### Problem 2:"
   ]
  },
  {
   "cell_type": "code",
   "execution_count": 1,
   "metadata": {},
   "outputs": [
    {
     "name": "stdout",
     "output_type": "stream",
     "text": [
      "20\n"
     ]
    }
   ],
   "source": [
    "\"\"\"\n",
    "Problem_2\n",
    "#Write a Python function to sum all the numbers in a list. \n",
    "Sample List : (8, 2, 3, 0, 7)\n",
    "Expected Output : 20\n",
    "\"\"\"\n",
    "def sum_of_list(numbers):\n",
    "    total= 0\n",
    "    for i in numbers:\n",
    "        total += i\n",
    "        \n",
    "    return total\n",
    "numbers= [8,2,3,0,7]\n",
    "print(sum_of_list(numbers))"
   ]
  },
  {
   "cell_type": "markdown",
   "metadata": {},
   "source": [
    "### Problem 3:"
   ]
  },
  {
   "cell_type": "code",
   "execution_count": 3,
   "metadata": {},
   "outputs": [
    {
     "name": "stdout",
     "output_type": "stream",
     "text": [
      "-336\n"
     ]
    }
   ],
   "source": [
    "\"\"\"\n",
    "Write a Python function to multiply all the numbers in a list.\n",
    "Sample List : (8, 2, 3, -1, 7)\n",
    "Expected Output : -336\n",
    "\"\"\"\n",
    "def num_multiplication_in_list(numbers):\n",
    "    total= 1\n",
    "    for i in numbers:\n",
    "        total= total*i\n",
    "        \n",
    "    return total\n",
    "numbers= [8,2,3,-1,7]\n",
    "print(num_multiplication_in_list(numbers))"
   ]
  },
  {
   "cell_type": "markdown",
   "metadata": {},
   "source": [
    "### Problem 4: "
   ]
  },
  {
   "cell_type": "code",
   "execution_count": 4,
   "metadata": {},
   "outputs": [
    {
     "name": "stdout",
     "output_type": "stream",
     "text": [
      "dcba4321\n"
     ]
    }
   ],
   "source": [
    "\"\"\"\n",
    "problem 4:Write a Python program to reverse a string.\n",
    "Sample String : \"1234abcd\"\n",
    "Expected Output : \"dcba4321\"\n",
    "\"\"\"\n",
    "\n",
    "def rev_string (provide_string):\n",
    "    rev_str= ''\n",
    "    index= len(provide_string)\n",
    "    while index>0:\n",
    "        rev_str+= provide_string[index-1]\n",
    "        index= index-1\n",
    "        \n",
    "    return rev_str\n",
    "\n",
    "provide_string= ['1','2','3','4','a','b','c','d']\n",
    "print(rev_string (provide_string))    "
   ]
  },
  {
   "cell_type": "markdown",
   "metadata": {},
   "source": [
    "### Problem 5: "
   ]
  },
  {
   "cell_type": "code",
   "execution_count": 5,
   "metadata": {},
   "outputs": [
    {
     "name": "stdout",
     "output_type": "stream",
     "text": [
      "enter the number for its factorial: 5\n",
      "120\n"
     ]
    }
   ],
   "source": [
    "\"\"\"\n",
    "problem 5: Write a Python function to calculate the factorial of a number (a non-negative integer).\n",
    "The function accepts the number as an argument.\n",
    "\"\"\"\n",
    "\n",
    "def fact_number(number):\n",
    "    if number ==0:\n",
    "        return 1\n",
    "    else:\n",
    "        return number * fact_number(number-1)\n",
    "    \n",
    "number= int(input(\"enter the number for its factorial: \"))\n",
    "print(fact_number(number))"
   ]
  },
  {
   "cell_type": "markdown",
   "metadata": {},
   "source": [
    "### Problem 6:"
   ]
  },
  {
   "cell_type": "code",
   "execution_count": 6,
   "metadata": {},
   "outputs": [
    {
     "name": "stdout",
     "output_type": "stream",
     "text": [
      "enter the number: 6\n"
     ]
    },
    {
     "data": {
      "text/plain": [
       "'the number is in the range'"
      ]
     },
     "execution_count": 6,
     "metadata": {},
     "output_type": "execute_result"
    }
   ],
   "source": [
    "\"\"\"\n",
    "problem 6: Write a Python function to check whether a number is in a given range.\n",
    "\"\"\"\n",
    "\n",
    "def test_range(num):\n",
    "    if num in range(3,9):\n",
    "        return \"the number is in the range\"\n",
    "    else:\n",
    "        return \"the number is not in range\"\n",
    "num= int(input(\"enter the number: \"))\n",
    "test_range(num)"
   ]
  },
  {
   "cell_type": "markdown",
   "metadata": {},
   "source": [
    "### Problem 7:"
   ]
  },
  {
   "cell_type": "code",
   "execution_count": 7,
   "metadata": {},
   "outputs": [
    {
     "name": "stdout",
     "output_type": "stream",
     "text": [
      "the original string is  The quick Brow Fox:\n",
      "the upper case letter count is:  3\n",
      "the lower case letter count is:  12\n",
      "None\n"
     ]
    }
   ],
   "source": [
    "\"\"\"\n",
    "problem 7. Write a Python function that accepts a string and calculate the number of upper case letters\n",
    "and lower case letters.\n",
    "Sample String : 'The quick Brow Fox'\n",
    "Expected Output :\n",
    "No. of Upper case characters : 3\n",
    "No. of Lower case Characters : 12\n",
    "\n",
    "\"\"\"\n",
    "def upper_lower_count(string):\n",
    "    dic= {\"upper_case\":0, \"lower_case\":0}\n",
    "    for i in string:\n",
    "        if i.isupper():\n",
    "            dic[\"upper_case\"]+=1\n",
    "        elif i.islower():\n",
    "            dic[\"lower_case\"]+=1\n",
    "            \n",
    "        else:\n",
    "            pass\n",
    "        \n",
    "    print(\"the original string is {}:\".format(string))\n",
    "    print(\"the upper case letter count is: \", dic[\"upper_case\"])\n",
    "    print(\"the lower case letter count is: \", dic[\"lower_case\"])\n",
    "        \n",
    "string= \" The quick Brow Fox\"\n",
    "print(upper_lower_count(string))"
   ]
  },
  {
   "cell_type": "markdown",
   "metadata": {},
   "source": [
    "### Problem 8"
   ]
  },
  {
   "cell_type": "code",
   "execution_count": 8,
   "metadata": {},
   "outputs": [
    {
     "data": {
      "text/plain": [
       "[1, 2, 4, 3, 5, 7]"
      ]
     },
     "execution_count": 8,
     "metadata": {},
     "output_type": "execute_result"
    }
   ],
   "source": [
    "\"\"\"\n",
    "problem 8. Write a Python function that takes a list \n",
    "and returns a new list with unique elements of the first list.\n",
    "Sample List : [1,2,3,3,3,3,4,5]\n",
    "Unique List : [1, 2, 3, 4, 5]\n",
    "\"\"\"\n",
    "def unique_element_in_list(sample_list):\n",
    "    x= []\n",
    "    for i in sample_list:\n",
    "        if i not in x:\n",
    "            x.append(i)\n",
    "    return x\n",
    "\n",
    "sample_list= [1,2,4,3,2,1,5,7]\n",
    "unique_element_in_list(sample_list)       "
   ]
  },
  {
   "cell_type": "markdown",
   "metadata": {},
   "source": [
    "### Problem 9:"
   ]
  },
  {
   "cell_type": "code",
   "execution_count": 10,
   "metadata": {},
   "outputs": [
    {
     "name": "stdout",
     "output_type": "stream",
     "text": [
      "enter the number: 9\n"
     ]
    },
    {
     "data": {
      "text/plain": [
       "'not prime'"
      ]
     },
     "execution_count": 10,
     "metadata": {},
     "output_type": "execute_result"
    }
   ],
   "source": [
    "\"\"\"\n",
    "problem 9:  Write a Python function that takes a number as a parameter and check the number is prime or not.\n",
    "\n",
    "Note : A prime number (or a prime) is a natural number greater than 1 \n",
    "and that has no positive divisors other than 1 and itself.\n",
    "\n",
    "\"\"\"\n",
    "\n",
    "def prime_number(number):\n",
    "    if number == 1:\n",
    "        return 'not prime'\n",
    "    elif number== 2:\n",
    "        return 'prime'\n",
    "    else:\n",
    "        for x in range (2, number):\n",
    "            if (number%x == 0):\n",
    "                return 'not prime'\n",
    "        else:\n",
    "            return 'prime'\n",
    "        \n",
    "number= int(input(\"enter the number: \"))\n",
    "prime_number(number)"
   ]
  },
  {
   "cell_type": "markdown",
   "metadata": {},
   "source": [
    "### Problem 10"
   ]
  },
  {
   "cell_type": "code",
   "execution_count": 13,
   "metadata": {},
   "outputs": [
    {
     "name": "stdout",
     "output_type": "stream",
     "text": [
      "enter any number: 14\n"
     ]
    },
    {
     "data": {
      "text/plain": [
       "'even'"
      ]
     },
     "execution_count": 13,
     "metadata": {},
     "output_type": "execute_result"
    }
   ],
   "source": [
    "\"\"\"\n",
    "problem 10: Write a Python program to print the even numbers from a given list.\n",
    "Sample List : [1, 2, 3, 4, 5, 6, 7, 8, 9]\n",
    "Expected Result : [2, 4, 6, 8]\n",
    "\"\"\"\n",
    "\n",
    "def even_number(number):\n",
    "    if number%2 == 0:\n",
    "        return 'even'\n",
    "    else:\n",
    "        return 'odd'\n",
    "number= int(input(\"enter any number: \"))\n",
    "even_number (number)"
   ]
  },
  {
   "cell_type": "markdown",
   "metadata": {},
   "source": [
    "### Problem 11"
   ]
  },
  {
   "cell_type": "code",
   "execution_count": 23,
   "metadata": {},
   "outputs": [
    {
     "data": {
      "text/plain": [
       "'perfect number'"
      ]
     },
     "execution_count": 23,
     "metadata": {},
     "output_type": "execute_result"
    }
   ],
   "source": [
    "\"\"\"\n",
    "problem 11: Write a Python function to check whether a number is perfect or not.\n",
    "According to Wikipedia : In number theory, a perfect number is a positive integer \n",
    "that is equal to the sum of its proper positive divisors, that is, the sum of its positive divisors \n",
    "excluding the number itself (also known as its aliquot sum).\n",
    "Equivalently, a perfect number is a number that is half the sum of all of its positive divisors \n",
    "(including itself).\n",
    "Example : The first perfect number is 6, because 1, 2, and 3 are its proper positive divisors, \n",
    "and 1 + 2 + 3 = 6. Equivalently, the number 6 is equal to half the sum of all its positive divisors: \n",
    "( 1 + 2 + 3 + 6 ) / 2 = 6. The next perfect number is 28 = 1 + 2 + 4 + 7 + 14. \n",
    "This is followed by the perfect numbers 496 and 8128.\n",
    "\"\"\"\n",
    "\n",
    "def perfect_number(number):\n",
    "    sum = 0\n",
    "    for i in range (1, number):\n",
    "        if number %i ==0:\n",
    "            sum+= i\n",
    "    if sum == number: \n",
    "        return 'perfect number'\n",
    "    else:\n",
    "        return 'not perfect number'\n",
    "            \n",
    "    \n",
    "perfect_number(28)"
   ]
  },
  {
   "cell_type": "markdown",
   "metadata": {},
   "source": [
    "### Problem 12:"
   ]
  },
  {
   "cell_type": "code",
   "execution_count": 25,
   "metadata": {},
   "outputs": [
    {
     "data": {
      "text/plain": [
       "'palindrome'"
      ]
     },
     "execution_count": 25,
     "metadata": {},
     "output_type": "execute_result"
    }
   ],
   "source": [
    "\"\"\"\n",
    "problem 12: Write a Python function that checks whether a passed string is palindrome or not.\n",
    "Note: A palindrome is a word, phrase, or sequence that reads the same backward as forward, \n",
    "e.g., madam or nurses run.\n",
    "\"\"\"\n",
    "\n",
    "def palindrome_or_not(string):\n",
    "    str_1= ''\n",
    "    index= len(string)\n",
    "    while index >0:\n",
    "        str_1+= string[index-1]\n",
    "        index= index-1\n",
    "    if str_1 == string:\n",
    "        return 'palindrome'\n",
    "    else:\n",
    "        return 'not palindrome'\n",
    "    \n",
    "palindrome_or_not('saras')"
   ]
  },
  {
   "cell_type": "code",
   "execution_count": 39,
   "metadata": {},
   "outputs": [
    {
     "data": {
      "text/plain": [
       "'palindrom'"
      ]
     },
     "execution_count": 39,
     "metadata": {},
     "output_type": "execute_result"
    }
   ],
   "source": [
    "#second method \n",
    "def palindrom_alternate_method(string):\n",
    "    left_pos= 0\n",
    "    right_pos= len(string)-1\n",
    "    while right_pos >=left_pos:\n",
    "        if not string[left_pos]==string[right_pos]:\n",
    "            return ' not palindrom'\n",
    "        right_pos-=1\n",
    "        left_pos += 1\n",
    "    return 'palindrom'\n",
    "palindrom_alternate_method('saras')"
   ]
  },
  {
   "cell_type": "code",
   "execution_count": 40,
   "metadata": {},
   "outputs": [
    {
     "data": {
      "text/plain": [
       "' not palindrom'"
      ]
     },
     "execution_count": 40,
     "metadata": {},
     "output_type": "execute_result"
    }
   ],
   "source": [
    "palindrom_alternate_method('sarats')"
   ]
  },
  {
   "cell_type": "markdown",
   "metadata": {},
   "source": [
    "### Problem 13"
   ]
  },
  {
   "cell_type": "code",
   "execution_count": 46,
   "metadata": {},
   "outputs": [
    {
     "name": "stdout",
     "output_type": "stream",
     "text": [
      "[1]\n",
      "[1, 1]\n",
      "[1, 2, 1]\n",
      "[1, 3, 3, 1]\n",
      "[1, 4, 6, 4, 1]\n",
      "[1, 5, 10, 10, 5, 1]\n",
      "[1, 6, 15, 20, 15, 6, 1]\n"
     ]
    }
   ],
   "source": [
    "\"\"\"\n",
    "problem 13:  Write a Python function that prints out the first n rows of Pascal's triangle. \n",
    "Note : Pascal's triangle is an arithmetic and geometric figure first imagined by Blaise Pascal.\n",
    "\n",
    "Sample Pascal's triangle :\n",
    "\n",
    "Pascal's triangle\n",
    "Each number is the two numbers above it added together \n",
    "\"\"\"\n",
    "def pascal_triangle(n):\n",
    "    trow= [1]\n",
    "    y= [0]\n",
    "    for i in range(max(n,0)):\n",
    "        print(trow)\n",
    "        trow= [l+r for l,r in zip(trow+y, y+trow)]\n",
    "        \n",
    "    pass\n",
    "\n",
    "pascal_triangle(7)\n"
   ]
  },
  {
   "cell_type": "markdown",
   "metadata": {},
   "source": [
    "### Problem 14"
   ]
  },
  {
   "cell_type": "code",
   "execution_count": 49,
   "metadata": {},
   "outputs": [
    {
     "data": {
      "text/plain": [
       "'pangram'"
      ]
     },
     "execution_count": 49,
     "metadata": {},
     "output_type": "execute_result"
    }
   ],
   "source": [
    "\"\"\"\n",
    "problme 14. Write a Python function to check whether a string is a pangram or not. Go to the editor\n",
    "Note : Pangrams are words or sentences containing every letter of the alphabet at least once.\n",
    "For example : \"The quick brown fox jumps over the lazy dog\"\n",
    "\"\"\"\n",
    "import string\n",
    "def pangram_check(string_1):\n",
    "    alphabt = 'abcdefghijklmnopqrstuvwxyz'\n",
    "    for i in alphabt:\n",
    "        if i not in string_1.lower():\n",
    "            return 'not pangram'\n",
    "        \n",
    "    return 'pangram'\n",
    "\n",
    "string_1= 'The quick brown fox jumps over the lazy dog'\n",
    "pangram_check(string_1)"
   ]
  },
  {
   "cell_type": "code",
   "execution_count": 51,
   "metadata": {},
   "outputs": [
    {
     "name": "stdout",
     "output_type": "stream",
     "text": [
      "True\n"
     ]
    }
   ],
   "source": [
    "#alternative method\n",
    "import string, sys\n",
    "def ispangram(str1, alphabet=string.ascii_lowercase):\n",
    "    alphaset = set(alphabet)\n",
    "    return alphaset <= set(str1.lower())\n",
    " \n",
    "print ( ispangram('The quick brown fox jumps over the lazy dog')) \n"
   ]
  },
  {
   "cell_type": "markdown",
   "metadata": {},
   "source": [
    "### Problem 15: "
   ]
  },
  {
   "cell_type": "code",
   "execution_count": null,
   "metadata": {},
   "outputs": [],
   "source": [
    "\"\"\"\n",
    "problem 15: Write a Python program that accepts a hyphen-separated sequence of words as input and prints\n",
    "the words in a hyphen-separated sequence after sorting them alphabetically.\n",
    "Sample Items : green-red-yellow-black-white\n",
    "Expected Result : black-green-red-white-yellow\n",
    "\"\"\"\n"
   ]
  }
 ],
 "metadata": {
  "kernelspec": {
   "display_name": "Python 3",
   "language": "python",
   "name": "python3"
  },
  "language_info": {
   "codemirror_mode": {
    "name": "ipython",
    "version": 3
   },
   "file_extension": ".py",
   "mimetype": "text/x-python",
   "name": "python",
   "nbconvert_exporter": "python",
   "pygments_lexer": "ipython3",
   "version": "3.6.9"
  }
 },
 "nbformat": 4,
 "nbformat_minor": 4
}
