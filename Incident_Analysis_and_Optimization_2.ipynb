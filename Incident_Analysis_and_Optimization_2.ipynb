{
 "cells": [
  {
   "cell_type": "code",
   "execution_count": 1,
   "metadata": {},
   "outputs": [],
   "source": [
    "import pandas as pd\n",
    "import matplotlib.pyplot as plt\n",
    "import seaborn as sns"
   ]
  },
  {
   "cell_type": "code",
   "execution_count": 2,
   "metadata": {},
   "outputs": [],
   "source": [
    "#upload the data\n",
    "data = pd.read_csv('data_2.csv')"
   ]
  },
  {
   "cell_type": "code",
   "execution_count": 3,
   "metadata": {},
   "outputs": [
    {
     "data": {
      "text/html": [
       "<div>\n",
       "<style scoped>\n",
       "    .dataframe tbody tr th:only-of-type {\n",
       "        vertical-align: middle;\n",
       "    }\n",
       "\n",
       "    .dataframe tbody tr th {\n",
       "        vertical-align: top;\n",
       "    }\n",
       "\n",
       "    .dataframe thead th {\n",
       "        text-align: right;\n",
       "    }\n",
       "</style>\n",
       "<table border=\"1\" class=\"dataframe\">\n",
       "  <thead>\n",
       "    <tr style=\"text-align: right;\">\n",
       "      <th></th>\n",
       "      <th>APP06119-PROD-OFS</th>\n",
       "      <th>23,919</th>\n",
       "      <th>Bucket 1</th>\n",
       "      <th>Bucket 2</th>\n",
       "    </tr>\n",
       "  </thead>\n",
       "  <tbody>\n",
       "    <tr>\n",
       "      <th>0</th>\n",
       "      <td>KCI Issues (1 2 &amp; 3) Including Stuck Orders : ...</td>\n",
       "      <td>509</td>\n",
       "      <td>Stuck Order</td>\n",
       "      <td>Order - Stuck issues</td>\n",
       "    </tr>\n",
       "    <tr>\n",
       "      <th>1</th>\n",
       "      <td>KCI Issues (1 2 &amp; 3) Including Stuck Orders : ...</td>\n",
       "      <td>475</td>\n",
       "      <td>Stuck Order</td>\n",
       "      <td>Order - Stuck issues</td>\n",
       "    </tr>\n",
       "    <tr>\n",
       "      <th>2</th>\n",
       "      <td>KCI Issues (1 2 &amp; 3) Including Stuck Orders : ...</td>\n",
       "      <td>342</td>\n",
       "      <td>Stuck Order</td>\n",
       "      <td>Order - Stuck issues</td>\n",
       "    </tr>\n",
       "    <tr>\n",
       "      <th>3</th>\n",
       "      <td>KCI Issues (1 2 &amp; 3) Including Stuck Orders :</td>\n",
       "      <td>262</td>\n",
       "      <td>Stuck Order</td>\n",
       "      <td>Order - Stuck issues</td>\n",
       "    </tr>\n",
       "    <tr>\n",
       "      <th>4</th>\n",
       "      <td>KCI Issues (1 2 &amp; 3) Including Stuck Orders : ...</td>\n",
       "      <td>245</td>\n",
       "      <td>Stuck Order</td>\n",
       "      <td>Order - Passed CAD</td>\n",
       "    </tr>\n",
       "  </tbody>\n",
       "</table>\n",
       "</div>"
      ],
      "text/plain": [
       "                                   APP06119-PROD-OFS   23,919      Bucket 1  \\\n",
       "0  KCI Issues (1 2 & 3) Including Stuck Orders : ...       509  Stuck Order   \n",
       "1  KCI Issues (1 2 & 3) Including Stuck Orders : ...       475  Stuck Order   \n",
       "2  KCI Issues (1 2 & 3) Including Stuck Orders : ...       342  Stuck Order   \n",
       "3      KCI Issues (1 2 & 3) Including Stuck Orders :       262  Stuck Order   \n",
       "4  KCI Issues (1 2 & 3) Including Stuck Orders : ...       245  Stuck Order   \n",
       "\n",
       "               Bucket 2  \n",
       "0  Order - Stuck issues  \n",
       "1  Order - Stuck issues  \n",
       "2  Order - Stuck issues  \n",
       "3  Order - Stuck issues  \n",
       "4    Order - Passed CAD  "
      ]
     },
     "execution_count": 3,
     "metadata": {},
     "output_type": "execute_result"
    }
   ],
   "source": [
    "data.head()"
   ]
  },
  {
   "cell_type": "code",
   "execution_count": 4,
   "metadata": {},
   "outputs": [
    {
     "data": {
      "text/plain": [
       "Index(['APP06119-PROD-OFS', ' 23,919 ', 'Bucket 1', 'Bucket 2'], dtype='object')"
      ]
     },
     "execution_count": 4,
     "metadata": {},
     "output_type": "execute_result"
    }
   ],
   "source": [
    "data.columns"
   ]
  },
  {
   "cell_type": "code",
   "execution_count": 5,
   "metadata": {},
   "outputs": [
    {
     "data": {
      "text/plain": [
       "<bound method DataFrame.info of                                        APP06119-PROD-OFS   23,919   \\\n",
       "0      KCI Issues (1 2 & 3) Including Stuck Orders : ...       509   \n",
       "1      KCI Issues (1 2 & 3) Including Stuck Orders : ...       475   \n",
       "2      KCI Issues (1 2 & 3) Including Stuck Orders : ...       342   \n",
       "3          KCI Issues (1 2 & 3) Including Stuck Orders :       262   \n",
       "4      KCI Issues (1 2 & 3) Including Stuck Orders : ...       245   \n",
       "...                                                  ...       ...   \n",
       "16256                          VOL013-779777573549 stuck         1   \n",
       "16257                     VOL013-779782582648 stuck open         1   \n",
       "16258                                VOL013-779944663762         1   \n",
       "16259             Unable to connect DR DB servers of OFS         1   \n",
       "16260  We need Activation request from upstream via O...         1   \n",
       "\n",
       "                     Bucket 1                               Bucket 2  \n",
       "0                 Stuck Order                   Order - Stuck issues  \n",
       "1                 Stuck Order                   Order - Stuck issues  \n",
       "2                 Stuck Order                   Order - Stuck issues  \n",
       "3                 Stuck Order                   Order - Stuck issues  \n",
       "4                 Stuck Order                     Order - Passed CAD  \n",
       "...                       ...                                    ...  \n",
       "16256  VOLOrder number - IPVS                 VOLOrder number - IPVS  \n",
       "16257  VOLOrder number - IPVS                 VOLOrder number - IPVS  \n",
       "16258  VOLOrder number - IPVS                 VOLOrder number - IPVS  \n",
       "16259                     NaN                   Connectivity problem  \n",
       "16260                     NaN  Order - Renumber / Number port issues  \n",
       "\n",
       "[16261 rows x 4 columns]>"
      ]
     },
     "execution_count": 5,
     "metadata": {},
     "output_type": "execute_result"
    }
   ],
   "source": [
    "data.info"
   ]
  },
  {
   "cell_type": "code",
   "execution_count": 6,
   "metadata": {},
   "outputs": [
    {
     "data": {
      "text/plain": [
       "<bound method NDFrame.describe of                                        APP06119-PROD-OFS   23,919   \\\n",
       "0      KCI Issues (1 2 & 3) Including Stuck Orders : ...       509   \n",
       "1      KCI Issues (1 2 & 3) Including Stuck Orders : ...       475   \n",
       "2      KCI Issues (1 2 & 3) Including Stuck Orders : ...       342   \n",
       "3          KCI Issues (1 2 & 3) Including Stuck Orders :       262   \n",
       "4      KCI Issues (1 2 & 3) Including Stuck Orders : ...       245   \n",
       "...                                                  ...       ...   \n",
       "16256                          VOL013-779777573549 stuck         1   \n",
       "16257                     VOL013-779782582648 stuck open         1   \n",
       "16258                                VOL013-779944663762         1   \n",
       "16259             Unable to connect DR DB servers of OFS         1   \n",
       "16260  We need Activation request from upstream via O...         1   \n",
       "\n",
       "                     Bucket 1                               Bucket 2  \n",
       "0                 Stuck Order                   Order - Stuck issues  \n",
       "1                 Stuck Order                   Order - Stuck issues  \n",
       "2                 Stuck Order                   Order - Stuck issues  \n",
       "3                 Stuck Order                   Order - Stuck issues  \n",
       "4                 Stuck Order                     Order - Passed CAD  \n",
       "...                       ...                                    ...  \n",
       "16256  VOLOrder number - IPVS                 VOLOrder number - IPVS  \n",
       "16257  VOLOrder number - IPVS                 VOLOrder number - IPVS  \n",
       "16258  VOLOrder number - IPVS                 VOLOrder number - IPVS  \n",
       "16259                     NaN                   Connectivity problem  \n",
       "16260                     NaN  Order - Renumber / Number port issues  \n",
       "\n",
       "[16261 rows x 4 columns]>"
      ]
     },
     "execution_count": 6,
     "metadata": {},
     "output_type": "execute_result"
    }
   ],
   "source": [
    "data.describe"
   ]
  },
  {
   "cell_type": "code",
   "execution_count": 7,
   "metadata": {},
   "outputs": [
    {
     "data": {
      "text/plain": [
       "(16261, 4)"
      ]
     },
     "execution_count": 7,
     "metadata": {},
     "output_type": "execute_result"
    }
   ],
   "source": [
    "data.shape"
   ]
  },
  {
   "cell_type": "code",
   "execution_count": 8,
   "metadata": {},
   "outputs": [
    {
     "data": {
      "text/plain": [
       "KCI Issues (1 2 & 3) Including Stuck Orders : order stuck open, everything has completed but order needs to close and complete    1\n",
       "KCI Issues (1 2 & 3) Including Stuck Orders : stuuck open order                                                                   1\n",
       "neView KCI 3 Issues : VOL013-759442471592 : IPVS                                                                                  1\n",
       "PP06119:05;MDAID:4928735:Consumer_-_L2C_-_OFS_Consumer_-_IIPMAL_(EE_ORDERS)_Awaiting_Inital_Response._SEE_GUIDED_ACTION.          1\n",
       "KCI Issues (1 2 & 3) Including Stuck Orders : stuck order - IP voice port                                                         1\n",
       "                                                                                                                                 ..\n",
       "neView KCI 3 Issues : VOL013-767167870608 : IPVS                                                                                  1\n",
       "KCI Issues (1 2 & 3) Including Stuck Orders : Number port has been triggered but is not complete                                  1\n",
       "neView KCI 3 Issues : VOL013-769521183372 : IPVS                                                                                  1\n",
       "KCI Issues (1 2 & 3) Including Stuck Orders : VOL013-785201016977 - IPVS - order still open on account                            1\n",
       "neView KCI 3 Issues : VOL013-769835182220 : IPVS                                                                                  1\n",
       "Name: APP06119-PROD-OFS, Length: 16260, dtype: int64"
      ]
     },
     "execution_count": 8,
     "metadata": {},
     "output_type": "execute_result"
    }
   ],
   "source": [
    "data['APP06119-PROD-OFS'].value_counts()"
   ]
  },
  {
   "cell_type": "code",
   "execution_count": 9,
   "metadata": {},
   "outputs": [
    {
     "data": {
      "text/plain": [
       "VOLOrder number - IPVS         8159\n",
       "Stuck Order                    7548\n",
       "MDAID                           135\n",
       "Disk space issues                29\n",
       "Low disk space                   21\n",
       "Unexpected low/high load         16\n",
       "Raise a P3                       12\n",
       "Interface has been disabled       7\n",
       "Slow disk                         3\n",
       "Name: Bucket 1, dtype: int64"
      ]
     },
     "execution_count": 9,
     "metadata": {},
     "output_type": "execute_result"
    }
   ],
   "source": [
    "data['Bucket 1'].value_counts()"
   ]
  },
  {
   "cell_type": "code",
   "execution_count": 10,
   "metadata": {},
   "outputs": [
    {
     "name": "stdout",
     "output_type": "stream",
     "text": [
      "                             Counts  Overall Percentage\n",
      "VOLOrder number - IPVS         8159           50.175266\n",
      "Stuck Order                    7548           46.417809\n",
      "MDAID                           135            0.830207\n",
      "Disk space issues                29            0.178341\n",
      "Low disk space                   21            0.129143\n",
      "Unexpected low/high load         16            0.098395\n",
      "Raise a P3                       12            0.073796\n",
      "Interface has been disabled       7            0.043048\n",
      "Slow disk                         3            0.018449\n"
     ]
    }
   ],
   "source": [
    "bucket1_counts = data['Bucket 1'].value_counts()\n",
    "total_entries = len(data)\n",
    "\n",
    "# Create a DataFrame\n",
    "result_df = pd.DataFrame({\n",
    "    'Counts': bucket1_counts,\n",
    "    'Overall Percentage': (bucket1_counts / total_entries) * 100\n",
    "})\n",
    "\n",
    "# Display the resulting DataFrame\n",
    "print(result_df)"
   ]
  },
  {
   "cell_type": "code",
   "execution_count": 11,
   "metadata": {},
   "outputs": [
    {
     "data": {
      "image/png": "[encoded data removed]",
      "text/plain": [
       "<Figure size 576x576 with 1 Axes>"
      ]
     },
     "metadata": {},
     "output_type": "display_data"
    }
   ],
   "source": [
    "# Create a pie chart\n",
    "plt.figure(figsize=(8, 8))\n",
    "plt.pie(bucket1_counts, labels=bucket1_counts.index, autopct='%1.1f%%', startangle=90, colors=plt.cm.Paired.colors)\n",
    "plt.title('Distribution of Bucket 1 Issues')\n",
    "plt.show()"
   ]
  },
  {
   "cell_type": "code",
   "execution_count": 12,
   "metadata": {},
   "outputs": [
    {
     "data": {
      "text/plain": [
       "VOLOrder number - IPVS                                            8158\n",
       "Order - Open/to complete                                          2066\n",
       "Order - Stuck issues                                              1606\n",
       "Order - Cancel issues                                             1220\n",
       "Order - Passed CAD                                                1156\n",
       "Order - Stuck order                                                275\n",
       "Order - To be closed                                               158\n",
       "Order - Renumber / Number port issues                              114\n",
       "Order - Provisioning issues                                        112\n",
       "Order - Submitted for 24 hours                                      46\n",
       "Connectivity problem                                                39\n",
       "MDAID - ApigeePartner_Awaiting_Initial_Response                     32\n",
       "Order - Unable to submit                                            24\n",
       "MDAID - IIPMAL EE order fail                                        22\n",
       "Low disk space                                                      21\n",
       "Order - BT TV issues                                                21\n",
       "Disk space issues                                                   20\n",
       "Host or monitoring unavailable                                      19\n",
       "Raise a P2 - ZCFISD01                                               11\n",
       "MDAID - IIPMAL>Orders_Awaiting_Final_Response_greater_than_100      10\n",
       "MDAID - MSEO>Delay>>Check_Guided_Action                             10\n",
       "CPU saturation                                                       9\n",
       "Unexpected low load                                                  9\n",
       "Raise a P3 - ZCFISD01                                                8\n",
       "Interface has been disabled                                          7\n",
       "Unexpected high load                                                 7\n",
       "Slow disk                                                            3\n",
       "Raise a P3 - Application error                                       2\n",
       "Concurrent mode failure in Domain 2                                  2\n",
       "Raise a P3 - Invalid State Error                                     2\n",
       "Name: Bucket 2, dtype: int64"
      ]
     },
     "execution_count": 12,
     "metadata": {},
     "output_type": "execute_result"
    }
   ],
   "source": [
    "data['Bucket 2'].value_counts()"
   ]
  },
  {
   "cell_type": "code",
   "execution_count": 13,
   "metadata": {},
   "outputs": [
    {
     "data": {
      "text/html": [
       "<div>\n",
       "<style scoped>\n",
       "    .dataframe tbody tr th:only-of-type {\n",
       "        vertical-align: middle;\n",
       "    }\n",
       "\n",
       "    .dataframe tbody tr th {\n",
       "        vertical-align: top;\n",
       "    }\n",
       "\n",
       "    .dataframe thead th {\n",
       "        text-align: right;\n",
       "    }\n",
       "</style>\n",
       "<table border=\"1\" class=\"dataframe\">\n",
       "  <thead>\n",
       "    <tr style=\"text-align: right;\">\n",
       "      <th></th>\n",
       "      <th>Count</th>\n",
       "      <th>Percentage</th>\n",
       "    </tr>\n",
       "  </thead>\n",
       "  <tbody>\n",
       "    <tr>\n",
       "      <th>VOLOrder number - IPVS</th>\n",
       "      <td>8158</td>\n",
       "      <td>50.169116</td>\n",
       "    </tr>\n",
       "    <tr>\n",
       "      <th>Order - Open/to complete</th>\n",
       "      <td>2066</td>\n",
       "      <td>12.705246</td>\n",
       "    </tr>\n",
       "    <tr>\n",
       "      <th>Order - Stuck issues</th>\n",
       "      <td>1606</td>\n",
       "      <td>9.876391</td>\n",
       "    </tr>\n",
       "    <tr>\n",
       "      <th>Order - Cancel issues</th>\n",
       "      <td>1220</td>\n",
       "      <td>7.502614</td>\n",
       "    </tr>\n",
       "    <tr>\n",
       "      <th>Order - Passed CAD</th>\n",
       "      <td>1156</td>\n",
       "      <td>7.109034</td>\n",
       "    </tr>\n",
       "    <tr>\n",
       "      <th>Order - Stuck order</th>\n",
       "      <td>275</td>\n",
       "      <td>1.691163</td>\n",
       "    </tr>\n",
       "    <tr>\n",
       "      <th>Order - To be closed</th>\n",
       "      <td>158</td>\n",
       "      <td>0.971650</td>\n",
       "    </tr>\n",
       "    <tr>\n",
       "      <th>Order - Renumber / Number port issues</th>\n",
       "      <td>114</td>\n",
       "      <td>0.701064</td>\n",
       "    </tr>\n",
       "    <tr>\n",
       "      <th>Order - Provisioning issues</th>\n",
       "      <td>112</td>\n",
       "      <td>0.688765</td>\n",
       "    </tr>\n",
       "    <tr>\n",
       "      <th>Order - Submitted for 24 hours</th>\n",
       "      <td>46</td>\n",
       "      <td>0.282885</td>\n",
       "    </tr>\n",
       "    <tr>\n",
       "      <th>Connectivity problem</th>\n",
       "      <td>39</td>\n",
       "      <td>0.239838</td>\n",
       "    </tr>\n",
       "    <tr>\n",
       "      <th>MDAID - ApigeePartner_Awaiting_Initial_Response</th>\n",
       "      <td>32</td>\n",
       "      <td>0.196790</td>\n",
       "    </tr>\n",
       "    <tr>\n",
       "      <th>Order - Unable to submit</th>\n",
       "      <td>24</td>\n",
       "      <td>0.147592</td>\n",
       "    </tr>\n",
       "    <tr>\n",
       "      <th>MDAID - IIPMAL EE order fail</th>\n",
       "      <td>22</td>\n",
       "      <td>0.135293</td>\n",
       "    </tr>\n",
       "    <tr>\n",
       "      <th>Low disk space</th>\n",
       "      <td>21</td>\n",
       "      <td>0.129143</td>\n",
       "    </tr>\n",
       "    <tr>\n",
       "      <th>Order - BT TV issues</th>\n",
       "      <td>21</td>\n",
       "      <td>0.129143</td>\n",
       "    </tr>\n",
       "    <tr>\n",
       "      <th>Disk space issues</th>\n",
       "      <td>20</td>\n",
       "      <td>0.122994</td>\n",
       "    </tr>\n",
       "    <tr>\n",
       "      <th>Host or monitoring unavailable</th>\n",
       "      <td>19</td>\n",
       "      <td>0.116844</td>\n",
       "    </tr>\n",
       "    <tr>\n",
       "      <th>Raise a P2 - ZCFISD01</th>\n",
       "      <td>11</td>\n",
       "      <td>0.067647</td>\n",
       "    </tr>\n",
       "    <tr>\n",
       "      <th>MDAID - IIPMAL&gt;Orders_Awaiting_Final_Response_greater_than_100</th>\n",
       "      <td>10</td>\n",
       "      <td>0.061497</td>\n",
       "    </tr>\n",
       "    <tr>\n",
       "      <th>MDAID - MSEO&gt;Delay&gt;&gt;Check_Guided_Action</th>\n",
       "      <td>10</td>\n",
       "      <td>0.061497</td>\n",
       "    </tr>\n",
       "    <tr>\n",
       "      <th>CPU saturation</th>\n",
       "      <td>9</td>\n",
       "      <td>0.055347</td>\n",
       "    </tr>\n",
       "    <tr>\n",
       "      <th>Unexpected low load</th>\n",
       "      <td>9</td>\n",
       "      <td>0.055347</td>\n",
       "    </tr>\n",
       "    <tr>\n",
       "      <th>Raise a P3 - ZCFISD01</th>\n",
       "      <td>8</td>\n",
       "      <td>0.049197</td>\n",
       "    </tr>\n",
       "    <tr>\n",
       "      <th>Interface has been disabled</th>\n",
       "      <td>7</td>\n",
       "      <td>0.043048</td>\n",
       "    </tr>\n",
       "    <tr>\n",
       "      <th>Unexpected high load</th>\n",
       "      <td>7</td>\n",
       "      <td>0.043048</td>\n",
       "    </tr>\n",
       "    <tr>\n",
       "      <th>Slow disk</th>\n",
       "      <td>3</td>\n",
       "      <td>0.018449</td>\n",
       "    </tr>\n",
       "    <tr>\n",
       "      <th>Raise a P3 - Application error</th>\n",
       "      <td>2</td>\n",
       "      <td>0.012299</td>\n",
       "    </tr>\n",
       "    <tr>\n",
       "      <th>Concurrent mode failure in Domain 2</th>\n",
       "      <td>2</td>\n",
       "      <td>0.012299</td>\n",
       "    </tr>\n",
       "    <tr>\n",
       "      <th>Raise a P3 - Invalid State Error</th>\n",
       "      <td>2</td>\n",
       "      <td>0.012299</td>\n",
       "    </tr>\n",
       "  </tbody>\n",
       "</table>\n",
       "</div>"
      ],
      "text/plain": [
       "                                                    Count  Percentage\n",
       "VOLOrder number - IPVS                               8158   50.169116\n",
       "Order - Open/to complete                             2066   12.705246\n",
       "Order - Stuck issues                                 1606    9.876391\n",
       "Order - Cancel issues                                1220    7.502614\n",
       "Order - Passed CAD                                   1156    7.109034\n",
       "Order - Stuck order                                   275    1.691163\n",
       "Order - To be closed                                  158    0.971650\n",
       "Order - Renumber / Number port issues                 114    0.701064\n",
       "Order - Provisioning issues                           112    0.688765\n",
       "Order - Submitted for 24 hours                         46    0.282885\n",
       "Connectivity problem                                   39    0.239838\n",
       "MDAID - ApigeePartner_Awaiting_Initial_Response        32    0.196790\n",
       "Order - Unable to submit                               24    0.147592\n",
       "MDAID - IIPMAL EE order fail                           22    0.135293\n",
       "Low disk space                                         21    0.129143\n",
       "Order - BT TV issues                                   21    0.129143\n",
       "Disk space issues                                      20    0.122994\n",
       "Host or monitoring unavailable                         19    0.116844\n",
       "Raise a P2 - ZCFISD01                                  11    0.067647\n",
       "MDAID - IIPMAL>Orders_Awaiting_Final_Response_g...     10    0.061497\n",
       "MDAID - MSEO>Delay>>Check_Guided_Action                10    0.061497\n",
       "CPU saturation                                          9    0.055347\n",
       "Unexpected low load                                     9    0.055347\n",
       "Raise a P3 - ZCFISD01                                   8    0.049197\n",
       "Interface has been disabled                             7    0.043048\n",
       "Unexpected high load                                    7    0.043048\n",
       "Slow disk                                               3    0.018449\n",
       "Raise a P3 - Application error                          2    0.012299\n",
       "Concurrent mode failure in Domain 2                     2    0.012299\n",
       "Raise a P3 - Invalid State Error                        2    0.012299"
      ]
     },
     "execution_count": 13,
     "metadata": {},
     "output_type": "execute_result"
    }
   ],
   "source": [
    "bucket2_counts = data['Bucket 2'].value_counts()\n",
    "\n",
    "# Create a DataFrame with value counts and overall percentage\n",
    "bucket2_df = pd.DataFrame({'Count': bucket2_counts, 'Percentage': (bucket2_counts / len(data)) * 100})\n",
    "\n",
    "# Display the DataFrame\n",
    "bucket2_df"
   ]
  },
  {
   "cell_type": "code",
   "execution_count": 14,
   "metadata": {},
   "outputs": [
    {
     "name": "stdout",
     "output_type": "stream",
     "text": [
      "Total Number of Issues: 23919\n",
      "Number of Stuck Orders: 12091\n",
      "Number of Interface Disabled Issues: 473\n",
      "Number of Disk Space Issues: 539\n",
      "Number of Passed CAD Issues: 2094\n",
      "Number of Unexpected Low Load Issues: 0\n",
      "Number of P3 Cases Raised: 0\n"
     ]
    }
   ],
   "source": [
    "# Calculate KPIs\n",
    "total_issues = data[' 23,919 '].sum()\n",
    "stuck_orders = data[data['Bucket 1'] == 'Stuck Order'][' 23,919 '].sum()\n",
    "interface_disabled = data[data['Bucket 2'] == 'Interface has been disabled'][' 23,919 '].sum()\n",
    "disk_space_issues = data[data['Bucket 2'] == 'Disk space issues'][' 23,919 '].sum()\n",
    "passed_cad_issues = data[data['Bucket 2'] == 'Order - Passed CAD'][' 23,919 '].sum()\n",
    "unexpected_low_load = data[data['Bucket 2'] == 'Unexpected low/high load'][' 23,919 '].sum()\n",
    "p3_cases_raised = data[data['Bucket 2'] == 'Raise a P3'][' 23,919 '].sum()\n",
    "\n",
    "# Display KPIs\n",
    "print(f\"Total Number of Issues: {total_issues}\")\n",
    "print(f\"Number of Stuck Orders: {stuck_orders}\")\n",
    "print(f\"Number of Interface Disabled Issues: {interface_disabled}\")\n",
    "print(f\"Number of Disk Space Issues: {disk_space_issues}\")\n",
    "print(f\"Number of Passed CAD Issues: {passed_cad_issues}\")\n",
    "print(f\"Number of Unexpected Low Load Issues: {unexpected_low_load}\")\n",
    "print(f\"Number of P3 Cases Raised: {p3_cases_raised}\")"
   ]
  },
  {
   "cell_type": "code",
   "execution_count": 15,
   "metadata": {},
   "outputs": [
    {
     "data": {
      "image/png": "[encoded data removed]",
      "text/plain": [
       "<Figure size 720x432 with 1 Axes>"
      ]
     },
     "metadata": {
      "needs_background": "light"
     },
     "output_type": "display_data"
    }
   ],
   "source": [
    "import matplotlib.pyplot as plt\n",
    "\n",
    "# KPI data\n",
    "kpi_labels = ['Number of Stuck Orders', 'Number of Interface Disabled Issues', 'Number of Disk Space Issues', 'Number of Passed CAD Issues', 'Number of Unexpected Low Load Issues', 'Number of P3 Cases Raised']\n",
    "kpi_values = [12091, 473, 539, 2094, 0, 0]\n",
    "\n",
    "# Create a histogram\n",
    "plt.figure(figsize=(10, 6))\n",
    "plt.bar(kpi_labels, kpi_values, color='skyblue')\n",
    "plt.xlabel('Key Performance Indicators (KPIs)')\n",
    "plt.ylabel('Count')\n",
    "plt.title('Histogram of Key Performance Indicators')\n",
    "plt.xticks(rotation=45, ha='right')\n",
    "\n",
    "# Display the plot\n",
    "plt.tight_layout()\n",
    "plt.show()"
   ]
  },
  {
   "cell_type": "code",
   "execution_count": null,
   "metadata": {},
   "outputs": [],
   "source": []
  }
 ],
 "metadata": {
  "kernelspec": {
   "display_name": "Python 3",
   "language": "python",
   "name": "python3"
  },
  "language_info": {
   "codemirror_mode": {
    "name": "ipython",
    "version": 3
   },
   "file_extension": ".py",
   "mimetype": "text/x-python",
   "name": "python",
   "nbconvert_exporter": "python",
   "pygments_lexer": "ipython3",
   "version": "3.6.9"
  }
 },
 "nbformat": 4,
 "nbformat_minor": 4
}
