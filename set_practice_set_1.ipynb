{
 "cells": [
  {
   "cell_type": "markdown",
   "metadata": {},
   "source": [
    "### 1. Set update() in Python to do union of n arrays\n",
    "Input : arr = [[1, 2, 2, 4, 3, 6],\n",
    "              [5, 1, 3, 4],\n",
    "              [9, 5, 7, 1],\n",
    "              [2, 4, 1, 3]]\n",
    "              \n",
    "Output : [1, 2, 3, 4, 5, 6, 7, 9]"
   ]
  },
  {
   "cell_type": "code",
   "execution_count": 1,
   "metadata": {},
   "outputs": [
    {
     "name": "stdout",
     "output_type": "stream",
     "text": [
      "[1, 2, 3, 4, 5, 6, 7, 9]\n"
     ]
    }
   ],
   "source": [
    "def combineAll(input): \n",
    "        \n",
    "    # cast first array as set and assign it \n",
    "    # to variable named as result \n",
    "    result = set(input[0]) \n",
    "    \n",
    "    # now traverse remaining list of arrays  \n",
    "    # and take it's update with result variable \n",
    "    for array in input[1:]: \n",
    "        result.update(array) \n",
    "    \n",
    "    return list(result) \n",
    "    \n",
    "# Driver program \n",
    "if __name__ == \"__main__\": \n",
    "    input = [[1, 2, 2, 4, 3, 6],\n",
    "             [5, 1, 3, 4],\n",
    "             [9, 5, 7, 1],\n",
    "             [2, 4, 1, 3]]  \n",
    "    print (combineAll(input))"
   ]
  },
  {
   "cell_type": "markdown",
   "metadata": {},
   "source": [
    "### 2. Intersection of two lists\n",
    "Input : \n",
    "lst1 = [15, 9, 10, 56, 23, 78, 5, 4, 9]\n",
    "lst2 = [9, 4, 5, 36, 47, 26, 10, 45, 87]\n",
    "\n",
    "Output :\n",
    "[9, 10, 4, 5]\n",
    "\n",
    "Input :\n",
    "lst1 = [4, 9, 1, 17, 11, 26, 28, 54, 69]\n",
    "lst2 = [9, 9, 74, 21, 45, 11, 63, 28, 26]\n",
    "\n",
    "Output :\n",
    "[9, 11, 26, 28]"
   ]
  },
  {
   "cell_type": "code",
   "execution_count": 2,
   "metadata": {},
   "outputs": [
    {
     "name": "stdout",
     "output_type": "stream",
     "text": [
      "[9, 11, 26, 28]\n"
     ]
    }
   ],
   "source": [
    "# Python program to illustrate the intersection\n",
    "# of two lists in most simple way\n",
    "def intersection(lst1, lst2):\n",
    "    lst3 = [value for value in lst1 if value in lst2]\n",
    "    return lst3\n",
    "\n",
    "# Driver Code\n",
    "lst1 = [4, 9, 1, 17, 11, 26, 28, 54, 69]\n",
    "lst2 = [9, 9, 74, 21, 45, 11, 63, 28, 26]\n",
    "print(intersection(lst1, lst2))\n"
   ]
  },
  {
   "cell_type": "code",
   "execution_count": 3,
   "metadata": {},
   "outputs": [
    {
     "name": "stdout",
     "output_type": "stream",
     "text": [
      "[9, 10, 4, 5]\n"
     ]
    }
   ],
   "source": [
    "# Python program to illustrate the intersection\n",
    "# of two lists using set() method\n",
    "def intersection(lst1, lst2):\n",
    "    return list(set(lst1) & set(lst2))\n",
    "\n",
    "# Driver Code\n",
    "lst1 = [15, 9, 10, 56, 23, 78, 5, 4, 9]\n",
    "lst2 = [9, 4, 5, 36, 47, 26, 10, 45, 87]\n",
    "print(intersection(lst1, lst2))\n"
   ]
  },
  {
   "cell_type": "markdown",
   "metadata": {},
   "source": [
    "### 3. get all subsets of given size of a set\n",
    "Input : {1, 2, 3}, n = 2\n",
    "\n",
    "Output : [{1, 2}, {1, 3}, {2, 3}]\n",
    "\n",
    "Input : {1, 2, 3, 4}, n = 3\n",
    "\n",
    "Output : [{1, 2, 3}, {1, 2, 4}, {1, 3, 4}, {2, 3, 4}]"
   ]
  },
  {
   "cell_type": "code",
   "execution_count": 4,
   "metadata": {},
   "outputs": [
    {
     "name": "stdout",
     "output_type": "stream",
     "text": [
      "[(1, 2), (1, 3), (2, 3)]\n"
     ]
    }
   ],
   "source": [
    "import itertools\n",
    " \n",
    "def findsubsets(s, n):\n",
    "    return list(itertools.combinations(s, n))\n",
    " \n",
    "# Driver Code\n",
    "s = {1, 2, 3}\n",
    "n = 2\n",
    " \n",
    "print(findsubsets(s, n))"
   ]
  },
  {
   "cell_type": "code",
   "execution_count": 5,
   "metadata": {},
   "outputs": [
    {
     "name": "stdout",
     "output_type": "stream",
     "text": [
      "[{1, 2}, {1, 3}, {2, 3}]\n"
     ]
    }
   ],
   "source": [
    "import itertools\n",
    "from itertools import combinations, chain\n",
    " \n",
    "def findsubsets(s, n):\n",
    "    return list(map(set, itertools.combinations(s, n)))\n",
    "     \n",
    "# Driver Code\n",
    "s = {1, 2, 3}\n",
    "n = 2\n",
    " \n",
    "print(findsubsets(s, n))"
   ]
  },
  {
   "cell_type": "markdown",
   "metadata": {},
   "source": [
    "### 4. Minimum number of subsets with distinct elements using Counter\n",
    "Input : arr[] = {1, 2, 3, 4}\n",
    "\n",
    "Output :1\n",
    "\n",
    "Explanation : A single subset can contains all \n",
    "values and all values are distinct\n",
    "\n",
    "Input : arr[] = {1, 2, 3, 3}\n",
    "\n",
    "Output : 2\n",
    "\n",
    "Explanation : We need to create two subsets\n",
    "{1, 2, 3} and {3} [or {1, 3} and {2, 3}] such\n",
    "that both subsets have distinct elements."
   ]
  },
  {
   "cell_type": "code",
   "execution_count": 9,
   "metadata": {},
   "outputs": [
    {
     "name": "stdout",
     "output_type": "stream",
     "text": [
      "2\n"
     ]
    }
   ],
   "source": [
    "from collections import Counter\n",
    "  \n",
    "def minSubsets(input):\n",
    "  \n",
    "     # calculate frequency of each element\n",
    "     freqDict = Counter(input)\n",
    "  \n",
    "     # get list of all frequency values\n",
    "     # print maximum from it \n",
    "     print(max(freqDict.values()))\n",
    "  \n",
    "# Driver program\n",
    "if __name__ == \"__main__\":\n",
    "    input = [1, 2, 3, 3]\n",
    "    minSubsets(input)\n",
    "    "
   ]
  },
  {
   "cell_type": "markdown",
   "metadata": {},
   "source": [
    "### 5. dictionary, set and counter to check if frequencies can become same\n",
    "Input  : str = “xyyz”\n",
    "\n",
    "Output : Yes\n",
    "\n",
    "We can remove character ’y’ from above \n",
    "string to make the frequency of each \n",
    "character same. \n",
    "\n",
    "Input : str = “xyyzz” \n",
    "\n",
    "Output : Yes\n",
    "\n",
    "We can remove character ‘x’ from above \n",
    "string to make the frequency of each \n",
    "character same.\n",
    "\n",
    "Input : str = “xxxxyyzz” \n",
    "\n",
    "Output : No\n",
    "\n",
    "It is not possible to make frequency of \n",
    "each character same just by removing at \n",
    "most one character from above string."
   ]
  },
  {
   "cell_type": "code",
   "execution_count": 10,
   "metadata": {},
   "outputs": [
    {
     "name": "stdout",
     "output_type": "stream",
     "text": [
      "No\n"
     ]
    }
   ],
   "source": [
    "# Function to Check if frequency of all characters\n",
    "# can become same by one removal\n",
    "from collections import Counter\n",
    "  \n",
    "def allSame(input):\n",
    "      \n",
    "    # calculate frequency of each character\n",
    "    # and convert string into dictionary\n",
    "    dict=Counter(input)\n",
    "  \n",
    "    # now get list of all values and push it\n",
    "    # in set\n",
    "    same = list(set(dict.values()))\n",
    "  \n",
    "    if len(same)>2:\n",
    "        print('No')\n",
    "    elif len (same)==2 and same[1]-same[0]>1:\n",
    "        print('No')\n",
    "    else:\n",
    "        print('Yes')\n",
    "  \n",
    "      \n",
    "    # now check if frequency of all characters \n",
    "    # can become same\n",
    "      \n",
    "# Driver program\n",
    "if __name__ == \"__main__\":\n",
    "    input = 'xxxyyzzt'\n",
    "    allSame(input)"
   ]
  },
  {
   "cell_type": "code",
   "execution_count": 17,
   "metadata": {},
   "outputs": [],
   "source": [
    "input= [1,4,6,2,6,2,4,4,2]\n",
    "dict= Counter(input)"
   ]
  },
  {
   "cell_type": "code",
   "execution_count": 18,
   "metadata": {},
   "outputs": [
    {
     "data": {
      "text/plain": [
       "{1, 2, 3}"
      ]
     },
     "execution_count": 18,
     "metadata": {},
     "output_type": "execute_result"
    }
   ],
   "source": [
    "set(dict.values())"
   ]
  },
  {
   "cell_type": "markdown",
   "metadata": {},
   "source": [
    "### 6. Convert a set into dictionary\n"
   ]
  },
  {
   "cell_type": "code",
   "execution_count": 23,
   "metadata": {},
   "outputs": [
    {
     "name": "stdout",
     "output_type": "stream",
     "text": [
      "initial string {1, 2, 3, 4, 5}\n",
      "<class 'set'>\n",
      "final list {1: 'Geekfg', 2: 'Geekfg', 3: 'Geekfg', 4: 'Geekfg', 5: 'Geekfg'}\n",
      "<class 'dict'>\n"
     ]
    }
   ],
   "source": [
    "# initializing set\n",
    "ini_set = {1, 2, 3, 4, 5}\n",
    " \n",
    "# printing initialized set\n",
    "print (\"initial string\", ini_set)\n",
    "print (type(ini_set))\n",
    " \n",
    "str = 'fg'\n",
    "# Converting set to dict\n",
    "res = {element:'Geek'+str for element in ini_set}\n",
    " \n",
    "# printing final result and its type\n",
    "print (\"final list\", res)\n",
    "print (type(res))"
   ]
  },
  {
   "cell_type": "markdown",
   "metadata": {},
   "source": [
    "### 7. Convert Set to String in Python\n"
   ]
  },
  {
   "cell_type": "code",
   "execution_count": 32,
   "metadata": {},
   "outputs": [],
   "source": [
    "# # create a set\n",
    "# s = {'g', 'e', 'e', 'k', 's'}\n",
    "# print(\"Initially\")\n",
    "# print(\"The datatype of s : \" + str(type(s)))\n",
    "# print(\"Contents of s : \", s)\n",
    "\n",
    "# # convert Set to String\n",
    "# s = str(s)\n",
    "# print(\"\\nAfter the conversion\")\n",
    "# print(\"The datatype of s : \" + str(type(s)))\n",
    "# print(\"Contents of s : \" + s)\n"
   ]
  },
  {
   "cell_type": "markdown",
   "metadata": {},
   "source": [
    "### 8. Find missing and additional values in two lists\n",
    "Input :\n",
    "list1 = [1, 2, 3, 4, 5, 6] \n",
    "\n",
    "list2 = [4, 5, 6, 7, 8] \n",
    "        \n",
    "Output : \n",
    "Missing values in list1 = [8, 7] \n",
    "\n",
    "Additional values in list1 = [1, 2, 3] \n",
    "         \n",
    "Missing values in list2 = [1, 2, 3] \n",
    "         \n",
    "Additional values in list2 = [7, 8] "
   ]
  },
  {
   "cell_type": "code",
   "execution_count": 33,
   "metadata": {},
   "outputs": [
    {
     "name": "stdout",
     "output_type": "stream",
     "text": [
      "Missing values in second list: {1, 2, 3}\n",
      "Additional values in second list: {7, 8}\n",
      "Missing values in first list: {7, 8}\n",
      "Additional values in first list: {1, 2, 3}\n"
     ]
    }
   ],
   "source": [
    "# Python program to find the missing\n",
    "# and additional elements\n",
    "\n",
    "# examples of lists\n",
    "list1 = [1, 2, 3, 4, 5, 6]\n",
    "list2 = [4, 5, 6, 7, 8]\n",
    "\n",
    "# prints the missing and additional elements in list2\n",
    "print(\"Missing values in second list:\", (set(list1).difference(list2)))\n",
    "print(\"Additional values in second list:\", (set(list2).difference(list1)))\n",
    "\n",
    "# prints the missing and additional elements in list1\n",
    "print(\"Missing values in first list:\", (set(list2).difference(list1)))\n",
    "print(\"Additional values in first list:\", (set(list1).difference(list2)))"
   ]
  },
  {
   "cell_type": "markdown",
   "metadata": {},
   "source": [
    "### 9. find common elements in three lists using sets\n",
    "Input :\n",
    "        ar1 = [1, 5, 10, 20, 40, 80]\n",
    "        \n",
    "        ar2 = [6, 7, 20, 80, 100]\n",
    "        \n",
    "        ar3 = [3, 4, 15, 20, 30, 70, 80, 120]\n",
    "\n",
    "Output : \n",
    "        [80, 20]\n",
    "\n",
    "Input : \n",
    "        ar1 = [1, 5, 5]\n",
    "        \n",
    "        ar2 = [3, 4, 5, 5, 10]\n",
    "        \n",
    "        ar3 = [5, 5, 10, 20]\n",
    "\n",
    "Output : [5]"
   ]
  },
  {
   "cell_type": "code",
   "execution_count": 34,
   "metadata": {},
   "outputs": [
    {
     "name": "stdout",
     "output_type": "stream",
     "text": [
      "[80, 20]\n"
     ]
    }
   ],
   "source": [
    "def IntersecOfSets(arr1, arr2, arr3):\n",
    "    # Converting the arrays into sets\n",
    "    s1 = set(arr1)\n",
    "    s2 = set(arr2)\n",
    "    s3 = set(arr3)\n",
    "      \n",
    "    # Calculates intersection of \n",
    "    # sets on s1 and s2\n",
    "    set1 = s1.intersection(s2)         #[80, 20, 100]\n",
    "      \n",
    "    # Calculates intersection of sets\n",
    "    # on set1 and s3\n",
    "    result_set = set1.intersection(s3)\n",
    "      \n",
    "    # Converts resulting set to list\n",
    "    final_list = list(result_set)\n",
    "    print(final_list)\n",
    "  \n",
    "# Driver Code\n",
    "if __name__ == '__main__' :\n",
    "      \n",
    "    # Elements in Array1\n",
    "    arr1 = [1, 5, 10, 20, 40, 80, 100]\n",
    "      \n",
    "    # Elements in Array2\n",
    "    arr2 = [6, 7, 20, 80, 100]\n",
    "      \n",
    "    # Elements in Array3\n",
    "    arr3 = [3, 4, 15, 20, 30, 70, 80, 120]\n",
    "      \n",
    "    # Calling Function\n",
    "    IntersecOfSets(arr1, arr2, arr3)"
   ]
  },
  {
   "cell_type": "code",
   "execution_count": null,
   "metadata": {},
   "outputs": [],
   "source": []
  }
 ],
 "metadata": {
  "kernelspec": {
   "display_name": "Python 3",
   "language": "python",
   "name": "python3"
  },
  "language_info": {
   "codemirror_mode": {
    "name": "ipython",
    "version": 3
   },
   "file_extension": ".py",
   "mimetype": "text/x-python",
   "name": "python",
   "nbconvert_exporter": "python",
   "pygments_lexer": "ipython3",
   "version": "3.6.9"
  }
 },
 "nbformat": 4,
 "nbformat_minor": 4
}
