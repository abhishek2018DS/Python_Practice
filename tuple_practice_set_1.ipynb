{
 "cells": [
  {
   "cell_type": "markdown",
   "metadata": {},
   "source": [
    "### 1. Extract tuples having K digit elements\n",
    "Input : test_list = [(54, 2), (34, 55), (222, 23), (12, 45), (78, )], K = 2 \n",
    "\n",
    "Output : [(34, 55), (12, 45), (78,)] \n",
    "\n",
    "Explanation : All tuples have numbers with 2 digits.\n",
    "\n",
    "Input : test_list = [(54, 2), (34, 55), (222, 23), (12, 45), (782, )], K = 3 \n",
    "\n",
    "Output : [(782,)] \n",
    "\n",
    "Explanation : All tuples have numbers with 3 digits. "
   ]
  },
  {
   "cell_type": "code",
   "execution_count": 1,
   "metadata": {},
   "outputs": [
    {
     "name": "stdout",
     "output_type": "stream",
     "text": [
      "The original list is : [(54, 2), (34, 55), (222, 23), (12, 45), (78,)]\n",
      "The Extracted tuples : [(34, 55), (12, 45), (78,)]\n"
     ]
    }
   ],
   "source": [
    "# Python3 code to demonstrate working of\n",
    "# Extract K digit Elements Tuples\n",
    "# Using all() + list comprehension\n",
    "\n",
    "# initializing list\n",
    "test_list = [(54, 2), (34, 55), (222, 23), (12, 45), (78, )]\n",
    "\n",
    "# printing original list\n",
    "print(\"The original list is : \" + str(test_list))\n",
    "\n",
    "# initializing K\n",
    "K = 2\n",
    "\n",
    "# using len() and str() to check length and\n",
    "# perform string conversion\n",
    "res = [sub for sub in test_list if all(len(str(ele)) == K for ele in sub)]\n",
    "\n",
    "# printing result\n",
    "print(\"The Extracted tuples : \" + str(res))"
   ]
  },
  {
   "cell_type": "markdown",
   "metadata": {},
   "source": [
    "### 2. Extract Symmetric Tuples\n",
    "Input : test_list = [(6, 7), (2, 3), (7, 6)]\n",
    "\n",
    "Output : {(6, 7)}\n",
    "\n",
    "Input : test_list = [(6, 7), (2, 3)]\n",
    "\n",
    "Output : {}"
   ]
  },
  {
   "cell_type": "code",
   "execution_count": 2,
   "metadata": {},
   "outputs": [
    {
     "name": "stdout",
     "output_type": "stream",
     "text": [
      "The original list is : [(6, 7), (2, 3), (7, 6), (9, 8), (10, 2), (8, 9)]\n",
      "The Symmetric tuples : {(8, 9), (6, 7)}\n"
     ]
    }
   ],
   "source": [
    "test_list = [(6, 7), (2, 3), (7, 6), (9, 8), (10, 2), (8, 9)]\n",
    "  \n",
    "# printing original list\n",
    "print(\"The original list is : \" + str(test_list))\n",
    "  \n",
    "# Extract Symmetric Tuples\n",
    "# Using dictionary comprehension + set()\n",
    "temp = set(test_list) & {(b, a) for a, b in test_list}\n",
    "res = {(a, b) for a, b in temp if a < b}\n",
    "  \n",
    "# printing result \n",
    "print(\"The Symmetric tuples : \" + str(res)) "
   ]
  },
  {
   "cell_type": "markdown",
   "metadata": {},
   "source": [
    "### 3. Remove nested records from tuple\n"
   ]
  },
  {
   "cell_type": "code",
   "execution_count": 3,
   "metadata": {},
   "outputs": [
    {
     "name": "stdout",
     "output_type": "stream",
     "text": [
      "The original tuple : (1, 5, 7, (4, 6), 10)\n",
      "Elements after removal of nested records : (1, 5, 7, 10)\n"
     ]
    }
   ],
   "source": [
    "# Python3 code to demonstrate working of\n",
    "# Remove nested records\n",
    "# using isinstance() + enumerate() + loop\n",
    "\n",
    "# initialize tuple\n",
    "test_tup = (1, 5, 7, (4, 6), 10)\n",
    "\n",
    "# printing original tuple\n",
    "print(\"The original tuple : \" + str(test_tup))\n",
    "\n",
    "# Remove nested records\n",
    "# using isinstance() + enumerate() + loop\n",
    "res = tuple()\n",
    "for count, ele in enumerate(test_tup):\n",
    "    if not isinstance(ele, tuple):\n",
    "        res = res + (ele, )\n",
    "\n",
    "# printing result\n",
    "print(\"Elements after removal of nested records : \" + str(res))"
   ]
  },
  {
   "cell_type": "markdown",
   "metadata": {},
   "source": [
    "### 4. Concatenate tuples to nested tuples\n"
   ]
  },
  {
   "cell_type": "code",
   "execution_count": 4,
   "metadata": {},
   "outputs": [
    {
     "name": "stdout",
     "output_type": "stream",
     "text": [
      "The original tuple 1 : ((3, 4),)\n",
      "The original tuple 2 : ((5, 6),)\n",
      "Tuples after Concatenating : ((3, 4), (5, 6))\n"
     ]
    }
   ],
   "source": [
    "# Python3 code to demonstrate working of\n",
    "# Concatenating tuples to nested tuples\n",
    "# using + operator + \", \" operator during initialization\n",
    "\n",
    "# initialize tuples\n",
    "test_tup1 = (3, 4),\n",
    "test_tup2 = (5, 6),\n",
    "\n",
    "# printing original tuples\n",
    "print(\"The original tuple 1 : \" + str(test_tup1))\n",
    "print(\"The original tuple 2 : \" + str(test_tup2))\n",
    "\n",
    "# Concatenating tuples to nested tuples\n",
    "# using + operator + \", \" operator during initialization\n",
    "res = test_tup1 + test_tup2\n",
    "\n",
    "# printing result\n",
    "print(\"Tuples after Concatenating : \" + str(res))"
   ]
  },
  {
   "cell_type": "markdown",
   "metadata": {},
   "source": [
    "### 5. Filter Tuples by Kth element from List\n",
    "Input : test_list = [(“GFg”, 5, 9), (“is”, 4, 3), (“best”, 10, 29)], check_list = [4, 2, 3, 10], K = 2\n",
    "\n",
    "Output : [(‘is’, 4, 3)]\n",
    "\n",
    "Explanation : 3 is 2nd element and present in list, hence filtered tuple.\n",
    "\n",
    "Input : test_list = [(“GFg”, 5, 9), (“is”, 4, 3), (“best”, 10, 29)], check_list = [4, 2, 3, 10], K = 1\n",
    "\n",
    "Output : [(‘is’, 4, 3), (‘best’, 10, 29)]\n",
    "\n",
    "Explanation : 4 and 10 are 1st elements and present in list, hence filtered tuples."
   ]
  },
  {
   "cell_type": "code",
   "execution_count": 5,
   "metadata": {},
   "outputs": [
    {
     "name": "stdout",
     "output_type": "stream",
     "text": [
      "The original list is : [('GFg', 5, 9), ('is', 4, 3), ('best', 10, 29)]\n",
      "The filtered tuples : [('is', 4, 3), ('best', 10, 29)]\n"
     ]
    }
   ],
   "source": [
    "# Python3 code to demonstrate working of\n",
    "# Filter Tuples by Kth element from List\n",
    "# Using list comprehension\n",
    "\n",
    "# initializing list\n",
    "test_list = [(\"GFg\", 5, 9), (\"is\", 4, 3), (\"best\", 10, 29)]\n",
    "\n",
    "# printing original list\n",
    "print(\"The original list is : \" + str(test_list))\n",
    "\n",
    "# initializing check_list\n",
    "check_list = [4, 2, 8, 10]\n",
    "\n",
    "# initializing K\n",
    "K = 1\n",
    "\n",
    "# checking for presence on Kth element in list\n",
    "# one liner\n",
    "res = [sub for sub in test_list if sub[K] in check_list]\n",
    "\n",
    "# printing result\n",
    "print(\"The filtered tuples : \" + str(res))"
   ]
  },
  {
   "cell_type": "markdown",
   "metadata": {},
   "source": [
    "### 6. Closest Pair to Kth index element in Tuple\n",
    "Input :\n",
    "test_list = [(3, 4), (78, 76), (2, 3), (9, 8), (19, 23)]\n",
    "tup = (17, 23)\n",
    "K = 2\n",
    "\n",
    "Output : (19, 23)\n",
    "\n",
    "Input :\n",
    "test_list = [(3, 4, 9), (5, 6, 7)]\n",
    "tup = (1, 2, 5)\n",
    "K = 3\n",
    "\n",
    "Output : (5, 6, 7)"
   ]
  },
  {
   "cell_type": "code",
   "execution_count": 6,
   "metadata": {},
   "outputs": [
    {
     "name": "stdout",
     "output_type": "stream",
     "text": [
      "The original list is : [(3, 4), (78, 76), (2, 3), (9, 8), (19, 23)]\n",
      "The nearest tuple to Kth index element is : (19, 23)\n"
     ]
    }
   ],
   "source": [
    "# initializing list\n",
    "test_list = [(3, 4), (78, 76), (2, 3), (9, 8), (19, 23)]\n",
    "  \n",
    "# printing original list\n",
    "print(\"The original list is : \" + str(test_list))\n",
    "  \n",
    "# initializing tuple\n",
    "tup = (17, 23)\n",
    "  \n",
    "# initializing K \n",
    "K = 1\n",
    "  \n",
    "# Closest Pair to Kth index element in Tuple\n",
    "# Using enumerate() + loop\n",
    "min_dif, res = 999999999, None\n",
    "for idx, val in enumerate(test_list):\n",
    "    dif = abs(tup[K - 1] - val[K - 1])\n",
    "    if dif < min_dif:\n",
    "        min_dif, res = dif, idx\n",
    "  \n",
    "# printing result \n",
    "print(\"The nearest tuple to Kth index element is : \" + str(test_list[res])) "
   ]
  },
  {
   "cell_type": "markdown",
   "metadata": {},
   "source": [
    "### 7.Tuple List intersection (Order irrespective)\n",
    "Input : test_list1 = [(3, 4), (5, 6)], test_list2 = [(5, 4), (4, 3)] \n",
    "\n",
    "Output : {(3, 4)} \n",
    "\n",
    "Explanation : (3, 4) and (4, 3) are common, hence intersection ( order irrespective).\n",
    "\n",
    "Input : test_list1 = [(3, 4), (5, 6)], test_list2 = [(5, 4), (4, 5)] \n",
    "\n",
    "Output : set() \n",
    "\n",
    "Explanation : No intersecting element present. "
   ]
  },
  {
   "cell_type": "code",
   "execution_count": 7,
   "metadata": {},
   "outputs": [
    {
     "name": "stdout",
     "output_type": "stream",
     "text": [
      "The original list 1 is : [(3, 4), (5, 6), (9, 10), (4, 5)]\n",
      "The original list 2 is : [(5, 4), (3, 4), (6, 5), (9, 11)]\n",
      "List after intersection : {(4, 5), (3, 4), (5, 6)}\n"
     ]
    }
   ],
   "source": [
    "# initializing lists\n",
    "test_list1 = [(3, 4), (5, 6), (9, 10), (4, 5)]\n",
    "test_list2 = [(5, 4), (3, 4), (6, 5), (9, 11)]\n",
    " \n",
    "# printing original list\n",
    "print(\"The original list 1 is : \" + str(test_list1))\n",
    "print(\"The original list 2 is : \" + str(test_list2))\n",
    " \n",
    "# Using sorted() + set() + & operator + list comprehension\n",
    "# Using & operator to intersect, sorting before performing intersection\n",
    "res = set([tuple(sorted(ele)) for ele in test_list1]) & set([tuple(sorted(ele)) for ele in test_list2])\n",
    " \n",
    "# printing result\n",
    "print(\"List after intersection : \" + str(res))"
   ]
  },
  {
   "cell_type": "markdown",
   "metadata": {},
   "source": [
    "### 9.Convert Binary tuple to Integer\n",
    "Input : test_tup = (1, 1, 0)\n",
    "\n",
    "Output : 6\n",
    "\n",
    "Explanation : 4 + 2 = 6.\n",
    "\n",
    "Input : test_tup = (1, 1, 1)\n",
    "\n",
    "Output : 7\n",
    "\n",
    "Explanation : 4 + 2 + 1 = 7."
   ]
  },
  {
   "cell_type": "code",
   "execution_count": 8,
   "metadata": {},
   "outputs": [
    {
     "name": "stdout",
     "output_type": "stream",
     "text": [
      "The original tuple is : (1, 1, 0, 1, 0, 0, 1)\n",
      "Decimal number is : 105\n"
     ]
    }
   ],
   "source": [
    "# initializing tuple\n",
    "test_tup = (1, 1, 0, 1, 0, 0, 1)\n",
    "  \n",
    "# printing original tuple\n",
    "print(\"The original tuple is : \" + str(test_tup))\n",
    "  \n",
    "# using int() with base to get actual number\n",
    "res = int(\"\".join(str(ele) for ele in test_tup), 2) \n",
    "  \n",
    "# printing result \n",
    "print(\"Decimal number is : \" + str(res)) "
   ]
  },
  {
   "cell_type": "code",
   "execution_count": 9,
   "metadata": {},
   "outputs": [
    {
     "name": "stdout",
     "output_type": "stream",
     "text": [
      "The original tuple is : (1, 1, 0, 1, 0, 0, 1)\n",
      "Decimal number is : 105\n"
     ]
    }
   ],
   "source": [
    "# initializing tuple\n",
    "test_tup = (1, 1, 0, 1, 0, 0, 1)\n",
    "  \n",
    "# printing original tuple\n",
    "print(\"The original tuple is : \" + str(test_tup))\n",
    "  \n",
    "  \n",
    "res = 0\n",
    "for ele in test_tup: \n",
    "      \n",
    "    # left bit shift and or operator \n",
    "    # for intermediate addition\n",
    "    res = (res << 1) | ele \n",
    "  \n",
    "# printing result \n",
    "print(\"Decimal number is : \" + str(res)) "
   ]
  },
  {
   "cell_type": "markdown",
   "metadata": {},
   "source": [
    "### 10. Intersection in Tuple Records Data\n"
   ]
  },
  {
   "cell_type": "code",
   "execution_count": 10,
   "metadata": {},
   "outputs": [
    {
     "name": "stdout",
     "output_type": "stream",
     "text": [
      "The original list 1 is : [('gfg', 1), ('is', 2), ('best', 3)]\n",
      "The original list 2 is : [('i', 3), ('love', 4), ('gfg', 1)]\n",
      "The Intersection of data records is : [('gfg', 1)]\n"
     ]
    }
   ],
   "source": [
    "# Initializing lists\n",
    "test_list1 = [('gfg', 1), ('is', 2), ('best', 3)]\n",
    "test_list2 = [('i', 3), ('love', 4), ('gfg', 1)]\n",
    "  \n",
    "# printing original lists\n",
    "print(\"The original list 1 is : \" + str(test_list1))\n",
    "print(\"The original list 2 is : \" + str(test_list2))\n",
    "  \n",
    "# Intersection in Tuple Records Data\n",
    "# Using list comprehension\n",
    "res = [ele1 for ele1 in test_list1 \n",
    "       for ele2 in test_list2 if ele1 == ele2]\n",
    "  \n",
    "# printing result\n",
    "print(\"The Intersection of data records is : \" + str(res))"
   ]
  },
  {
   "cell_type": "markdown",
   "metadata": {},
   "source": [
    "### 11. convert tuple into list by adding the given string after every element\n",
    "Input : test_tup = (5, 6, 7), K = \"Gfg\" \n",
    "\n",
    "Output : [5, 'Gfg', 6, 'Gfg', 7, 'Gfg'] \n",
    "\n",
    "Explanation : Added \"Gfg\" as succeeding element.\n",
    "\n",
    "Input : test_tup = (5, 6), K = \"Gfg\" \n",
    "\n",
    "Output : [5, 'Gfg', 6, 'Gfg'] \n",
    "\n",
    "Explanation : Added \"Gfg\" as succeeding element."
   ]
  },
  {
   "cell_type": "code",
   "execution_count": 11,
   "metadata": {},
   "outputs": [
    {
     "name": "stdout",
     "output_type": "stream",
     "text": [
      "The original tuple is :  (5, 6, 7, 4, 9)\n",
      "Converted Tuple with K :  [5, 'Gfg', 6, 'Gfg', 7, 'Gfg', 4, 'Gfg', 9, 'Gfg']\n"
     ]
    }
   ],
   "source": [
    "# initializing tuple\n",
    "test_tup = (5, 6, 7, 4, 9)\n",
    " \n",
    "# printing original tuple\n",
    "print(\"The original tuple is : \", test_tup)\n",
    " \n",
    "# initializing K\n",
    "K = \"Gfg\"\n",
    " \n",
    "# list comprehension for nested loop for flatten\n",
    "res = [ele for sub in test_tup for ele in (sub, K)]\n",
    " \n",
    "# printing result\n",
    "print(\"Converted Tuple with K : \", res)"
   ]
  },
  {
   "cell_type": "code",
   "execution_count": null,
   "metadata": {},
   "outputs": [],
   "source": []
  }
 ],
 "metadata": {
  "kernelspec": {
   "display_name": "Python 3",
   "language": "python",
   "name": "python3"
  },
  "language_info": {
   "codemirror_mode": {
    "name": "ipython",
    "version": 3
   },
   "file_extension": ".py",
   "mimetype": "text/x-python",
   "name": "python",
   "nbconvert_exporter": "python",
   "pygments_lexer": "ipython3",
   "version": "3.6.9"
  }
 },
 "nbformat": 4,
 "nbformat_minor": 4
}
