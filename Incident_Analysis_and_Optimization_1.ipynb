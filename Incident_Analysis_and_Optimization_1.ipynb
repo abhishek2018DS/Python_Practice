{
 "cells": [
  {
   "cell_type": "code",
   "execution_count": 1,
   "metadata": {},
   "outputs": [],
   "source": [
    "import pandas as pd\n",
    "import matplotlib.pyplot as plt\n",
    "import seaborn as sns\n",
    "\n",
    "# Read the dataset into a pandas DataFrame\n",
    "data = pd.read_csv('data_1.csv')"
   ]
  },
  {
   "cell_type": "code",
   "execution_count": 2,
   "metadata": {},
   "outputs": [
    {
     "data": {
      "text/html": [
       "<div>\n",
       "<style scoped>\n",
       "    .dataframe tbody tr th:only-of-type {\n",
       "        vertical-align: middle;\n",
       "    }\n",
       "\n",
       "    .dataframe tbody tr th {\n",
       "        vertical-align: top;\n",
       "    }\n",
       "\n",
       "    .dataframe thead th {\n",
       "        text-align: right;\n",
       "    }\n",
       "</style>\n",
       "<table border=\"1\" class=\"dataframe\">\n",
       "  <thead>\n",
       "    <tr style=\"text-align: right;\">\n",
       "      <th></th>\n",
       "      <th>inc_number</th>\n",
       "      <th>busapp_u_id</th>\n",
       "      <th>inc_caller_id</th>\n",
       "      <th>inc_priority</th>\n",
       "      <th>inc_incident_state</th>\n",
       "      <th>inc_category</th>\n",
       "      <th>inc_assignment_group</th>\n",
       "      <th>inc_cmdb_ci</th>\n",
       "      <th>inc_business_service</th>\n",
       "      <th>inc_problem_id</th>\n",
       "      <th>...</th>\n",
       "      <th>First colon</th>\n",
       "      <th>Second colon</th>\n",
       "      <th>Trimmed issue</th>\n",
       "      <th>Directors</th>\n",
       "      <th>System Status</th>\n",
       "      <th>Nayan Scope</th>\n",
       "      <th>CSOC flag</th>\n",
       "      <th>Bucket 1</th>\n",
       "      <th>Bucket 2</th>\n",
       "      <th>Monitoring</th>\n",
       "    </tr>\n",
       "  </thead>\n",
       "  <tbody>\n",
       "    <tr>\n",
       "      <th>0</th>\n",
       "      <td>INC2461064</td>\n",
       "      <td>APP06119</td>\n",
       "      <td>Smart Plus / Monitor IT</td>\n",
       "      <td>P2</td>\n",
       "      <td>Closed</td>\n",
       "      <td>Application</td>\n",
       "      <td>ZCFISD01</td>\n",
       "      <td>APP06119-PROD-OFS</td>\n",
       "      <td>APP06119-PROD-OFS</td>\n",
       "      <td>NaN</td>\n",
       "      <td>...</td>\n",
       "      <td>10</td>\n",
       "      <td>10</td>\n",
       "      <td>blp06119008-Interface has been disabled pofs.P...</td>\n",
       "      <td>Neil Percival</td>\n",
       "      <td>Legacy Transitional</td>\n",
       "      <td>No</td>\n",
       "      <td>0</td>\n",
       "      <td>Interface has been disabled</td>\n",
       "      <td>Interface has been disabled</td>\n",
       "      <td>Smart Plus / Monitor IT</td>\n",
       "    </tr>\n",
       "    <tr>\n",
       "      <th>1</th>\n",
       "      <td>INC2490221</td>\n",
       "      <td>APP06119</td>\n",
       "      <td>Smart Plus / Monitor IT</td>\n",
       "      <td>P2</td>\n",
       "      <td>Closed</td>\n",
       "      <td>Application</td>\n",
       "      <td>UKOCSOCS</td>\n",
       "      <td>APP06119-PROD-OFS</td>\n",
       "      <td>APP06119-PROD-OFS</td>\n",
       "      <td>NaN</td>\n",
       "      <td>...</td>\n",
       "      <td>10</td>\n",
       "      <td>29</td>\n",
       "      <td>PP06119:02;MDAID:5009276:Consumer_-_L2C_-_OFS_...</td>\n",
       "      <td>Neil Percival</td>\n",
       "      <td>Legacy Transitional</td>\n",
       "      <td>No</td>\n",
       "      <td>0</td>\n",
       "      <td>MDAID</td>\n",
       "      <td>0</td>\n",
       "      <td>Smart Plus / Monitor IT</td>\n",
       "    </tr>\n",
       "    <tr>\n",
       "      <th>2</th>\n",
       "      <td>INC2123817</td>\n",
       "      <td>APP06119</td>\n",
       "      <td>Event Management</td>\n",
       "      <td>P2</td>\n",
       "      <td>Closed</td>\n",
       "      <td>Application</td>\n",
       "      <td>ZCFISD01</td>\n",
       "      <td>APP06119-PROD-OFS</td>\n",
       "      <td>APP06119-PROD-OFS</td>\n",
       "      <td>NaN</td>\n",
       "      <td>...</td>\n",
       "      <td>10</td>\n",
       "      <td>10</td>\n",
       "      <td>Unexpected low load - RMI requests on WebLogic...</td>\n",
       "      <td>Neil Percival</td>\n",
       "      <td>Legacy Transitional</td>\n",
       "      <td>No</td>\n",
       "      <td>0</td>\n",
       "      <td>Unexpected low/high load</td>\n",
       "      <td>Unexpected low load</td>\n",
       "      <td>Dynatrace</td>\n",
       "    </tr>\n",
       "    <tr>\n",
       "      <th>3</th>\n",
       "      <td>INC2299303</td>\n",
       "      <td>APP06119</td>\n",
       "      <td>Smart Plus / Monitor IT</td>\n",
       "      <td>P2</td>\n",
       "      <td>Closed</td>\n",
       "      <td>Application</td>\n",
       "      <td>UKOCSOCS</td>\n",
       "      <td>APP06119-PROD-OFS</td>\n",
       "      <td>APP06119-PROD-OFS</td>\n",
       "      <td>NaN</td>\n",
       "      <td>...</td>\n",
       "      <td>10</td>\n",
       "      <td>29</td>\n",
       "      <td>PP06119:07;MDAID:4928834:Consumer_-_L2C_-_OFS_...</td>\n",
       "      <td>Neil Percival</td>\n",
       "      <td>Legacy Transitional</td>\n",
       "      <td>No</td>\n",
       "      <td>0</td>\n",
       "      <td>MDAID</td>\n",
       "      <td>MDAID - IIPMAL EE order fail</td>\n",
       "      <td>Smart Plus / Monitor IT</td>\n",
       "    </tr>\n",
       "    <tr>\n",
       "      <th>4</th>\n",
       "      <td>INC2284709</td>\n",
       "      <td>APP06119</td>\n",
       "      <td>Event Management</td>\n",
       "      <td>P2</td>\n",
       "      <td>Closed</td>\n",
       "      <td>Application</td>\n",
       "      <td>ZCFISD01</td>\n",
       "      <td>APP06119-PROD-OFS</td>\n",
       "      <td>APP06119-PROD-OFS</td>\n",
       "      <td>NaN</td>\n",
       "      <td>...</td>\n",
       "      <td>10</td>\n",
       "      <td>10</td>\n",
       "      <td>Unexpected low load - MDListener</td>\n",
       "      <td>Neil Percival</td>\n",
       "      <td>Legacy Transitional</td>\n",
       "      <td>No</td>\n",
       "      <td>0</td>\n",
       "      <td>Unexpected low/high load</td>\n",
       "      <td>Unexpected low load</td>\n",
       "      <td>Dynatrace</td>\n",
       "    </tr>\n",
       "  </tbody>\n",
       "</table>\n",
       "<p>5 rows × 30 columns</p>\n",
       "</div>"
      ],
      "text/plain": [
       "   inc_number busapp_u_id             inc_caller_id inc_priority  \\\n",
       "0  INC2461064    APP06119  Smart Plus / Monitor IT            P2   \n",
       "1  INC2490221    APP06119  Smart Plus / Monitor IT            P2   \n",
       "2  INC2123817    APP06119         Event Management            P2   \n",
       "3  INC2299303    APP06119  Smart Plus / Monitor IT            P2   \n",
       "4  INC2284709    APP06119         Event Management            P2   \n",
       "\n",
       "  inc_incident_state inc_category inc_assignment_group        inc_cmdb_ci  \\\n",
       "0             Closed  Application             ZCFISD01  APP06119-PROD-OFS   \n",
       "1             Closed  Application             UKOCSOCS  APP06119-PROD-OFS   \n",
       "2             Closed  Application             ZCFISD01  APP06119-PROD-OFS   \n",
       "3             Closed  Application             UKOCSOCS  APP06119-PROD-OFS   \n",
       "4             Closed  Application             ZCFISD01  APP06119-PROD-OFS   \n",
       "\n",
       "  inc_business_service inc_problem_id  ... First colon Second colon  \\\n",
       "0    APP06119-PROD-OFS            NaN  ...          10           10   \n",
       "1    APP06119-PROD-OFS            NaN  ...          10           29   \n",
       "2    APP06119-PROD-OFS            NaN  ...          10           10   \n",
       "3    APP06119-PROD-OFS            NaN  ...          10           29   \n",
       "4    APP06119-PROD-OFS            NaN  ...          10           10   \n",
       "\n",
       "                                       Trimmed issue      Directors  \\\n",
       "0  blp06119008-Interface has been disabled pofs.P...  Neil Percival   \n",
       "1  PP06119:02;MDAID:5009276:Consumer_-_L2C_-_OFS_...  Neil Percival   \n",
       "2  Unexpected low load - RMI requests on WebLogic...  Neil Percival   \n",
       "3  PP06119:07;MDAID:4928834:Consumer_-_L2C_-_OFS_...  Neil Percival   \n",
       "4                   Unexpected low load - MDListener  Neil Percival   \n",
       "\n",
       "         System Status Nayan Scope CSOC flag                     Bucket 1  \\\n",
       "0  Legacy Transitional          No         0  Interface has been disabled   \n",
       "1  Legacy Transitional          No         0                        MDAID   \n",
       "2  Legacy Transitional          No         0     Unexpected low/high load   \n",
       "3  Legacy Transitional          No         0                        MDAID   \n",
       "4  Legacy Transitional          No         0     Unexpected low/high load   \n",
       "\n",
       "                       Bucket 2                Monitoring  \n",
       "0   Interface has been disabled  Smart Plus / Monitor IT   \n",
       "1                             0  Smart Plus / Monitor IT   \n",
       "2           Unexpected low load                 Dynatrace  \n",
       "3  MDAID - IIPMAL EE order fail  Smart Plus / Monitor IT   \n",
       "4           Unexpected low load                 Dynatrace  \n",
       "\n",
       "[5 rows x 30 columns]"
      ]
     },
     "execution_count": 2,
     "metadata": {},
     "output_type": "execute_result"
    }
   ],
   "source": [
    "data.head()"
   ]
  },
  {
   "cell_type": "code",
   "execution_count": 3,
   "metadata": {},
   "outputs": [
    {
     "data": {
      "text/plain": [
       "Index(['inc_number', 'busapp_u_id', 'inc_caller_id', 'inc_priority',\n",
       "       'inc_incident_state', 'inc_category', 'inc_assignment_group',\n",
       "       'inc_cmdb_ci', 'inc_business_service', 'inc_problem_id',\n",
       "       'deliveryunit2_manager', 'inc_opened_at', 'inc_resolved_at',\n",
       "       'inc_short_description', 'inc_close_notes', 'inc_close_code',\n",
       "       'MTTR (mins)', 'Breach', 'MTTR Buckets', 'Week', 'First colon',\n",
       "       'Second colon', 'Trimmed issue', 'Directors', 'System Status',\n",
       "       'Nayan Scope', 'CSOC flag', 'Bucket 1', 'Bucket 2', 'Monitoring'],\n",
       "      dtype='object')"
      ]
     },
     "execution_count": 3,
     "metadata": {},
     "output_type": "execute_result"
    }
   ],
   "source": [
    "data.columns"
   ]
  },
  {
   "cell_type": "code",
   "execution_count": 4,
   "metadata": {},
   "outputs": [
    {
     "data": {
      "text/plain": [
       "<bound method DataFrame.info of        inc_number busapp_u_id             inc_caller_id inc_priority  \\\n",
       "0      INC2461064    APP06119  Smart Plus / Monitor IT            P2   \n",
       "1      INC2490221    APP06119  Smart Plus / Monitor IT            P2   \n",
       "2      INC2123817    APP06119         Event Management            P2   \n",
       "3      INC2299303    APP06119  Smart Plus / Monitor IT            P2   \n",
       "4      INC2284709    APP06119         Event Management            P2   \n",
       "...           ...         ...                       ...          ...   \n",
       "23914  INC2585248    APP06119               Jodi Walker           P4   \n",
       "23915  INC2590058    APP06119           Abbie Patterson           P4   \n",
       "23916  INC2574986    APP06119               Ellie Pyatt           P4   \n",
       "23917  INC2569955    APP06119               Kevin Booth           P4   \n",
       "23918  INC2564964    APP06119            Letitia Holman           P4   \n",
       "\n",
       "      inc_incident_state inc_category inc_assignment_group  \\\n",
       "0                 Closed  Application             ZCFISD01   \n",
       "1                 Closed  Application             UKOCSOCS   \n",
       "2                 Closed  Application             ZCFISD01   \n",
       "3                 Closed  Application             UKOCSOCS   \n",
       "4                 Closed  Application             ZCFISD01   \n",
       "...                  ...          ...                  ...   \n",
       "23914           Resolved  Application               UKEPSG   \n",
       "23915                New  Application             ZCFISD01   \n",
       "23916           Resolved  Application               UKEPSG   \n",
       "23917           Resolved  Application             ZCFISD01   \n",
       "23918           Resolved  Application             ZCFISD01   \n",
       "\n",
       "                        inc_cmdb_ci inc_business_service inc_problem_id  ...  \\\n",
       "0                 APP06119-PROD-OFS    APP06119-PROD-OFS            NaN  ...   \n",
       "1                 APP06119-PROD-OFS    APP06119-PROD-OFS            NaN  ...   \n",
       "2                 APP06119-PROD-OFS    APP06119-PROD-OFS            NaN  ...   \n",
       "3                 APP06119-PROD-OFS    APP06119-PROD-OFS            NaN  ...   \n",
       "4                 APP06119-PROD-OFS    APP06119-PROD-OFS            NaN  ...   \n",
       "...                             ...                  ...            ...  ...   \n",
       "23914             APP06119-PROD-OFS    APP06119-PROD-OFS            NaN  ...   \n",
       "23915             APP06119-PROD-OFS    APP06119-PROD-OFS            NaN  ...   \n",
       "23916             APP06119-PROD-OFS    APP06119-PROD-OFS            NaN  ...   \n",
       "23917  APP09026-PROD-Vas Fulfilment    APP06119-PROD-OFS            NaN  ...   \n",
       "23918             APP06119-PROD-OFS    APP06119-PROD-OFS            NaN  ...   \n",
       "\n",
       "      First colon Second colon  \\\n",
       "0              10           10   \n",
       "1              10           29   \n",
       "2              10           10   \n",
       "3              10           29   \n",
       "4              10           10   \n",
       "...           ...          ...   \n",
       "23914          16           31   \n",
       "23915          16           31   \n",
       "23916          16           31   \n",
       "23917          16           31   \n",
       "23918          16           31   \n",
       "\n",
       "                                           Trimmed issue      Directors  \\\n",
       "0      blp06119008-Interface has been disabled pofs.P...  Neil Percival   \n",
       "1      PP06119:02;MDAID:5009276:Consumer_-_L2C_-_OFS_...  Neil Percival   \n",
       "2      Unexpected low load - RMI requests on WebLogic...  Neil Percival   \n",
       "3      PP06119:07;MDAID:4928834:Consumer_-_L2C_-_OFS_...  Neil Percival   \n",
       "4                       Unexpected low load - MDListener  Neil Percival   \n",
       "...                                                  ...            ...   \n",
       "23914  KCI Issues (1 2 & 3) Including Stuck Orders : ...  Neil Percival   \n",
       "23915  KCI Issues (1 2 & 3) Including Stuck Orders : ...  Neil Percival   \n",
       "23916  KCI Issues (1 2 & 3) Including Stuck Orders : ...  Neil Percival   \n",
       "23917  KCI Issues (1 2 & 3) Including Stuck Orders : ...  Neil Percival   \n",
       "23918  KCI Issues (1 2 & 3) Including Stuck Orders : ...  Neil Percival   \n",
       "\n",
       "             System Status Nayan Scope CSOC flag                     Bucket 1  \\\n",
       "0      Legacy Transitional          No         0  Interface has been disabled   \n",
       "1      Legacy Transitional          No         0                        MDAID   \n",
       "2      Legacy Transitional          No         0     Unexpected low/high load   \n",
       "3      Legacy Transitional          No         0                        MDAID   \n",
       "4      Legacy Transitional          No         0     Unexpected low/high load   \n",
       "...                    ...         ...       ...                          ...   \n",
       "23914  Legacy Transitional          No         0                  Stuck Order   \n",
       "23915  Legacy Transitional          No         0                  Stuck Order   \n",
       "23916  Legacy Transitional          No         0                  Stuck Order   \n",
       "23917  Legacy Transitional          No         0                  Stuck Order   \n",
       "23918  Legacy Transitional          No         0                  Stuck Order   \n",
       "\n",
       "                           Bucket 2                Monitoring  \n",
       "0       Interface has been disabled  Smart Plus / Monitor IT   \n",
       "1                                 0  Smart Plus / Monitor IT   \n",
       "2               Unexpected low load                 Dynatrace  \n",
       "3      MDAID - IIPMAL EE order fail  Smart Plus / Monitor IT   \n",
       "4               Unexpected low load                 Dynatrace  \n",
       "...                             ...                       ...  \n",
       "23914          Order - Stuck issues                  Reactive  \n",
       "23915            Order - Passed CAD                  Reactive  \n",
       "23916           Order - Stuck order                  Reactive  \n",
       "23917      Order - Open/to complete                  Reactive  \n",
       "23918         Order - Cancel issues                  Reactive  \n",
       "\n",
       "[23919 rows x 30 columns]>"
      ]
     },
     "execution_count": 4,
     "metadata": {},
     "output_type": "execute_result"
    }
   ],
   "source": [
    "data.info"
   ]
  },
  {
   "cell_type": "markdown",
   "metadata": {},
   "source": [
    "#### 1. Nature of Incidents:"
   ]
  },
  {
   "cell_type": "code",
   "execution_count": 5,
   "metadata": {},
   "outputs": [
    {
     "data": {
      "text/html": [
       "<div>\n",
       "<style scoped>\n",
       "    .dataframe tbody tr th:only-of-type {\n",
       "        vertical-align: middle;\n",
       "    }\n",
       "\n",
       "    .dataframe tbody tr th {\n",
       "        vertical-align: top;\n",
       "    }\n",
       "\n",
       "    .dataframe thead th {\n",
       "        text-align: right;\n",
       "    }\n",
       "</style>\n",
       "<table border=\"1\" class=\"dataframe\">\n",
       "  <thead>\n",
       "    <tr style=\"text-align: right;\">\n",
       "      <th></th>\n",
       "      <th>inc_number</th>\n",
       "      <th>inc_category</th>\n",
       "      <th>Incident Nature</th>\n",
       "    </tr>\n",
       "  </thead>\n",
       "  <tbody>\n",
       "    <tr>\n",
       "      <th>0</th>\n",
       "      <td>INC2461064</td>\n",
       "      <td>Application</td>\n",
       "      <td>Application Issues</td>\n",
       "    </tr>\n",
       "    <tr>\n",
       "      <th>1</th>\n",
       "      <td>INC2490221</td>\n",
       "      <td>Application</td>\n",
       "      <td>Application Issues</td>\n",
       "    </tr>\n",
       "    <tr>\n",
       "      <th>2</th>\n",
       "      <td>INC2123817</td>\n",
       "      <td>Application</td>\n",
       "      <td>Application Issues</td>\n",
       "    </tr>\n",
       "    <tr>\n",
       "      <th>3</th>\n",
       "      <td>INC2299303</td>\n",
       "      <td>Application</td>\n",
       "      <td>Application Issues</td>\n",
       "    </tr>\n",
       "    <tr>\n",
       "      <th>4</th>\n",
       "      <td>INC2284709</td>\n",
       "      <td>Application</td>\n",
       "      <td>Application Issues</td>\n",
       "    </tr>\n",
       "    <tr>\n",
       "      <th>...</th>\n",
       "      <td>...</td>\n",
       "      <td>...</td>\n",
       "      <td>...</td>\n",
       "    </tr>\n",
       "    <tr>\n",
       "      <th>23914</th>\n",
       "      <td>INC2585248</td>\n",
       "      <td>Application</td>\n",
       "      <td>Application Issues</td>\n",
       "    </tr>\n",
       "    <tr>\n",
       "      <th>23915</th>\n",
       "      <td>INC2590058</td>\n",
       "      <td>Application</td>\n",
       "      <td>Application Issues</td>\n",
       "    </tr>\n",
       "    <tr>\n",
       "      <th>23916</th>\n",
       "      <td>INC2574986</td>\n",
       "      <td>Application</td>\n",
       "      <td>Application Issues</td>\n",
       "    </tr>\n",
       "    <tr>\n",
       "      <th>23917</th>\n",
       "      <td>INC2569955</td>\n",
       "      <td>Application</td>\n",
       "      <td>Application Issues</td>\n",
       "    </tr>\n",
       "    <tr>\n",
       "      <th>23918</th>\n",
       "      <td>INC2564964</td>\n",
       "      <td>Application</td>\n",
       "      <td>Application Issues</td>\n",
       "    </tr>\n",
       "  </tbody>\n",
       "</table>\n",
       "<p>23919 rows × 3 columns</p>\n",
       "</div>"
      ],
      "text/plain": [
       "       inc_number inc_category     Incident Nature\n",
       "0      INC2461064  Application  Application Issues\n",
       "1      INC2490221  Application  Application Issues\n",
       "2      INC2123817  Application  Application Issues\n",
       "3      INC2299303  Application  Application Issues\n",
       "4      INC2284709  Application  Application Issues\n",
       "...           ...          ...                 ...\n",
       "23914  INC2585248  Application  Application Issues\n",
       "23915  INC2590058  Application  Application Issues\n",
       "23916  INC2574986  Application  Application Issues\n",
       "23917  INC2569955  Application  Application Issues\n",
       "23918  INC2564964  Application  Application Issues\n",
       "\n",
       "[23919 rows x 3 columns]"
      ]
     },
     "execution_count": 5,
     "metadata": {},
     "output_type": "execute_result"
    }
   ],
   "source": [
    "# Define a function to categorize incidents based on their nature\n",
    "def categorize_incident_nature(row):\n",
    "    if 'Application' in row['inc_category']:\n",
    "        return 'Application Issues'\n",
    "    elif 'Event Management' in row['inc_category']:\n",
    "        return 'Event Management Events'\n",
    "    elif 'Monitoring' in row['inc_category']:\n",
    "        return 'Monitoring Alerts'\n",
    "    else:\n",
    "        return 'Other'\n",
    "# Create a new column 'Incident Nature' and apply the categorization function\n",
    "data['Incident Nature'] = data.apply(categorize_incident_nature, axis=1)\n",
    "\n",
    "# Display the resulting DataFrame with the new 'Incident Nature' column\n",
    "data[['inc_number', 'inc_category', 'Incident Nature']]"
   ]
  },
  {
   "cell_type": "markdown",
   "metadata": {},
   "source": [
    "#### 2. Priority and Resolution"
   ]
  },
  {
   "cell_type": "code",
   "execution_count": 6,
   "metadata": {},
   "outputs": [
    {
     "data": {
      "text/html": [
       "<div>\n",
       "<style scoped>\n",
       "    .dataframe tbody tr th:only-of-type {\n",
       "        vertical-align: middle;\n",
       "    }\n",
       "\n",
       "    .dataframe tbody tr th {\n",
       "        vertical-align: top;\n",
       "    }\n",
       "\n",
       "    .dataframe thead th {\n",
       "        text-align: right;\n",
       "    }\n",
       "</style>\n",
       "<table border=\"1\" class=\"dataframe\">\n",
       "  <thead>\n",
       "    <tr style=\"text-align: right;\">\n",
       "      <th></th>\n",
       "      <th>inc_number</th>\n",
       "      <th>inc_priority</th>\n",
       "      <th>inc_incident_state</th>\n",
       "      <th>inc_close_notes</th>\n",
       "      <th>Priority and Resolution</th>\n",
       "    </tr>\n",
       "  </thead>\n",
       "  <tbody>\n",
       "    <tr>\n",
       "      <th>0</th>\n",
       "      <td>INC2461064</td>\n",
       "      <td>P2</td>\n",
       "      <td>Closed</td>\n",
       "      <td>Hi Team,_x000D_\\nInterface is enabled. Hence r...</td>\n",
       "      <td>P2 - Other Resolutions</td>\n",
       "    </tr>\n",
       "    <tr>\n",
       "      <th>1</th>\n",
       "      <td>INC2490221</td>\n",
       "      <td>P2</td>\n",
       "      <td>Closed</td>\n",
       "      <td>cleared</td>\n",
       "      <td>P2 - Other Resolutions</td>\n",
       "    </tr>\n",
       "    <tr>\n",
       "      <th>2</th>\n",
       "      <td>INC2123817</td>\n",
       "      <td>P2</td>\n",
       "      <td>Closed</td>\n",
       "      <td>no issues</td>\n",
       "      <td>P2 - Other Resolutions</td>\n",
       "    </tr>\n",
       "    <tr>\n",
       "      <th>3</th>\n",
       "      <td>INC2299303</td>\n",
       "      <td>P2</td>\n",
       "      <td>Closed</td>\n",
       "      <td>bau</td>\n",
       "      <td>P2 - Business as Usual (bau)</td>\n",
       "    </tr>\n",
       "    <tr>\n",
       "      <th>4</th>\n",
       "      <td>INC2284709</td>\n",
       "      <td>P2</td>\n",
       "      <td>Closed</td>\n",
       "      <td>Closed the task associated with alert: Alert15...</td>\n",
       "      <td>P2 - Other Resolutions</td>\n",
       "    </tr>\n",
       "    <tr>\n",
       "      <th>...</th>\n",
       "      <td>...</td>\n",
       "      <td>...</td>\n",
       "      <td>...</td>\n",
       "      <td>...</td>\n",
       "      <td>...</td>\n",
       "    </tr>\n",
       "    <tr>\n",
       "      <th>23914</th>\n",
       "      <td>INC2585248</td>\n",
       "      <td>P4</td>\n",
       "      <td>Resolved</td>\n",
       "      <td>LOB: PSG (Non KCI) Action/SR/Ticket: INC258524...</td>\n",
       "      <td>Other</td>\n",
       "    </tr>\n",
       "    <tr>\n",
       "      <th>23915</th>\n",
       "      <td>INC2590058</td>\n",
       "      <td>P4</td>\n",
       "      <td>New</td>\n",
       "      <td>NaN</td>\n",
       "      <td>Other</td>\n",
       "    </tr>\n",
       "    <tr>\n",
       "      <th>23916</th>\n",
       "      <td>INC2574986</td>\n",
       "      <td>P4</td>\n",
       "      <td>Resolved</td>\n",
       "      <td>LOB: PSG (Non KCI) _x000D_\\n_x000D_\\nAction/SR...</td>\n",
       "      <td>Other</td>\n",
       "    </tr>\n",
       "    <tr>\n",
       "      <th>23917</th>\n",
       "      <td>INC2569955</td>\n",
       "      <td>P4</td>\n",
       "      <td>Resolved</td>\n",
       "      <td>Hi Team,_x000D_\\n_x000D_\\n_x000D_\\nAll Lineite...</td>\n",
       "      <td>Other</td>\n",
       "    </tr>\n",
       "    <tr>\n",
       "      <th>23918</th>\n",
       "      <td>INC2564964</td>\n",
       "      <td>P4</td>\n",
       "      <td>Resolved</td>\n",
       "      <td>Hi,_x000D_\\nWe Could see order has already com...</td>\n",
       "      <td>Other</td>\n",
       "    </tr>\n",
       "  </tbody>\n",
       "</table>\n",
       "<p>23919 rows × 5 columns</p>\n",
       "</div>"
      ],
      "text/plain": [
       "       inc_number inc_priority inc_incident_state  \\\n",
       "0      INC2461064           P2             Closed   \n",
       "1      INC2490221           P2             Closed   \n",
       "2      INC2123817           P2             Closed   \n",
       "3      INC2299303           P2             Closed   \n",
       "4      INC2284709           P2             Closed   \n",
       "...           ...          ...                ...   \n",
       "23914  INC2585248           P4           Resolved   \n",
       "23915  INC2590058           P4                New   \n",
       "23916  INC2574986           P4           Resolved   \n",
       "23917  INC2569955           P4           Resolved   \n",
       "23918  INC2564964           P4           Resolved   \n",
       "\n",
       "                                         inc_close_notes  \\\n",
       "0      Hi Team,_x000D_\\nInterface is enabled. Hence r...   \n",
       "1                                                cleared   \n",
       "2                                              no issues   \n",
       "3                                                    bau   \n",
       "4      Closed the task associated with alert: Alert15...   \n",
       "...                                                  ...   \n",
       "23914  LOB: PSG (Non KCI) Action/SR/Ticket: INC258524...   \n",
       "23915                                                NaN   \n",
       "23916  LOB: PSG (Non KCI) _x000D_\\n_x000D_\\nAction/SR...   \n",
       "23917  Hi Team,_x000D_\\n_x000D_\\n_x000D_\\nAll Lineite...   \n",
       "23918  Hi,_x000D_\\nWe Could see order has already com...   \n",
       "\n",
       "            Priority and Resolution  \n",
       "0            P2 - Other Resolutions  \n",
       "1            P2 - Other Resolutions  \n",
       "2            P2 - Other Resolutions  \n",
       "3      P2 - Business as Usual (bau)  \n",
       "4            P2 - Other Resolutions  \n",
       "...                             ...  \n",
       "23914                         Other  \n",
       "23915                         Other  \n",
       "23916                         Other  \n",
       "23917                         Other  \n",
       "23918                         Other  \n",
       "\n",
       "[23919 rows x 5 columns]"
      ]
     },
     "execution_count": 6,
     "metadata": {},
     "output_type": "execute_result"
    }
   ],
   "source": [
    "# Define a function to categorize incidents based on priority and resolution\n",
    "def categorize_priority_resolution(row):\n",
    "    priority = row['inc_priority']\n",
    "    resolution = str(row['inc_close_notes']).lower() if 'inc_close_notes' in row and not pd.isna(row['inc_close_notes']) else ''\n",
    "\n",
    "    if priority == 'P2' and 'closed' in row['inc_incident_state'].lower():\n",
    "        if 'solved (work around)' in resolution:\n",
    "            return 'P2 - Solved (Work Around)'\n",
    "        elif 'solved (permanently)' in resolution:\n",
    "            return 'P2 - Solved (Permanently)'\n",
    "        elif 'bau' in resolution:\n",
    "            return 'P2 - Business as Usual (bau)'\n",
    "        elif 'solved remotely (permanently)' in resolution:\n",
    "            return 'P2 - Solved Remotely (Permanently)'\n",
    "        else:\n",
    "            return 'P2 - Other Resolutions'\n",
    "    else:\n",
    "        return 'Other'\n",
    "    \n",
    "# Create a new column 'Priority and Resolution' and apply the categorization function\n",
    "data['Priority and Resolution'] = data.apply(categorize_priority_resolution, axis=1)\n",
    "# Display the resulting DataFrame with the new 'Priority and Resolution' column\n",
    "data[['inc_number', 'inc_priority', 'inc_incident_state', 'inc_close_notes', 'Priority and Resolution']]"
   ]
  },
  {
   "cell_type": "markdown",
   "metadata": {},
   "source": [
    "#### 3. Incident Categories and Assignment:"
   ]
  },
  {
   "cell_type": "code",
   "execution_count": 7,
   "metadata": {},
   "outputs": [
    {
     "name": "stdout",
     "output_type": "stream",
     "text": [
      "Summary of Incident Categories and Assignment:\n",
      "Application - Assigned to Specific Groups    12380\n",
      "Other                                         7916\n",
      "Application - Other Assignments               3623\n",
      "Name: Incident Categories and Assignment, dtype: int64\n"
     ]
    }
   ],
   "source": [
    "# Define a function to categorize incidents based on incident categories and assignment groups\n",
    "def categorize_incident_categories_assignment(row):\n",
    "    category = row['inc_category']\n",
    "    assignment_group = row['inc_assignment_group']\n",
    "\n",
    "    if 'Application' in category:\n",
    "        if assignment_group in ['ZCFISD01', 'UKOCSOCS']:\n",
    "            return 'Application - Assigned to Specific Groups'\n",
    "        else:\n",
    "            return 'Application - Other Assignments'\n",
    "    else:\n",
    "        return 'Other'\n",
    "\n",
    "# Create a new column 'Incident Categories and Assignment' and apply the categorization function\n",
    "data['Incident Categories and Assignment'] = data.apply(categorize_incident_categories_assignment, axis=1)\n",
    "\n",
    "# Display the summary and important highlights\n",
    "summary = data['Incident Categories and Assignment'].value_counts()\n",
    "\n",
    "print(\"Summary of Incident Categories and Assignment:\")\n",
    "print(summary)"
   ]
  },
  {
   "cell_type": "markdown",
   "metadata": {},
   "source": [
    "#### 4. Incident States"
   ]
  },
  {
   "cell_type": "code",
   "execution_count": 8,
   "metadata": {},
   "outputs": [
    {
     "name": "stdout",
     "output_type": "stream",
     "text": [
      "Summary of Incident States:\n",
      "Closed or Cleared    21749\n",
      "Other                 2170\n",
      "Name: Incident States, dtype: int64\n",
      "\n",
      "Important Highlights:\n",
      "Closed or Cleared: 21749 incidents\n",
      "Other: 2170 incidents\n"
     ]
    }
   ],
   "source": [
    "# Define a function to categorize incidents based on incident states\n",
    "def categorize_incident_states(row):\n",
    "    incident_state = row['inc_incident_state'].lower()\n",
    "\n",
    "    if 'closed' in incident_state or 'cleared' in incident_state:\n",
    "        return 'Closed or Cleared'\n",
    "    else:\n",
    "        return 'Other'\n",
    "\n",
    "# Create a new column 'Incident States' and apply the categorization function\n",
    "data['Incident States'] = data.apply(categorize_incident_states, axis=1)\n",
    "\n",
    "# Display the summary and important highlights\n",
    "summary = data['Incident States'].value_counts()\n",
    "\n",
    "print(\"Summary of Incident States:\")\n",
    "print(summary)\n",
    "\n",
    "# Display additional highlights (e.g., counts for each incident state type)\n",
    "print(\"\\nImportant Highlights:\")\n",
    "for incident_state_type in summary.index:\n",
    "    count = summary[incident_state_type]\n",
    "    print(f\"{incident_state_type}: {count} incidents\")"
   ]
  },
  {
   "cell_type": "markdown",
   "metadata": {},
   "source": [
    "#### 5. MTTR (Mean Time to Resolve) and Breach:"
   ]
  },
  {
   "cell_type": "code",
   "execution_count": 9,
   "metadata": {},
   "outputs": [
    {
     "name": "stdout",
     "output_type": "stream",
     "text": [
      "Summary of MTTR and Breach:\n",
      "Other                             16877\n",
      "MTTR > 60 mins - Not Breached      5102\n",
      "MTTR <= 60 mins - Not Breached     1940\n",
      "Name: MTTR and Breach, dtype: int64\n",
      "\n",
      "Important Highlights:\n",
      "Other: 16877 incidents\n",
      "MTTR > 60 mins - Not Breached: 5102 incidents\n",
      "MTTR <= 60 mins - Not Breached: 1940 incidents\n"
     ]
    }
   ],
   "source": [
    "# Convert 'MTTR (mins)' to numeric, handling errors with coerce to replace non-numeric values with NaN\n",
    "data['MTTR (mins)'] = pd.to_numeric(data['MTTR (mins)'], errors='coerce')\n",
    "\n",
    "# Define a function to categorize incidents based on MTTR and Breach information\n",
    "def categorize_mttr_breach(row):\n",
    "    mttr = row['MTTR (mins)']\n",
    "    breach = row['Breach'].lower()\n",
    "\n",
    "    if not pd.isna(mttr):\n",
    "        if mttr <= 60 and breach == 'not breached':\n",
    "            return 'MTTR <= 60 mins - Not Breached'\n",
    "        elif mttr > 60 and breach == 'not breached':\n",
    "            return 'MTTR > 60 mins - Not Breached'\n",
    "        elif breach == 'breached':\n",
    "            return 'Breach'\n",
    "    return 'Other'\n",
    "\n",
    "# Create a new column 'MTTR and Breach' and apply the categorization function\n",
    "data['MTTR and Breach'] = data.apply(categorize_mttr_breach, axis=1)\n",
    "\n",
    "# Display the summary and important highlights\n",
    "summary = data['MTTR and Breach'].value_counts()\n",
    "\n",
    "print(\"Summary of MTTR and Breach:\")\n",
    "print(summary)\n",
    "\n",
    "# Display additional highlights (e.g., counts for each MTTR and Breach category)\n",
    "print(\"\\nImportant Highlights:\")\n",
    "for mttr_breach_type in summary.index:\n",
    "    count = summary[mttr_breach_type]\n",
    "    print(f\"{mttr_breach_type}: {count} incidents\")"
   ]
  },
  {
   "cell_type": "markdown",
   "metadata": {},
   "source": [
    "#### 6. Buckets and Monitoring"
   ]
  },
  {
   "cell_type": "code",
   "execution_count": 10,
   "metadata": {},
   "outputs": [
    {
     "name": "stdout",
     "output_type": "stream",
     "text": [
      "Summary of Buckets and Monitoring:\n",
      "Buckets and Monitoring    23919\n",
      "Name: Buckets and Monitoring, dtype: int64\n",
      "\n",
      "Important Highlights:\n",
      "Buckets and Monitoring: 23919 incidents\n"
     ]
    }
   ],
   "source": [
    "# Define a function to categorize incidents based on buckets and monitoring\n",
    "def categorize_buckets_monitoring(row):\n",
    "    buckets = row['Bucket 1']\n",
    "    monitoring = row['Monitoring']\n",
    "\n",
    "    if pd.notna(buckets) and pd.notna(monitoring):\n",
    "        return 'Buckets and Monitoring'\n",
    "    elif pd.notna(buckets):\n",
    "        return 'Buckets Only'\n",
    "    elif pd.notna(monitoring):\n",
    "        return 'Monitoring Only'\n",
    "    else:\n",
    "        return 'Other'\n",
    "\n",
    "# Create a new column 'Buckets and Monitoring' and apply the categorization function\n",
    "data['Buckets and Monitoring'] = data.apply(categorize_buckets_monitoring, axis=1)\n",
    "\n",
    "# Display the summary and important highlights\n",
    "summary = data['Buckets and Monitoring'].value_counts()\n",
    "\n",
    "print(\"Summary of Buckets and Monitoring:\")\n",
    "print(summary)\n",
    "\n",
    "# Display additional highlights (e.g., counts for each Buckets and Monitoring category)\n",
    "print(\"\\nImportant Highlights:\")\n",
    "for buckets_monitoring_type in summary.index:\n",
    "    count = summary[buckets_monitoring_type]\n",
    "    print(f\"{buckets_monitoring_type}: {count} incidents\")"
   ]
  },
  {
   "cell_type": "markdown",
   "metadata": {},
   "source": [
    "#### 7.Date and Time:"
   ]
  },
  {
   "cell_type": "code",
   "execution_count": 11,
   "metadata": {},
   "outputs": [
    {
     "name": "stdout",
     "output_type": "stream",
     "text": [
      "Summary of Time to Resolve:\n",
      "count     23488.00000\n",
      "mean      -2469.39650\n",
      "std       95413.18776\n",
      "min     -479602.00000\n",
      "25%          76.00000\n",
      "50%        1452.00000\n",
      "75%       11351.50000\n",
      "max      481402.00000\n",
      "Name: Time to Resolve, dtype: float64\n",
      "\n",
      "Average Time to Resolve: -2469.40 minutes\n"
     ]
    }
   ],
   "source": [
    "# Convert 'inc_opened_at' and 'inc_resolved_at' to datetime\n",
    "data['inc_opened_at'] = pd.to_datetime(data['inc_opened_at'])\n",
    "data['inc_resolved_at'] = pd.to_datetime(data['inc_resolved_at'])\n",
    "\n",
    "# Calculate the time taken to resolve incidents\n",
    "data['Time to Resolve'] = (data['inc_resolved_at'] - data['inc_opened_at']).dt.total_seconds() / 60  # Convert to minutes\n",
    "\n",
    "# Display the summary and important highlights\n",
    "print(\"Summary of Time to Resolve:\")\n",
    "print(data['Time to Resolve'].describe())\n",
    "\n",
    "# Display additional highlights (e.g., average time to resolve)\n",
    "average_time_to_resolve = data['Time to Resolve'].mean()\n",
    "print(f\"\\nAverage Time to Resolve: {average_time_to_resolve:.2f} minutes\")\n"
   ]
  },
  {
   "cell_type": "markdown",
   "metadata": {},
   "source": [
    "#### 8. Directors, System Status, and CSOC Flag:"
   ]
  },
  {
   "cell_type": "code",
   "execution_count": 12,
   "metadata": {},
   "outputs": [
    {
     "name": "stdout",
     "output_type": "stream",
     "text": [
      "Summary of Time to Resolve:\n",
      "count     19829.000000\n",
      "mean      28307.726310\n",
      "std       59780.275622\n",
      "min           0.000000\n",
      "25%         397.000000\n",
      "50%        2745.000000\n",
      "75%       33611.000000\n",
      "max      481402.000000\n",
      "Name: Time to Resolve, dtype: float64\n",
      "\n",
      "Average Time to Resolve: 28307.73 minutes\n"
     ]
    },
    {
     "name": "stderr",
     "output_type": "stream",
     "text": [
      "/usr/local/lib/python3.6/dist-packages/ipykernel_launcher.py:9: SettingWithCopyWarning: \n",
      "A value is trying to be set on a copy of a slice from a DataFrame.\n",
      "Try using .loc[row_indexer,col_indexer] = value instead\n",
      "\n",
      "See the caveats in the documentation: http://pandas.pydata.org/pandas-docs/stable/user_guide/indexing.html#returning-a-view-versus-a-copy\n",
      "  if __name__ == '__main__':\n"
     ]
    }
   ],
   "source": [
    "# Convert 'inc_opened_at' and 'inc_resolved_at' to datetime\n",
    "data['inc_opened_at'] = pd.to_datetime(data['inc_opened_at'])\n",
    "data['inc_resolved_at'] = pd.to_datetime(data['inc_resolved_at'])\n",
    "\n",
    "# Filter out cases where resolved timestamp is earlier than opened timestamp\n",
    "data = data[data['inc_resolved_at'] >= data['inc_opened_at']]\n",
    "\n",
    "# Calculate the time taken to resolve incidents\n",
    "data['Time to Resolve'] = (data['inc_resolved_at'] - data['inc_opened_at']).dt.total_seconds() / 60  # Convert to minutes\n",
    "\n",
    "# Display the summary and important highlights\n",
    "print(\"Summary of Time to Resolve:\")\n",
    "print(data['Time to Resolve'].describe())\n",
    "\n",
    "# Display additional highlights (e.g., average time to resolve)\n",
    "average_time_to_resolve = data['Time to Resolve'].mean()\n",
    "print(f\"\\nAverage Time to Resolve: {average_time_to_resolve:.2f} minutes\")"
   ]
  },
  {
   "cell_type": "markdown",
   "metadata": {},
   "source": [
    "#### 9. Nayan Scope:"
   ]
  },
  {
   "cell_type": "code",
   "execution_count": 13,
   "metadata": {},
   "outputs": [
    {
     "name": "stdout",
     "output_type": "stream",
     "text": [
      "Summary of Cybersecurity Relevance:\n",
      "Potentially Relevant to Cybersecurity    19829\n",
      "Name: Cybersecurity Relevance, dtype: int64\n",
      "\n",
      "Important Highlights:\n",
      "Potentially Relevant to Cybersecurity: 19829 incidents\n"
     ]
    },
    {
     "name": "stderr",
     "output_type": "stream",
     "text": [
      "/usr/local/lib/python3.6/dist-packages/ipykernel_launcher.py:13: SettingWithCopyWarning: \n",
      "A value is trying to be set on a copy of a slice from a DataFrame.\n",
      "Try using .loc[row_indexer,col_indexer] = value instead\n",
      "\n",
      "See the caveats in the documentation: http://pandas.pydata.org/pandas-docs/stable/user_guide/indexing.html#returning-a-view-versus-a-copy\n",
      "  del sys.path[0]\n"
     ]
    }
   ],
   "source": [
    "# Define a function to categorize incidents based on directors, system status, and CSOC flag\n",
    "def categorize_directors_system_csoc(row):\n",
    "    directors = row['Directors']\n",
    "    system_status = row['System Status']\n",
    "    csoc_flag = row['CSOC flag']\n",
    "\n",
    "    if pd.notna(directors) or pd.notna(system_status) or pd.notna(csoc_flag):\n",
    "        return 'Potentially Relevant to Cybersecurity'\n",
    "    else:\n",
    "        return 'Other'\n",
    "\n",
    "# Create a new column 'Cybersecurity Relevance' and apply the categorization function\n",
    "data['Cybersecurity Relevance'] = data.apply(categorize_directors_system_csoc, axis=1)\n",
    "\n",
    "# Display the summary and important highlights\n",
    "summary = data['Cybersecurity Relevance'].value_counts()\n",
    "\n",
    "print(\"Summary of Cybersecurity Relevance:\")\n",
    "print(summary)\n",
    "\n",
    "# Display additional highlights (e.g., counts for each Cybersecurity Relevance category)\n",
    "print(\"\\nImportant Highlights:\")\n",
    "for relevance_type in summary.index:\n",
    "    count = summary[relevance_type]\n",
    "    print(f\"{relevance_type}: {count} incidents\")"
   ]
  },
  {
   "cell_type": "markdown",
   "metadata": {},
   "source": [
    "#### 10. Trimmed Issue and Short Description"
   ]
  },
  {
   "cell_type": "code",
   "execution_count": 14,
   "metadata": {},
   "outputs": [
    {
     "name": "stdout",
     "output_type": "stream",
     "text": [
      "Summary of Time to Resolve:\n",
      "count     19829.000000\n",
      "mean      28307.726310\n",
      "std       59780.275622\n",
      "min           0.000000\n",
      "25%         397.000000\n",
      "50%        2745.000000\n",
      "75%       33611.000000\n",
      "max      481402.000000\n",
      "Name: Time to Resolve, dtype: float64\n",
      "\n",
      "Average Time to Resolve: 28307.73 minutes\n"
     ]
    },
    {
     "name": "stderr",
     "output_type": "stream",
     "text": [
      "/usr/local/lib/python3.6/dist-packages/ipykernel_launcher.py:2: SettingWithCopyWarning: \n",
      "A value is trying to be set on a copy of a slice from a DataFrame.\n",
      "Try using .loc[row_indexer,col_indexer] = value instead\n",
      "\n",
      "See the caveats in the documentation: http://pandas.pydata.org/pandas-docs/stable/user_guide/indexing.html#returning-a-view-versus-a-copy\n",
      "  \n",
      "/usr/local/lib/python3.6/dist-packages/ipykernel_launcher.py:3: SettingWithCopyWarning: \n",
      "A value is trying to be set on a copy of a slice from a DataFrame.\n",
      "Try using .loc[row_indexer,col_indexer] = value instead\n",
      "\n",
      "See the caveats in the documentation: http://pandas.pydata.org/pandas-docs/stable/user_guide/indexing.html#returning-a-view-versus-a-copy\n",
      "  This is separate from the ipykernel package so we can avoid doing imports until\n"
     ]
    }
   ],
   "source": [
    "# Convert 'inc_opened_at' and 'inc_resolved_at' to datetime\n",
    "data['inc_opened_at'] = pd.to_datetime(data['inc_opened_at'])\n",
    "data['inc_resolved_at'] = pd.to_datetime(data['inc_resolved_at'])\n",
    "\n",
    "# Explicitly create a copy of the DataFrame to avoid SettingWithCopyWarning\n",
    "data_copy = data.copy()\n",
    "\n",
    "# Filter out cases where resolved timestamp is earlier than opened timestamp using .loc on the copy\n",
    "data_copy.loc[data_copy['inc_resolved_at'] >= data_copy['inc_opened_at'], 'Time to Resolve'] = (\n",
    "    data_copy['inc_resolved_at'] - data_copy['inc_opened_at']\n",
    ").dt.total_seconds() / 60  # Convert to minutes\n",
    "\n",
    "# Display the summary and important highlights\n",
    "print(\"Summary of Time to Resolve:\")\n",
    "print(data_copy['Time to Resolve'].describe())\n",
    "\n",
    "# Display additional highlights (e.g., average time to resolve)\n",
    "average_time_to_resolve = data_copy['Time to Resolve'].mean()\n",
    "print(f\"\\nAverage Time to Resolve: {average_time_to_resolve:.2f} minutes\")\n"
   ]
  },
  {
   "cell_type": "markdown",
   "metadata": {},
   "source": [
    "#### 11. Additional Flags and Markers:"
   ]
  },
  {
   "cell_type": "code",
   "execution_count": 15,
   "metadata": {},
   "outputs": [
    {
     "name": "stdout",
     "output_type": "stream",
     "text": [
      "Summary of Nayan Scope Category:\n",
      "Scope Present    19829\n",
      "Name: Nayan Scope Category, dtype: int64\n",
      "\n",
      "Important Highlights:\n",
      "Scope Present: 19829 incidents\n"
     ]
    },
    {
     "name": "stderr",
     "output_type": "stream",
     "text": [
      "/usr/local/lib/python3.6/dist-packages/ipykernel_launcher.py:11: SettingWithCopyWarning: \n",
      "A value is trying to be set on a copy of a slice from a DataFrame.\n",
      "Try using .loc[row_indexer,col_indexer] = value instead\n",
      "\n",
      "See the caveats in the documentation: http://pandas.pydata.org/pandas-docs/stable/user_guide/indexing.html#returning-a-view-versus-a-copy\n",
      "  # This is added back by InteractiveShellApp.init_path()\n"
     ]
    }
   ],
   "source": [
    "# Define a function to categorize incidents based on Nayan Scope\n",
    "def categorize_nayan_scope(row):\n",
    "    nayan_scope = row['Nayan Scope']\n",
    "\n",
    "    if pd.notna(nayan_scope):\n",
    "        return 'Scope Present'\n",
    "    else:\n",
    "        return 'No Scope Information'\n",
    "\n",
    "# Create a new column 'Nayan Scope Category' and apply the categorization function\n",
    "data['Nayan Scope Category'] = data.apply(categorize_nayan_scope, axis=1)\n",
    "\n",
    "# Display the summary and important highlights\n",
    "summary = data['Nayan Scope Category'].value_counts()\n",
    "\n",
    "print(\"Summary of Nayan Scope Category:\")\n",
    "print(summary)\n",
    "\n",
    "# Display additional highlights (e.g., counts for each Nayan Scope Category)\n",
    "print(\"\\nImportant Highlights:\")\n",
    "for scope_category in summary.index:\n",
    "    count = summary[scope_category]\n",
    "    print(f\"{scope_category}: {count} incidents\")\n"
   ]
  },
  {
   "cell_type": "markdown",
   "metadata": {},
   "source": [
    "#### 12. Event Management with Dynatrace:"
   ]
  },
  {
   "cell_type": "code",
   "execution_count": 16,
   "metadata": {},
   "outputs": [
    {
     "name": "stdout",
     "output_type": "stream",
     "text": [
      "Summary of Issue Details Category:\n",
      "Issue Details Present    19829\n",
      "Name: Issue Details Category, dtype: int64\n",
      "\n",
      "Important Highlights:\n",
      "Issue Details Present: 19829 incidents\n"
     ]
    },
    {
     "name": "stderr",
     "output_type": "stream",
     "text": [
      "/usr/local/lib/python3.6/dist-packages/ipykernel_launcher.py:12: SettingWithCopyWarning: \n",
      "A value is trying to be set on a copy of a slice from a DataFrame.\n",
      "Try using .loc[row_indexer,col_indexer] = value instead\n",
      "\n",
      "See the caveats in the documentation: http://pandas.pydata.org/pandas-docs/stable/user_guide/indexing.html#returning-a-view-versus-a-copy\n",
      "  if sys.path[0] == '':\n"
     ]
    }
   ],
   "source": [
    "# Define a function to categorize incidents based on Trimmed Issue and Short Description\n",
    "def categorize_trimmed_issue_short_description(row):\n",
    "    trimmed_issue = row['Trimmed issue']\n",
    "    short_description = row['inc_short_description']\n",
    "\n",
    "    if pd.notna(trimmed_issue) or pd.notna(short_description):\n",
    "        return 'Issue Details Present'\n",
    "    else:\n",
    "        return 'No Issue Details'\n",
    "\n",
    "# Create a new column 'Issue Details Category' and apply the categorization function\n",
    "data['Issue Details Category'] = data.apply(categorize_trimmed_issue_short_description, axis=1)\n",
    "\n",
    "# Display the summary and important highlights\n",
    "summary = data['Issue Details Category'].value_counts()\n",
    "\n",
    "print(\"Summary of Issue Details Category:\")\n",
    "print(summary)\n",
    "\n",
    "# Display additional highlights (e.g., counts for each Issue Details Category)\n",
    "print(\"\\nImportant Highlights:\")\n",
    "for details_category in summary.index:\n",
    "    count = summary[details_category]\n",
    "    print(f\"{details_category}: {count} incidents\")\n"
   ]
  },
  {
   "cell_type": "markdown",
   "metadata": {},
   "source": [
    "#### 13. CSOC Flag and Monitoring:"
   ]
  },
  {
   "cell_type": "code",
   "execution_count": 17,
   "metadata": {},
   "outputs": [
    {
     "name": "stdout",
     "output_type": "stream",
     "text": [
      "Summary of Flags and Markers Category:\n",
      "Additional Flags or Markers Present    19829\n",
      "Name: Flags and Markers Category, dtype: int64\n"
     ]
    },
    {
     "name": "stderr",
     "output_type": "stream",
     "text": [
      "/usr/local/lib/python3.6/dist-packages/ipykernel_launcher.py:13: SettingWithCopyWarning: \n",
      "A value is trying to be set on a copy of a slice from a DataFrame.\n",
      "Try using .loc[row_indexer,col_indexer] = value instead\n",
      "\n",
      "See the caveats in the documentation: http://pandas.pydata.org/pandas-docs/stable/user_guide/indexing.html#returning-a-view-versus-a-copy\n",
      "  del sys.path[0]\n"
     ]
    }
   ],
   "source": [
    "# Define a function to categorize incidents based on additional flags and markers\n",
    "def categorize_flags_markers(row):\n",
    "    bucket1 = row['Bucket 1']\n",
    "    bucket2 = row['Bucket 2']\n",
    "    monitoring = row['Monitoring']\n",
    "\n",
    "    if pd.notna(bucket1) or pd.notna(bucket2) or pd.notna(monitoring):\n",
    "        return 'Additional Flags or Markers Present'\n",
    "    else:\n",
    "        return 'No Additional Flags or Markers'\n",
    "\n",
    "# Create a new column 'Flags and Markers Category' and apply the categorization function\n",
    "data['Flags and Markers Category'] = data.apply(categorize_flags_markers, axis=1)\n",
    "\n",
    "# Display the summary and important highlights\n",
    "summary = data['Flags and Markers Category'].value_counts()\n",
    "\n",
    "print(\"Summary of Flags and Markers Category:\")\n",
    "print(summary)"
   ]
  },
  {
   "cell_type": "markdown",
   "metadata": {},
   "source": [
    "#### 14. Event Management with Dynatrace:"
   ]
  },
  {
   "cell_type": "code",
   "execution_count": 18,
   "metadata": {},
   "outputs": [
    {
     "name": "stdout",
     "output_type": "stream",
     "text": [
      "Summary of Event Management Category:\n",
      "Other    19829\n",
      "Name: Event Management Category, dtype: int64\n"
     ]
    },
    {
     "name": "stderr",
     "output_type": "stream",
     "text": [
      "/usr/local/lib/python3.6/dist-packages/ipykernel_launcher.py:12: SettingWithCopyWarning: \n",
      "A value is trying to be set on a copy of a slice from a DataFrame.\n",
      "Try using .loc[row_indexer,col_indexer] = value instead\n",
      "\n",
      "See the caveats in the documentation: http://pandas.pydata.org/pandas-docs/stable/user_guide/indexing.html#returning-a-view-versus-a-copy\n",
      "  if sys.path[0] == '':\n"
     ]
    }
   ],
   "source": [
    "# Define a function to categorize incidents related to Event Management with Dynatrace\n",
    "def categorize_event_management_dynatrace(row):\n",
    "    event_management_category = row['inc_category']\n",
    "    dynatrace_related = 'Dynatrace' in str(row['Trimmed issue']).lower()\n",
    "\n",
    "    if event_management_category == 'Event Management' and dynatrace_related:\n",
    "        return 'Event Management with Dynatrace'\n",
    "    else:\n",
    "        return 'Other'\n",
    "\n",
    "# Create a new column 'Event Management Category' and apply the categorization function\n",
    "data['Event Management Category'] = data.apply(categorize_event_management_dynatrace, axis=1)\n",
    "\n",
    "# Display the summary and important highlights\n",
    "summary = data['Event Management Category'].value_counts()\n",
    "\n",
    "print(\"Summary of Event Management Category:\")\n",
    "print(summary)"
   ]
  },
  {
   "cell_type": "markdown",
   "metadata": {},
   "source": [
    "#### 13. CSOC Flag and Monitoring:"
   ]
  },
  {
   "cell_type": "code",
   "execution_count": 19,
   "metadata": {},
   "outputs": [
    {
     "name": "stdout",
     "output_type": "stream",
     "text": [
      "Summary of CSOC Flag and Monitoring Category:\n",
      "CSOC Flag or Monitoring Present    19829\n",
      "Name: CSOC Flag and Monitoring Category, dtype: int64\n"
     ]
    },
    {
     "name": "stderr",
     "output_type": "stream",
     "text": [
      "/usr/local/lib/python3.6/dist-packages/ipykernel_launcher.py:11: SettingWithCopyWarning: \n",
      "A value is trying to be set on a copy of a slice from a DataFrame.\n",
      "Try using .loc[row_indexer,col_indexer] = value instead\n",
      "\n",
      "See the caveats in the documentation: http://pandas.pydata.org/pandas-docs/stable/user_guide/indexing.html#returning-a-view-versus-a-copy\n",
      "  # This is added back by InteractiveShellApp.init_path()\n"
     ]
    }
   ],
   "source": [
    "def categorize_csoc_flag_monitoring(row):\n",
    "    csoc_flag = row['CSOC flag']\n",
    "    monitoring = row['Monitoring']\n",
    "\n",
    "    if pd.notna(csoc_flag) or pd.notna(monitoring):\n",
    "        return 'CSOC Flag or Monitoring Present'\n",
    "    else:\n",
    "        return 'No CSOC Flag or Monitoring'\n",
    "\n",
    "# Create a new column 'CSOC Flag and Monitoring Category' and apply the categorization function\n",
    "data['CSOC Flag and Monitoring Category'] = data.apply(categorize_csoc_flag_monitoring, axis=1)\n",
    "\n",
    "# Display the summary and important highlights\n",
    "summary = data['CSOC Flag and Monitoring Category'].value_counts()\n",
    "\n",
    "print(\"Summary of CSOC Flag and Monitoring Category:\")\n",
    "print(summary)"
   ]
  },
  {
   "cell_type": "markdown",
   "metadata": {},
   "source": [
    "#### 14. Communication in Close Notes:"
   ]
  },
  {
   "cell_type": "code",
   "execution_count": 20,
   "metadata": {},
   "outputs": [
    {
     "name": "stdout",
     "output_type": "stream",
     "text": [
      "Summary of Communication in Close Notes Category:\n",
      "Communication in Close Notes    19829\n",
      "Name: Communication in Close Notes Category, dtype: int64\n"
     ]
    },
    {
     "name": "stderr",
     "output_type": "stream",
     "text": [
      "/usr/local/lib/python3.6/dist-packages/ipykernel_launcher.py:11: SettingWithCopyWarning: \n",
      "A value is trying to be set on a copy of a slice from a DataFrame.\n",
      "Try using .loc[row_indexer,col_indexer] = value instead\n",
      "\n",
      "See the caveats in the documentation: http://pandas.pydata.org/pandas-docs/stable/user_guide/indexing.html#returning-a-view-versus-a-copy\n",
      "  # This is added back by InteractiveShellApp.init_path()\n"
     ]
    }
   ],
   "source": [
    "# Define a function to categorize incidents based on communication in Close Notes\n",
    "def categorize_communication_in_close_notes(row):\n",
    "    close_notes = row['inc_close_notes']\n",
    "\n",
    "    if pd.notna(close_notes):\n",
    "        return 'Communication in Close Notes'\n",
    "    else:\n",
    "        return 'No Communication in Close Notes'\n",
    "\n",
    "# Create a new column 'Communication in Close Notes Category' and apply the categorization function\n",
    "data['Communication in Close Notes Category'] = data.apply(categorize_communication_in_close_notes, axis=1)\n",
    "\n",
    "# Display the summary and important highlights\n",
    "summary = data['Communication in Close Notes Category'].value_counts()\n",
    "\n",
    "print(\"Summary of Communication in Close Notes Category:\")\n",
    "print(summary)\n"
   ]
  },
  {
   "cell_type": "code",
   "execution_count": 21,
   "metadata": {},
   "outputs": [
    {
     "data": {
      "image/png": "[encoded data removed]",
      "text/plain": [
       "<Figure size 360x216 with 1 Axes>"
      ]
     },
     "metadata": {},
     "output_type": "display_data"
    },
    {
     "data": {
      "image/png": "[encoded data removed]",
      "text/plain": [
       "<Figure size 360x216 with 1 Axes>"
      ]
     },
     "metadata": {},
     "output_type": "display_data"
    },
    {
     "data": {
      "image/png": "[encoded data removed]",
      "text/plain": [
       "<Figure size 360x216 with 1 Axes>"
      ]
     },
     "metadata": {},
     "output_type": "display_data"
    },
    {
     "data": {
      "image/png": "[encoded data removed]",
      "text/plain": [
       "<Figure size 432x288 with 1 Axes>"
      ]
     },
     "metadata": {},
     "output_type": "display_data"
    },
    {
     "data": {
      "image/png": "[encoded data removed]",
      "text/plain": [
       "<Figure size 432x216 with 1 Axes>"
      ]
     },
     "metadata": {},
     "output_type": "display_data"
    },
    {
     "data": {
      "image/png": "[encoded data removed]",
      "text/plain": [
       "<Figure size 432x288 with 1 Axes>"
      ]
     },
     "metadata": {},
     "output_type": "display_data"
    }
   ],
   "source": [
    "\n",
    "# Set the style of seaborn for better aesthetics\n",
    "sns.set(style=\"whitegrid\")\n",
    "\n",
    "# Visualization 1: Nature of Incidents\n",
    "plt.figure(figsize=(5, 3))\n",
    "sns.countplot(x='inc_category', data=data)\n",
    "plt.title('Nature of Incidents')\n",
    "plt.xlabel('Incident Category')\n",
    "plt.ylabel('Count')\n",
    "plt.xticks(rotation=45)\n",
    "plt.show()\n",
    "\n",
    "# Visualization 2: Priority and Resolution\n",
    "plt.figure(figsize=(5, 3))\n",
    "sns.countplot(x='inc_priority', hue='inc_incident_state', data=data)\n",
    "plt.title('Priority and Resolution')\n",
    "plt.xlabel('Priority')\n",
    "plt.ylabel('Count')\n",
    "plt.show()\n",
    "\n",
    "# Visualization 3: Incident States\n",
    "plt.figure(figsize=(5, 3))\n",
    "sns.countplot(x='inc_incident_state', data=data)\n",
    "plt.title('Incident States')\n",
    "plt.xlabel('Incident State')\n",
    "plt.ylabel('Count')\n",
    "plt.show()\n",
    "\n",
    "# # Visualization 4: MTTR and Breach\n",
    "# plt.figure(figsize=(8, 6))\n",
    "# sns.histplot(data=data, x='MTTR (mins)', kde=True)\n",
    "# plt.title('Distribution of MTTR')\n",
    "# plt.xlabel('MTTR (mins)')\n",
    "# plt.ylabel('Frequency')\n",
    "# plt.show()\n",
    "\n",
    "# Visualization 5: Buckets and Monitoring\n",
    "plt.figure(figsize=(6, 4))\n",
    "sns.countplot(x='Bucket 1', hue='Monitoring', data=data)\n",
    "plt.title('Buckets and Monitoring')\n",
    "plt.xlabel('Bucket 1')\n",
    "plt.ylabel('Count')\n",
    "plt.show()\n",
    "\n",
    "# Visualization 6: Directors, System Status, and CSOC Flag\n",
    "plt.figure(figsize=(6, 3))\n",
    "sns.countplot(x='Directors', hue='System Status', data=data)\n",
    "plt.title('Directors, System Status, and CSOC Flag')\n",
    "plt.xlabel('Directors')\n",
    "plt.ylabel('Count')\n",
    "plt.xticks(rotation=45)\n",
    "plt.show()\n",
    "\n",
    "# Visualization 7: Communication in Close Notes\n",
    "plt.figure(figsize=(6, 4))\n",
    "sns.countplot(x='Communication in Close Notes Category', data=data)\n",
    "plt.title('Communication in Close Notes')\n",
    "plt.xlabel('Communication Category')\n",
    "plt.ylabel('Count')\n",
    "plt.show()\n"
   ]
  },
  {
   "cell_type": "code",
   "execution_count": null,
   "metadata": {},
   "outputs": [],
   "source": []
  }
 ],
 "metadata": {
  "kernelspec": {
   "display_name": "Python 3",
   "language": "python",
   "name": "python3"
  },
  "language_info": {
   "codemirror_mode": {
    "name": "ipython",
    "version": 3
   },
   "file_extension": ".py",
   "mimetype": "text/x-python",
   "name": "python",
   "nbconvert_exporter": "python",
   "pygments_lexer": "ipython3",
   "version": "3.6.9"
  }
 },
 "nbformat": 4,
 "nbformat_minor": 4
}
