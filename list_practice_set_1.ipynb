{
 "cells": [
  {
   "cell_type": "markdown",
   "metadata": {},
   "source": [
    "### 1. Remove empty tuples from a list\n",
    "Input : tuples = [(), ('ram','15','8'), (), ('laxman', 'sita'), \n",
    "                  ('krishna', 'akbar', '45'), ('',''),()]\n",
    "                  \n",
    "Output : [('ram', '15', '8'), ('laxman', 'sita'), \n",
    "          ('krishna', 'akbar', '45'), ('', '')]\n",
    "\n",
    "Input : tuples = [('','','8'), (), ('0', '00', '000'), \n",
    "                 ('birbal', '', '45'), (''), (),  ('',''),()]\n",
    "                 \n",
    "Output : [('', '', '8'), ('0', '00', '000'), ('birbal', '', \n",
    "          '45'), ('', '')]"
   ]
  },
  {
   "cell_type": "markdown",
   "metadata": {},
   "source": [
    "##### using the list comprehension"
   ]
  },
  {
   "cell_type": "code",
   "execution_count": 2,
   "metadata": {},
   "outputs": [
    {
     "name": "stdout",
     "output_type": "stream",
     "text": [
      "[('ram', '15', '8'), ('laxman', 'sita'), ('krishna', 'akbar', '45'), ('', '')]\n"
     ]
    }
   ],
   "source": [
    "# Python program to remove empty tuples from a\n",
    "# list of tuples function to remove empty tuples\n",
    "# using list comprehension\n",
    "def Remove(tuples):\n",
    "    tuples = [t for t in tuples if t]\n",
    "    return tuples\n",
    "\n",
    "# Driver Code\n",
    "tuples = [(), ('ram','15','8'), (), ('laxman', 'sita'),('krishna', 'akbar', '45'), ('',''),()]\n",
    "print(Remove(tuples))"
   ]
  },
  {
   "cell_type": "markdown",
   "metadata": {},
   "source": [
    "##### Using the filter() method"
   ]
  },
  {
   "cell_type": "code",
   "execution_count": 9,
   "metadata": {},
   "outputs": [
    {
     "data": {
      "text/plain": [
       "<filter at 0x7f0fca6430b8>"
      ]
     },
     "execution_count": 9,
     "metadata": {},
     "output_type": "execute_result"
    }
   ],
   "source": [
    "# Python2 program to remove empty tuples\n",
    "# from a list of tuples function to remove \n",
    "# empty tuples using filter\n",
    "#python3 it returns generator not the desired output\n",
    "def Remove(tuples):\n",
    "    tuples = filter(None, tuples)\n",
    "    return tuples\n",
    "  \n",
    "# Driver Code\n",
    "tuple = [(), ('ram','15','8'), (), ('laxman', 'sita'),('krishna', 'akbar', '45'), ('',''),()]\n",
    "Remove(tuple)"
   ]
  },
  {
   "cell_type": "markdown",
   "metadata": {},
   "source": [
    "### 2. Remove all the occurrences of an element from a list in Python\n",
    "Input :\n",
    "1 1 2 3 4 5 1 2\n",
    "1\n",
    "\n",
    "Output :\n",
    "2 3 4 5 2\n",
    "\n",
    "Explanation : The input list is [1, 1, 2, 3, 4, 5, 1, 2] and the item to be removed is 1.\n",
    "After removing the item, the output list is [2, 3, 4, 5, 2]\n",
    "\n",
    "Input :\n",
    "5 6 7 8 9 10\n",
    "7\n",
    "\n",
    "Output :\n",
    "5 6 8 9 10"
   ]
  },
  {
   "cell_type": "code",
   "execution_count": 10,
   "metadata": {},
   "outputs": [
    {
     "name": "stdout",
     "output_type": "stream",
     "text": [
      "The original list is : [1, 3, 4, 6, 5, 1]\n",
      "The list after performing the remove operation is : [3, 4, 6, 5]\n"
     ]
    }
   ],
   "source": [
    "# Python 3 code to demonstrate\n",
    "# the removal of all occurrences of a \n",
    "# given item using list comprehension\n",
    "  \n",
    "def remove_items(test_list, item):\n",
    "      \n",
    "    # using list comprehension to perform the task\n",
    "    res = [i for i in test_list if i != item]\n",
    "  \n",
    "    return res\n",
    "  \n",
    "# driver code\n",
    "if __name__==\"__main__\":\n",
    "      \n",
    "    # initializing the list\n",
    "    test_list = [1, 3, 4, 6, 5, 1]\n",
    "  \n",
    "    # the item which is to be removed\n",
    "    item = 1\n",
    "  \n",
    "    # printing the original list\n",
    "    print (\"The original list is : \" + str(test_list))\n",
    "  \n",
    "    # calling the function remove_items()\n",
    "    res = remove_items(test_list, item)\n",
    "  \n",
    "    # printing result\n",
    "    print (\"The list after performing the remove operation is : \" + str(res))"
   ]
  },
  {
   "cell_type": "code",
   "execution_count": 11,
   "metadata": {},
   "outputs": [
    {
     "name": "stdout",
     "output_type": "stream",
     "text": [
      "The original list is : [1, 3, 4, 6, 5, 1]\n",
      "The list after performing the remove operation is : [3, 4, 6, 5]\n"
     ]
    }
   ],
   "source": [
    "# Python 3 code to demonstrate\n",
    "# the removal of all occurrences of\n",
    "# a given item using remove()\n",
    "  \n",
    "def remove_items(test_list, item):\n",
    "      \n",
    "    # remove the item for all its occurrences\n",
    "    for i in test_list:\n",
    "        if(i == item):\n",
    "            test_list.remove(i)\n",
    "  \n",
    "    return test_list\n",
    "  \n",
    "# driver code\n",
    "if __name__==\"__main__\":\n",
    "      \n",
    "    # initializing the list\n",
    "    test_list = [1, 3, 4, 6, 5, 1]\n",
    "  \n",
    "    # the item which is to be removed\n",
    "    item = 1\n",
    "  \n",
    "    # printing the original list\n",
    "    print (\"The original list is : \" + str(test_list))\n",
    "  \n",
    "    # calling the function remove_items()\n",
    "    res = remove_items(test_list, item)\n",
    "  \n",
    "    # printing result\n",
    "    print (\"The list after performing the remove operation is : \" + str(res))"
   ]
  },
  {
   "cell_type": "markdown",
   "metadata": {},
   "source": [
    "### 3. print even numbers in a list\n",
    "Input: list1 = [2, 7, 5, 64, 14]\n",
    "\n",
    "Output: [2, 64, 14]\n",
    "\n",
    "Input: list2 = [12, 14, 95, 3]\n",
    "\n",
    "Output: [12, 14]"
   ]
  },
  {
   "cell_type": "code",
   "execution_count": 12,
   "metadata": {},
   "outputs": [
    {
     "name": "stdout",
     "output_type": "stream",
     "text": [
      "10 4 66 "
     ]
    }
   ],
   "source": [
    "#using for loop\n",
    "\n",
    "# Python program to print Even Numbers in a List\n",
    " \n",
    "# list of numbers\n",
    "list1 = [10, 21, 4, 45, 66, 93]\n",
    " \n",
    "# iterating each number in list\n",
    "for num in list1:\n",
    " \n",
    "    # checking condition\n",
    "    if num % 2 == 0:\n",
    "        print(num, end=\" \")"
   ]
  },
  {
   "cell_type": "code",
   "execution_count": 13,
   "metadata": {},
   "outputs": [
    {
     "name": "stdout",
     "output_type": "stream",
     "text": [
      "Even numbers in the list:  [10, 4, 66]\n"
     ]
    }
   ],
   "source": [
    "#using list comprehension\n",
    "# Python program to print even Numbers in a List\n",
    "\n",
    "# list of numbers\n",
    "list1 = [10, 21, 4, 45, 66, 93]\n",
    "\n",
    "# using list comprehension\n",
    "even_nos = [num for num in list1 if num % 2 == 0]\n",
    "\n",
    "print(\"Even numbers in the list: \", even_nos)"
   ]
  },
  {
   "cell_type": "markdown",
   "metadata": {},
   "source": [
    "### 4. count unique values inside a list"
   ]
  },
  {
   "cell_type": "code",
   "execution_count": 14,
   "metadata": {},
   "outputs": [
    {
     "name": "stdout",
     "output_type": "stream",
     "text": [
      "No of unique items are: 5\n"
     ]
    }
   ],
   "source": [
    "# taking an input list\n",
    "input_list = [1, 2, 2, 5, 8, 4, 4, 8]\n",
    " \n",
    "# taking an input list\n",
    "l1 = []\n",
    " \n",
    "# taking an counter\n",
    "count = 0\n",
    " \n",
    "# traversing the array\n",
    "for item in input_list:\n",
    "    if item not in l1:\n",
    "        count += 1\n",
    "        l1.append(item)\n",
    " \n",
    "# printing the output\n",
    "print(\"No of unique items are:\", count)"
   ]
  },
  {
   "cell_type": "code",
   "execution_count": 15,
   "metadata": {},
   "outputs": [
    {
     "name": "stdout",
     "output_type": "stream",
     "text": [
      "No of unique items in the list are: 5\n"
     ]
    }
   ],
   "source": [
    "#using counter\n",
    "# importing Counter module\n",
    "from collections import Counter\n",
    "\n",
    "\n",
    "input_list = [1, 2, 2, 5, 8, 4, 4, 8]\n",
    "\n",
    "# creating a list with the keys\n",
    "items = Counter(input_list).keys()\n",
    "print(\"No of unique items in the list are:\", len(items))"
   ]
  },
  {
   "cell_type": "code",
   "execution_count": 18,
   "metadata": {},
   "outputs": [
    {
     "name": "stdout",
     "output_type": "stream",
     "text": [
      "unique numbers are:  dict_keys([1, 2, 5, 8, 4])\n"
     ]
    }
   ],
   "source": [
    "print(\"unique numbers are: \", items)"
   ]
  },
  {
   "cell_type": "markdown",
   "metadata": {},
   "source": [
    "### 5. Sort the list according to the column using lambda\n",
    "Input :\n",
    "array = [[1, 3, 3], [2, 1, 2], [3, 2, 1]]\n",
    "\n",
    "Output :\n",
    "Sorted array specific to column 0, [[1, 3, 3], [2, 1, 2], [3, 2, 1]]\n",
    "Sorted array specific to column 1, [[2, 1, 2], [3, 2, 1], [1, 3, 3]]\n",
    "Sorted array specific to column 2, [[3, 2, 1], [2, 1, 2], [1, 3, 3]]\n",
    "\n",
    "Input :\n",
    "array = [[‘java’, 1995], [‘c++’, 1983], [‘python’, 1989]]\n",
    "\n",
    "Output :\n",
    "Sorted array specific to column 0, [[‘c++’, 1983], [‘java’, 1995], [‘python’, 1989]]\n",
    "Sorted array specific to column 1, [[‘c++’, 1983], [‘python’, 1989], [‘java’, 1995]]"
   ]
  },
  {
   "cell_type": "code",
   "execution_count": 19,
   "metadata": {},
   "outputs": [
    {
     "name": "stdout",
     "output_type": "stream",
     "text": [
      "Sorted array specific to column 0,[['c++', 1983], ['java', 1995], ['python', 1989]]\n",
      "Sorted array specific to column 1,[['c++', 1983], ['python', 1989], ['java', 1995]]\n"
     ]
    }
   ],
   "source": [
    "# Python code to sorting list \n",
    "# according to the column\n",
    "  \n",
    "# sortarray function is defined\n",
    "def sortarray(array):\n",
    "      \n",
    "    for i in range(len(array[0])):\n",
    "          \n",
    "        # sorting array in ascending \n",
    "        # order specific to column i,\n",
    "        # here i is the column index\n",
    "        sortedcolumn = sorted(array, key = lambda x:x[i])\n",
    "          \n",
    "        # After sorting array Column 1\n",
    "        print(\"Sorted array specific to column {},{}\".format(i, sortedcolumn))\n",
    "      \n",
    "# Driver code \n",
    "if __name__ == '__main__': \n",
    "      \n",
    "    # array of size 3 X 2 \n",
    "    array = [['java', 1995], ['c++', 1983],\n",
    "             ['python', 1989]]\n",
    "      \n",
    "    # passing array in sortarray function\n",
    "    sortarray(array)"
   ]
  },
  {
   "cell_type": "markdown",
   "metadata": {},
   "source": [
    "### 6. Program to print duplicates from a list of integers\n",
    "Input : list = [10, 20, 30, 20, 20, 30, 40, 50, -20, 60, 60, -20, -20]\n",
    "\n",
    "Output : output_list = [20, 30, -20, 60]\n",
    "\n",
    "\n",
    "Input :  list = [-1, 1, -1, 8]\n",
    "\n",
    "Output : output_list = [-1]"
   ]
  },
  {
   "cell_type": "code",
   "execution_count": 22,
   "metadata": {},
   "outputs": [
    {
     "name": "stdout",
     "output_type": "stream",
     "text": [
      "[20, 30, -20, 60]\n"
     ]
    }
   ],
   "source": [
    "#using Brute Force algorithm\n",
    "\n",
    "# Python program to print duplicates from a list of integers\n",
    "def Repeat(x):\n",
    "    _size = len(x)\n",
    "    repeated = []\n",
    "    for i in range(_size):\n",
    "        k = i + 1\n",
    "        for j in range(k, _size):\n",
    "            if x[i] == x[j] and x[i] not in repeated:\n",
    "                repeated.append(x[i])\n",
    "    return repeated\n",
    " \n",
    "# Driver Code\n",
    "list1 = [10, 20, 30, 20, 20, 30, 40,\n",
    "         50, -20, 60, 60, -20, -20]\n",
    "print (Repeat(list1))"
   ]
  },
  {
   "cell_type": "code",
   "execution_count": 23,
   "metadata": {},
   "outputs": [
    {
     "name": "stdout",
     "output_type": "stream",
     "text": [
      "[1, 2, 5, 9]\n"
     ]
    }
   ],
   "source": [
    "#using count method\n",
    "# program to print duplicate numbers in a given list\n",
    "# provided input\n",
    "list = [1,2,1,2,3,4,5,1,1,2,5,6,7,8,9,9] \n",
    " \n",
    "new = []  # defining output list\n",
    " \n",
    "# condition for reviewing every\n",
    "# element of given input list\n",
    "for a in list: \n",
    " \n",
    "      # checking the occurrence of elements\n",
    "    n = list.count(a) \n",
    "     \n",
    "    # if the occurrence is more than\n",
    "    # one we add it to the output list\n",
    "    if n > 1:        \n",
    " \n",
    "        if new.count(a) == 0:  # condition to check\n",
    " \n",
    "            new.append(a)\n",
    " \n",
    "print(new)"
   ]
  },
  {
   "cell_type": "markdown",
   "metadata": {},
   "source": [
    "### 7. Test if List contains elements in Range"
   ]
  },
  {
   "cell_type": "code",
   "execution_count": 27,
   "metadata": {},
   "outputs": [
    {
     "name": "stdout",
     "output_type": "stream",
     "text": [
      "The original list is : [4, 5, 6, 7, 3, 9]\n",
      "Does list contain all elements in range : True\n"
     ]
    }
   ],
   "source": [
    "# Python3 code to demonstrate Test if List contains elements in Range using loop\n",
    "\n",
    "# Initializing loop\n",
    "test_list = [4, 5, 6, 7, 3, 9]\n",
    "\n",
    "# printing original list\n",
    "print(\"The original list is : \" + str(test_list))\n",
    "\n",
    "# Initialization of range\n",
    "i, j = 3, 10\n",
    "\n",
    "# Test if List contains elements in Range\n",
    "# using loop\n",
    "res = True\n",
    "for ele in test_list:\n",
    "    if ele < i or ele >= j :\n",
    "        res = False\n",
    "        break\n",
    "\n",
    "# printing result\n",
    "print (\"Does list contain all elements in range : \" + str(res))"
   ]
  },
  {
   "cell_type": "markdown",
   "metadata": {},
   "source": [
    "### 8. interchange first and last elements in a list\n",
    "Input : [12, 35, 9, 56, 24]\n",
    "\n",
    "Output : [24, 35, 9, 56, 12]\n",
    "\n",
    "Input : [1, 2, 3]\n",
    "\n",
    "Output : [3, 2, 1]"
   ]
  },
  {
   "cell_type": "code",
   "execution_count": 28,
   "metadata": {},
   "outputs": [
    {
     "name": "stdout",
     "output_type": "stream",
     "text": [
      "[24, 35, 9, 56, 12]\n"
     ]
    }
   ],
   "source": [
    "# Python3 program to swap first and last element of a list Swap function\n",
    "def swapList(newList):\n",
    "    size = len(newList)\n",
    "     \n",
    "    # Swapping\n",
    "    temp = newList[0]\n",
    "    newList[0] = newList[size - 1]\n",
    "    newList[size - 1] = temp\n",
    "     \n",
    "    return newList\n",
    "     \n",
    "# Driver code\n",
    "newList = [12, 35, 9, 56, 24]\n",
    " \n",
    "print(swapList(newList))"
   ]
  },
  {
   "cell_type": "code",
   "execution_count": 29,
   "metadata": {},
   "outputs": [
    {
     "name": "stdout",
     "output_type": "stream",
     "text": [
      "[24, 35, 9, 56, 12]\n"
     ]
    }
   ],
   "source": [
    "# Python3 program to swap first\n",
    "# and last element of a list\n",
    " \n",
    "# Swap function\n",
    "def swapList(newList):\n",
    "     \n",
    "    newList[0], newList[-1] = newList[-1], newList[0]\n",
    " \n",
    "    return newList\n",
    "     \n",
    "# Driver code\n",
    "newList = [12, 35, 9, 56, 24]\n",
    "print(swapList(newList))"
   ]
  },
  {
   "cell_type": "markdown",
   "metadata": {},
   "source": [
    "### 9.  Swap elements in String list"
   ]
  },
  {
   "cell_type": "code",
   "execution_count": 30,
   "metadata": {},
   "outputs": [
    {
     "name": "stdout",
     "output_type": "stream",
     "text": [
      "The original list is : ['Gfg', 'is', 'best', 'for', 'Geeks']\n",
      "List after performing character swaps : ['efg', 'is', 'bGst', 'for', 'eGGks']\n"
     ]
    }
   ],
   "source": [
    "# Python3 code to demonstrate\n",
    "# Swap elements in String list\n",
    "# using replace() + list comprehension\n",
    "\n",
    "# Initializing list\n",
    "test_list = ['Gfg', 'is', 'best', 'for', 'Geeks']\n",
    "\n",
    "# printing original lists\n",
    "print(\"The original list is : \" + str(test_list))\n",
    "\n",
    "# Swap elements in String list\n",
    "# using replace() + list comprehension\n",
    "res = [sub.replace('G', '-').replace('e', 'G').replace('-', 'e') for sub in test_list]\n",
    "\n",
    "# printing result\n",
    "print (\"List after performing character swaps : \" + str(res))"
   ]
  },
  {
   "cell_type": "markdown",
   "metadata": {},
   "source": [
    "### 10. print all even numbers in a range\n",
    "Input: start = 4, end = 15\n",
    "\n",
    "Output: 4, 6, 8, 10, 12, 14\n",
    "\n",
    "Input: start = 8, end = 11\n",
    "\n",
    "Output: 8, 10"
   ]
  },
  {
   "cell_type": "code",
   "execution_count": 32,
   "metadata": {},
   "outputs": [
    {
     "name": "stdout",
     "output_type": "stream",
     "text": [
      "4 6 8 10 12 14 16 18 "
     ]
    }
   ],
   "source": [
    "#Python program to print Even Numbers in given range\n",
    "  \n",
    "start, end = 4, 19\n",
    "  \n",
    "# iterating each number in list\n",
    "for num in range(start, end + 1):\n",
    "      \n",
    "    # checking condition\n",
    "    if num % 2 == 0:\n",
    "        print(num, end = \" \")"
   ]
  },
  {
   "cell_type": "markdown",
   "metadata": {},
   "source": [
    "### 11. print all odd numbers in a range\n",
    "Input: start = 4, end = 15\n",
    "\n",
    "Output: 5, 7, 9, 11, 13, 15\n",
    "\n",
    "Input: start = 3, end = 11\n",
    "\n",
    "Output: 3, 5, 7, 9, 11"
   ]
  },
  {
   "cell_type": "code",
   "execution_count": 33,
   "metadata": {},
   "outputs": [
    {
     "name": "stdout",
     "output_type": "stream",
     "text": [
      "5 7 9 11 13 15 17 19 "
     ]
    }
   ],
   "source": [
    "start, end = 4, 19\n",
    "  \n",
    "# iterating each number in list\n",
    "for num in range(start, end + 1):\n",
    "      \n",
    "    # checking condition\n",
    "    if num % 2 != 0:\n",
    "        print(num, end = \" \")"
   ]
  },
  {
   "cell_type": "code",
   "execution_count": null,
   "metadata": {},
   "outputs": [],
   "source": []
  }
 ],
 "metadata": {
  "kernelspec": {
   "display_name": "Python 3",
   "language": "python",
   "name": "python3"
  },
  "language_info": {
   "codemirror_mode": {
    "name": "ipython",
    "version": 3
   },
   "file_extension": ".py",
   "mimetype": "text/x-python",
   "name": "python",
   "nbconvert_exporter": "python",
   "pygments_lexer": "ipython3",
   "version": "3.6.9"
  }
 },
 "nbformat": 4,
 "nbformat_minor": 4
}
