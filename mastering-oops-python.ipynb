{
 "cells": [
  {
   "cell_type": "code",
   "execution_count": 1,
   "metadata": {},
   "outputs": [],
   "source": [
    "#Note: before working on mastering oops python, first read python3 object oriented programming book of packt\n",
    "# class Friend(contact):\n",
    "#     def __init__(self, name, email, phone):\n",
    "#         self.name= name\n",
    "#         self.email= email\n",
    "#         self.phone= phone\n",
    "# e= EmailContact(\"john Smith\", \"jssmith@example.net\")\n",
    "# Contact.all_contacts"
   ]
  },
  {
   "cell_type": "code",
   "execution_count": 2,
   "metadata": {},
   "outputs": [
    {
     "data": {
      "text/plain": [
       "0.0826237500004936"
      ]
     },
     "execution_count": 2,
     "metadata": {},
     "output_type": "execute_result"
    }
   ],
   "source": [
    "import timeit\n",
    "timeit.timeit(\"obj.method()\", \n",
    "\"\"\"\n",
    "class SomeClass:\n",
    "        def method(self):\n",
    "            pass\n",
    "obj = SomeClass()\n",
    "\"\"\")\n",
    "#the output value is time required to print the statement"
   ]
  },
  {
   "cell_type": "code",
   "execution_count": 3,
   "metadata": {},
   "outputs": [
    {
     "data": {
      "text/plain": [
       "0.07070349101559259"
      ]
     },
     "execution_count": 3,
     "metadata": {},
     "output_type": "execute_result"
    }
   ],
   "source": [
    "timeit.timeit(\"f()\",\"\"\"\n",
    "def f():\n",
    "    pass\n",
    "    \"\"\")"
   ]
  },
  {
   "cell_type": "code",
   "execution_count": 4,
   "metadata": {},
   "outputs": [],
   "source": [
    "#testing unittest and Doctest\n",
    "#here we will describe unittest and technology spikes\n",
    "import types\n",
    "import unittest\n",
    "class TestAccess(unittest.TestCase):\n",
    "    def test_should_add_and_get_attribute(self):\n",
    "        self.object.new_attributes= True\n",
    "        self.assertTrue(self.object.new_attribute)\n",
    "    def test_should_fail_on_missing(self):\n",
    "        self.assertRaises(Attributeerror, lambda:self.object.undefined)"
   ]
  },
  {
   "cell_type": "code",
   "execution_count": 5,
   "metadata": {},
   "outputs": [],
   "source": [
    "#the following in three TestAccess subclasses that will exercise three diffrent kinds of objects\n",
    "class Someclass:\n",
    "    pass\n",
    "class Test_EmptyClass(TestAccess):\n",
    "    def setUp(self):\n",
    "        self.object= SomeClass()\n",
    "class Test_Namespace(TestAccess):\n",
    "    def SetUp(self):\n",
    "        self.object= types.SimpleNamespace()\n",
    "class Test_Object(TestAccess):\n",
    "    def SetUp(self):\n",
    "        self.object= object()"
   ]
  },
  {
   "cell_type": "code",
   "execution_count": 6,
   "metadata": {},
   "outputs": [
    {
     "name": "stderr",
     "output_type": "stream",
     "text": [
      "EEEEEE\n",
      "======================================================================\n",
      "ERROR: test_should_add_and_get_attribute (__main__.Test_EmptyClass)\n",
      "----------------------------------------------------------------------\n",
      "Traceback (most recent call last):\n",
      "  File \"<ipython-input-5-7a0dbf439c7e>\", line 6, in setUp\n",
      "    self.object= SomeClass()\n",
      "NameError: name 'SomeClass' is not defined\n",
      "\n",
      "======================================================================\n",
      "ERROR: test_should_fail_on_missing (__main__.Test_EmptyClass)\n",
      "----------------------------------------------------------------------\n",
      "Traceback (most recent call last):\n",
      "  File \"<ipython-input-5-7a0dbf439c7e>\", line 6, in setUp\n",
      "    self.object= SomeClass()\n",
      "NameError: name 'SomeClass' is not defined\n",
      "\n",
      "======================================================================\n",
      "ERROR: test_should_add_and_get_attribute (__main__.Test_Namespace)\n",
      "----------------------------------------------------------------------\n",
      "Traceback (most recent call last):\n",
      "  File \"<ipython-input-4-468c3ee77ad2>\", line 7, in test_should_add_and_get_attribute\n",
      "    self.object.new_attributes= True\n",
      "AttributeError: 'Test_Namespace' object has no attribute 'object'\n",
      "\n",
      "======================================================================\n",
      "ERROR: test_should_fail_on_missing (__main__.Test_Namespace)\n",
      "----------------------------------------------------------------------\n",
      "Traceback (most recent call last):\n",
      "  File \"<ipython-input-4-468c3ee77ad2>\", line 10, in test_should_fail_on_missing\n",
      "    self.assertRaises(Attributeerror, lambda:self.object.undefined)\n",
      "NameError: name 'Attributeerror' is not defined\n",
      "\n",
      "======================================================================\n",
      "ERROR: test_should_add_and_get_attribute (__main__.Test_Object)\n",
      "----------------------------------------------------------------------\n",
      "Traceback (most recent call last):\n",
      "  File \"<ipython-input-4-468c3ee77ad2>\", line 7, in test_should_add_and_get_attribute\n",
      "    self.object.new_attributes= True\n",
      "AttributeError: 'Test_Object' object has no attribute 'object'\n",
      "\n",
      "======================================================================\n",
      "ERROR: test_should_fail_on_missing (__main__.Test_Object)\n",
      "----------------------------------------------------------------------\n",
      "Traceback (most recent call last):\n",
      "  File \"<ipython-input-4-468c3ee77ad2>\", line 10, in test_should_fail_on_missing\n",
      "    self.assertRaises(Attributeerror, lambda:self.object.undefined)\n",
      "NameError: name 'Attributeerror' is not defined\n",
      "\n",
      "----------------------------------------------------------------------\n",
      "Ran 6 tests in 0.008s\n",
      "\n",
      "FAILED (errors=6)\n"
     ]
    }
   ],
   "source": [
    "#in order to run these tests, we will need to build a suite that doesnot alllow us to run the\n",
    "#TestAccess abstract test\n",
    "def suite():\n",
    "    s= unittest.TestSuite()\n",
    "    s.addTests(unittest.defaultTestLoader.loadTestsFromTestCase(Test_EmptyClass))\n",
    "    s.addTests(unittest.defaultTestLoader.loadTestsFromTestCase(Test_Namespace))\n",
    "    s.addTests(unittest.defaultTestLoader.loadTestsFromTestCase(Test_Object))\n",
    "    return s\n",
    "if __name__ == \"__main__\":\n",
    "    t= unittest.TextTestRunner()\n",
    "    t.run(suite())"
   ]
  },
  {
   "cell_type": "code",
   "execution_count": 7,
   "metadata": {},
   "outputs": [
    {
     "data": {
      "text/plain": [
       "120"
      ]
     },
     "execution_count": 7,
     "metadata": {},
     "output_type": "execute_result"
    }
   ],
   "source": [
    "#compute n recursively\n",
    "def factorial(n):\n",
    "    if n==0:\n",
    "        return 1\n",
    "    return n*factorial(n-1)\n",
    "factorial(5)"
   ]
  },
  {
   "cell_type": "code",
   "execution_count": 8,
   "metadata": {},
   "outputs": [
    {
     "name": "stdout",
     "output_type": "stream",
     "text": [
      "11\n",
      "11\n"
     ]
    }
   ],
   "source": [
    "a,b=5,6\n",
    "#class definition for objects a and b\n",
    "print(a.__add__(b))\n",
    "print(b.__radd__(a))"
   ]
  },
  {
   "cell_type": "markdown",
   "metadata": {},
   "source": [
    "# The __init__() method"
   ]
  },
  {
   "cell_type": "code",
   "execution_count": 9,
   "metadata": {},
   "outputs": [
    {
     "data": {
      "text/plain": [
       "type"
      ]
     },
     "execution_count": 9,
     "metadata": {},
     "output_type": "execute_result"
    }
   ],
   "source": [
    "class X:\n",
    "    pass\n",
    "X.__class__"
   ]
  },
  {
   "cell_type": "code",
   "execution_count": 10,
   "metadata": {},
   "outputs": [
    {
     "data": {
      "text/plain": [
       "object"
      ]
     },
     "execution_count": 10,
     "metadata": {},
     "output_type": "execute_result"
    }
   ],
   "source": [
    "X.__class__.__base__"
   ]
  },
  {
   "cell_type": "code",
   "execution_count": 11,
   "metadata": {},
   "outputs": [
    {
     "data": {
      "text/plain": [
       "65"
      ]
     },
     "execution_count": 11,
     "metadata": {},
     "output_type": "execute_result"
    }
   ],
   "source": [
    "#the base class object __init__() method\n",
    "#default implementation of __init__() method to pass \n",
    "#the life cycles of object: creation, initialization and deletion\n",
    "class Rectangle:\n",
    "    def area(self):\n",
    "        return self.length *self.width\n",
    "r= Rectangle()\n",
    "r.length, r.width= 13, 5\n",
    "r.area()"
   ]
  },
  {
   "cell_type": "code",
   "execution_count": 12,
   "metadata": {},
   "outputs": [],
   "source": [
    "#implementing __init__() in a superclass\n",
    "class Card:\n",
    "    def __init__(self, rank, suit):\n",
    "        self.suit= suit\n",
    "        self.rank= rank\n",
    "        self.hard, self.soft= self._points()\n",
    "class NumberCard(Card):\n",
    "    def _points(self):\n",
    "        return int(self.rank), int(self.rank)\n",
    "class AceCard(Card):\n",
    "    def _points(self):\n",
    "        return 1, 11\n",
    "class FaceCard(Card):\n",
    "    def _points(self):\n",
    "        return 10, 10"
   ]
  },
  {
   "cell_type": "code",
   "execution_count": 13,
   "metadata": {},
   "outputs": [],
   "source": [
    "# We factored the __init__() method into the superclasses so that a common intitialization in the \n",
    "#superclass, card, applies to all the three sublclasses Numbercard, AceCard and FaceCard"
   ]
  },
  {
   "cell_type": "code",
   "execution_count": 14,
   "metadata": {},
   "outputs": [
    {
     "data": {
      "text/plain": [
       "[<__main__.AceCard at 0x7f94c0706240>,\n",
       " <__main__.NumberCard at 0x7f94c07062e8>,\n",
       " <__main__.NumberCard at 0x7f94c0706320>]"
      ]
     },
     "execution_count": 14,
     "metadata": {},
     "output_type": "execute_result"
    }
   ],
   "source": [
    "cards = [ AceCard('A', '♠'), NumberCard('2','♠'), NumberCard('3','♠'),]\n",
    "cards"
   ]
  },
  {
   "cell_type": "code",
   "execution_count": 15,
   "metadata": {},
   "outputs": [],
   "source": [
    "#we enumerated the class, rank adn suit for several cards in a list."
   ]
  },
  {
   "cell_type": "code",
   "execution_count": 16,
   "metadata": {},
   "outputs": [],
   "source": [
    "#using __init__() to create  manifest constants\n",
    "#we use the class to build four manifest constants \n",
    "class Suit:\n",
    "    def __init__(self, name, symbol):\n",
    "        self.name= name\n",
    "        self.symbol= symbol\n",
    "Club, Diamond, Heart, Spade = Suit('Club','♣'), Suit('Diamond','♦'),Suit('Heart','♥'), Suit('Spade','♠')"
   ]
  },
  {
   "cell_type": "code",
   "execution_count": 17,
   "metadata": {},
   "outputs": [],
   "source": [
    "cards = [ AceCard('A', Spade), NumberCard('2', Spade), NumberCard('3',\n",
    "Spade), ]"
   ]
  },
  {
   "cell_type": "code",
   "execution_count": 24,
   "metadata": {},
   "outputs": [],
   "source": [
    "#leveraging __init__() via a factory function\n",
    "#factory class hierarchy is required because the language doesn't support standalone functions\n",
    "def card(rank, suit):\n",
    "    if rank ==1: return AceCard('A', suit)\n",
    "    elif 2 <= rank <11:return NumberCard (str(rank), suit)\n",
    "    elif 11<= rank < 14:\n",
    "        name= {11:'J', 12: 'Q', 13:'K'}[rank]\n",
    "        return FaceCard(name, suit)\n",
    "    else:\n",
    "        raise Exception(\"rank out of range\")"
   ]
  },
  {
   "cell_type": "code",
   "execution_count": 25,
   "metadata": {},
   "outputs": [],
   "source": [
    "deck = [card(rank, suit)for rank in range(1,14)for suit in (Club, Diamond, Heart, Spade)]"
   ]
  },
  {
   "cell_type": "code",
   "execution_count": 28,
   "metadata": {},
   "outputs": [
    {
     "data": {
      "text/plain": [
       "[<__main__.AceCard at 0x7f94c0706a58>,\n",
       " <__main__.AceCard at 0x7f94c07066d8>,\n",
       " <__main__.AceCard at 0x7f94c0706710>,\n",
       " <__main__.AceCard at 0x7f94c0706a20>,\n",
       " <__main__.NumberCard at 0x7f94c0706e48>,\n",
       " <__main__.NumberCard at 0x7f94c070a160>,\n",
       " <__main__.NumberCard at 0x7f94c070a1d0>,\n",
       " <__main__.NumberCard at 0x7f94c070a2b0>,\n",
       " <__main__.NumberCard at 0x7f94c070a390>,\n",
       " <__main__.NumberCard at 0x7f94c070a080>,\n",
       " <__main__.NumberCard at 0x7f94c070a320>,\n",
       " <__main__.NumberCard at 0x7f94c070a0f0>,\n",
       " <__main__.NumberCard at 0x7f94c070a2e8>,\n",
       " <__main__.NumberCard at 0x7f94c070a278>,\n",
       " <__main__.NumberCard at 0x7f94c070a438>,\n",
       " <__main__.NumberCard at 0x7f94c070a4e0>,\n",
       " <__main__.NumberCard at 0x7f94c070a3c8>,\n",
       " <__main__.NumberCard at 0x7f94c070a710>,\n",
       " <__main__.NumberCard at 0x7f94c070a6d8>,\n",
       " <__main__.NumberCard at 0x7f94c070a748>,\n",
       " <__main__.NumberCard at 0x7f94c070a7b8>,\n",
       " <__main__.NumberCard at 0x7f94c070a828>,\n",
       " <__main__.NumberCard at 0x7f94c070a898>,\n",
       " <__main__.NumberCard at 0x7f94c070a908>,\n",
       " <__main__.NumberCard at 0x7f94c070a978>,\n",
       " <__main__.NumberCard at 0x7f94c070a9e8>,\n",
       " <__main__.NumberCard at 0x7f94c070aa58>,\n",
       " <__main__.NumberCard at 0x7f94c070aac8>,\n",
       " <__main__.NumberCard at 0x7f94c070ab38>,\n",
       " <__main__.NumberCard at 0x7f94c070aba8>,\n",
       " <__main__.NumberCard at 0x7f94c070ac18>,\n",
       " <__main__.NumberCard at 0x7f94c070ac88>,\n",
       " <__main__.NumberCard at 0x7f94c070acf8>,\n",
       " <__main__.NumberCard at 0x7f94c070ad68>,\n",
       " <__main__.NumberCard at 0x7f94c070add8>,\n",
       " <__main__.NumberCard at 0x7f94c070ae48>,\n",
       " <__main__.NumberCard at 0x7f94c070aeb8>,\n",
       " <__main__.NumberCard at 0x7f94c070af28>,\n",
       " <__main__.NumberCard at 0x7f94c070af98>,\n",
       " <__main__.NumberCard at 0x7f94c0691048>,\n",
       " <__main__.FaceCard at 0x7f94c0691080>,\n",
       " <__main__.FaceCard at 0x7f94c06910b8>,\n",
       " <__main__.FaceCard at 0x7f94c06910f0>,\n",
       " <__main__.FaceCard at 0x7f94c0691128>,\n",
       " <__main__.FaceCard at 0x7f94c0691160>,\n",
       " <__main__.FaceCard at 0x7f94c0691198>,\n",
       " <__main__.FaceCard at 0x7f94c06911d0>,\n",
       " <__main__.FaceCard at 0x7f94c0691208>,\n",
       " <__main__.FaceCard at 0x7f94c0691240>,\n",
       " <__main__.FaceCard at 0x7f94c0691278>,\n",
       " <__main__.FaceCard at 0x7f94c06912b0>,\n",
       " <__main__.FaceCard at 0x7f94c06912e8>]"
      ]
     },
     "execution_count": 28,
     "metadata": {},
     "output_type": "execute_result"
    }
   ],
   "source": [
    "deck #this will enumerate all te ranks and suits to create a complete deck of 52 cards"
   ]
  },
  {
   "cell_type": "code",
   "execution_count": null,
   "metadata": {},
   "outputs": [],
   "source": []
  }
 ],
 "metadata": {
  "kernelspec": {
   "display_name": "Python 3",
   "language": "python",
   "name": "python3"
  },
  "language_info": {
   "codemirror_mode": {
    "name": "ipython",
    "version": 3
   },
   "file_extension": ".py",
   "mimetype": "text/x-python",
   "name": "python",
   "nbconvert_exporter": "python",
   "pygments_lexer": "ipython3",
   "version": "3.6.9"
  }
 },
 "nbformat": 4,
 "nbformat_minor": 4
}
