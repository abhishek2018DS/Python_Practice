{
 "cells": [
  {
   "cell_type": "code",
   "execution_count": 1,
   "metadata": {},
   "outputs": [
    {
     "name": "stdout",
     "output_type": "stream",
     "text": [
      "(1080, 1288)\n",
      "[[  1.   0. 644.]\n",
      " [  0.   1. 540.]]\n"
     ]
    }
   ],
   "source": [
    "#Image Translation:\n",
    "import cv2\n",
    "import numpy as np\n",
    "image = cv2.imread('/home/abhishek/Documents/lockdown/x-ray-lungs/data/test/normal/NORMAL2-IM-1385-0001.jpeg') \n",
    "# store the height and width of image\n",
    "height,width = image.shape[:2]\n",
    "print(image.shape[:2])\n",
    "half_height, half_width = height/2, width/2\n",
    "T = np.float32([[1,0,half_width],[0,1,half_height]])\n",
    "img_translation=cv2.warpAffine(image,T,(width,height))\n",
    "print(T)\n",
    "cv2.imshow('original_image', image)\n",
    "cv2.waitKey(0)\n",
    "cv2.imshow('Translation',img_translation)\n",
    "cv2.waitKey(0)\n",
    "cv2.destroyAllWindows()"
   ]
  },
  {
   "cell_type": "code",
   "execution_count": 2,
   "metadata": {},
   "outputs": [],
   "source": [
    "#Rotation of image\n",
    "import cv2\n",
    "import numpy as np\n",
    "image=cv2.imread('/home/abhishek/Documents/lockdown/x-ray-lungs/data/test/normal/NORMAL2-IM-1385-0001.jpeg')\n",
    "height, width=image.shape[:2]\n",
    "#divide the height and width by 2 to rotate the image about it's center\n",
    "rotation_matrix=cv2.getRotationMatrix2D((width/2, height/2),90,1)\n",
    "rotated_image=cv2.warpAffine(image,rotation_matrix,(width,height))\n",
    "cv2.imshow('original image',image)\n",
    "cv2.waitKey(0)\n",
    "cv2.imshow('rotated image', rotated_image)\n",
    "cv2.waitKey(0)\n",
    "cv2.destroyAllWindows() "
   ]
  },
  {
   "cell_type": "code",
   "execution_count": 3,
   "metadata": {},
   "outputs": [],
   "source": [
    "#image cropping\n",
    "import cv2\n",
    "import numpy as np\n",
    "image=cv2.imread('/home/abhishek/Documents/lockdown/x-ray-lungs/data/test/normal/NORMAL2-IM-1385-0001.jpeg')\n",
    "height, width=image.shape[:2]\n",
    "#let's get the starting pixel coordinates(top left of cropping rectangle)\n",
    "start_row, start_col=int(height*.25),int(width*.25)\n",
    "#let's get ending pixel coordinates(bottom right)\n",
    "end_row, end_col=int(height*.75),int(width*.75)\n",
    "#simply use indexing to crop out the rectangle we desire\n",
    "cropped=image[start_row:end_row, start_col:end_col]\n",
    "cv2.imshow(\"original image\",image)\n",
    "cv2.waitKey(0)\n",
    "cv2.imshow(\"cropped image\" , cropped)\n",
    "cv2.waitKey(0)\n",
    "cv2.destroyAllWindows()"
   ]
  },
  {
   "cell_type": "code",
   "execution_count": null,
   "metadata": {},
   "outputs": [],
   "source": []
  }
 ],
 "metadata": {
  "kernelspec": {
   "display_name": "Python 3",
   "language": "python",
   "name": "python3"
  },
  "language_info": {
   "codemirror_mode": {
    "name": "ipython",
    "version": 3
   },
   "file_extension": ".py",
   "mimetype": "text/x-python",
   "name": "python",
   "nbconvert_exporter": "python",
   "pygments_lexer": "ipython3",
   "version": "3.6.9"
  }
 },
 "nbformat": 4,
 "nbformat_minor": 4
}
