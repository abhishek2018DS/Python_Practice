{
 "cells": [
  {
   "cell_type": "markdown",
   "metadata": {},
   "source": [
    "### 1. Write a Python program to print the following string in a specific format (see the output).\n",
    "Sample String : \"Twinkle, twinkle, little star, How I wonder what you are! Up above the world so high, Like a diamond in the sky. Twinkle, twinkle, little star, How I wonder what you are\"\n",
    "Output :\n",
    "\n",
    "        Twinkle, twinkle, little star,\n",
    "            How I wonder what you are! \n",
    "                Up above the world so high,   \t\t\n",
    "                Like a diamond in the sky. \n",
    "        Twinkle, twinkle, little star, \n",
    "            How I wonder what you are"
   ]
  },
  {
   "cell_type": "code",
   "execution_count": 7,
   "metadata": {},
   "outputs": [
    {
     "name": "stdout",
     "output_type": "stream",
     "text": [
      "Twinkle, twinkle, little star, \n",
      "\tHow I wonder what you are!\n",
      " \t\tUp above the world so high, \n",
      "\t\t\tLike a diamond in the sky. \n",
      "Twinkle, twinkle, little star, \n",
      "\tHow I wonder what you are\n"
     ]
    }
   ],
   "source": [
    "print(\"Twinkle, twinkle, little star, \\n\\tHow I wonder what you are!\\n \\t\\tUp above the world so high, \\n\\t\\t\\tLike a diamond in the sky. \\nTwinkle, twinkle, little star, \\n\\tHow I wonder what you are\")\n"
   ]
  },
  {
   "cell_type": "markdown",
   "metadata": {},
   "source": [
    "### 2. Write a Python program to find out what version of Python you are using."
   ]
  },
  {
   "cell_type": "code",
   "execution_count": 10,
   "metadata": {},
   "outputs": [
    {
     "name": "stdout",
     "output_type": "stream",
     "text": [
      "Python 3.10.12\r\n"
     ]
    }
   ],
   "source": [
    "!python --version"
   ]
  },
  {
   "cell_type": "code",
   "execution_count": 13,
   "metadata": {},
   "outputs": [
    {
     "name": "stdout",
     "output_type": "stream",
     "text": [
      "python version:  3.10.12 (main, Jun 27 2023, 14:13:51) [GCC 7.5.0]\n"
     ]
    }
   ],
   "source": [
    "import sys\n",
    "print(\"python version: \", sys.version)"
   ]
  },
  {
   "cell_type": "code",
   "execution_count": 15,
   "metadata": {},
   "outputs": [
    {
     "data": {
      "text/plain": [
       "sys.version_info(major=3, minor=10, micro=12, releaselevel='final', serial=0)"
      ]
     },
     "execution_count": 15,
     "metadata": {},
     "output_type": "execute_result"
    }
   ],
   "source": [
    "sys.version_info"
   ]
  },
  {
   "cell_type": "markdown",
   "metadata": {},
   "source": [
    "### 3. Write a Python program to display the current date and time.\n",
    "Sample Output :\n",
    "Current date and time :\n",
    "2014-07-05 14:34:14"
   ]
  },
  {
   "cell_type": "code",
   "execution_count": 18,
   "metadata": {},
   "outputs": [
    {
     "name": "stdout",
     "output_type": "stream",
     "text": [
      "2023-07-13 13:20:58.655409\n"
     ]
    }
   ],
   "source": [
    "import datetime\n",
    "print(datetime.datetime.now())"
   ]
  },
  {
   "cell_type": "markdown",
   "metadata": {},
   "source": [
    "### 4. Write a Python program that calculates the area of a circle based on the radius entered by the user.\n",
    "Sample Output :\n",
    "r = 1.1\n",
    "Area = 3.8013271108436504"
   ]
  },
  {
   "cell_type": "code",
   "execution_count": 20,
   "metadata": {},
   "outputs": [
    {
     "data": {
      "text/plain": [
       "78.5"
      ]
     },
     "execution_count": 20,
     "metadata": {},
     "output_type": "execute_result"
    }
   ],
   "source": [
    "import math\n",
    "def circle_area(r):\n",
    "    area= 3.14*r*r\n",
    "    return area\n",
    "r= 5\n",
    "circle_area(r)\n",
    "    "
   ]
  },
  {
   "cell_type": "code",
   "execution_count": 21,
   "metadata": {},
   "outputs": [
    {
     "data": {
      "text/plain": [
       "78.53981633974483"
      ]
     },
     "execution_count": 21,
     "metadata": {},
     "output_type": "execute_result"
    }
   ],
   "source": [
    "def circle_area(r):\n",
    "    area= math.pi*r**2\n",
    "    return area\n",
    "circle_area(5)"
   ]
  },
  {
   "cell_type": "markdown",
   "metadata": {},
   "source": [
    "### 6. Write a Python program that accepts a sequence of comma-separated numbers from the user and generates a list and a tuple of those numbers.\n",
    "\n",
    "Sample data : 3, 5, 7, 23\n",
    "\n",
    "Output :\n",
    "\n",
    "    List : ['3', ' 5', ' 7', ' 23']\n",
    "    Tuple : ('3', ' 5', ' 7', ' 23') "
   ]
  },
  {
   "cell_type": "code",
   "execution_count": 27,
   "metadata": {},
   "outputs": [
    {
     "name": "stdout",
     "output_type": "stream",
     "text": [
      "enter comma separated number: 3,2,7,11,4,5\n",
      "['3', '2', '7', '11', '4', '5']\n",
      "('3', '2', '7', '11', '4', '5')\n"
     ]
    }
   ],
   "source": [
    "num = input(\"enter comma separated number: \")\n",
    "list_val= num.split(',')\n",
    "tuple_val= tuple(list_val)\n",
    "print(list_val)\n",
    "print(tuple_val)"
   ]
  },
  {
   "cell_type": "markdown",
   "metadata": {},
   "source": [
    "### 7. Write a Python program that accepts a filename from the user and prints the extension of the file.\n",
    "Sample filename : abc.java\n",
    "Output : java"
   ]
  },
  {
   "cell_type": "code",
   "execution_count": 6,
   "metadata": {},
   "outputs": [
    {
     "name": "stdout",
     "output_type": "stream",
     "text": [
      "java,py,"
     ]
    }
   ],
   "source": [
    "list_1= ['abc.java', 'abhi.py']\n",
    "def find_extension(list_1):\n",
    "    for i in list_1:\n",
    "        know_extension= i.split('.')\n",
    "        print(know_extension[-1], end= ',')   \n",
    "find_extension(list_1)"
   ]
  },
  {
   "cell_type": "markdown",
   "metadata": {},
   "source": [
    "### 8.Write a Python program to display the first and last colors from the following list.\n",
    "color_list = [\"Red\",\"Green\",\"White\" ,\"Black\"]"
   ]
  },
  {
   "cell_type": "code",
   "execution_count": 8,
   "metadata": {},
   "outputs": [
    {
     "name": "stdout",
     "output_type": "stream",
     "text": [
      "Red Black\n"
     ]
    }
   ],
   "source": [
    "color_list = [\"Red\",\"Green\",\"White\" ,\"Black\"]\n",
    "print(color_list[0], color_list[len(color_list)-1])"
   ]
  },
  {
   "cell_type": "code",
   "execution_count": 9,
   "metadata": {},
   "outputs": [
    {
     "data": {
      "text/plain": [
       "('Red', 'Black')"
      ]
     },
     "execution_count": 9,
     "metadata": {},
     "output_type": "execute_result"
    }
   ],
   "source": [
    "color_list[0], color_list[-1]"
   ]
  },
  {
   "cell_type": "markdown",
   "metadata": {},
   "source": [
    "### 9.Write a Python program to display the examination schedule. (extract the date from exam_st_date).\n",
    "exam_st_date = (11, 12, 2014)\n",
    "Sample Output : The examination will start from : 11 / 12 / 2014"
   ]
  },
  {
   "cell_type": "code",
   "execution_count": 14,
   "metadata": {},
   "outputs": [
    {
     "name": "stdout",
     "output_type": "stream",
     "text": [
      "The examination will start from : 11 / 12 / 2014\n"
     ]
    }
   ],
   "source": [
    "exam_st_date = (11,12,2014)\n",
    "print( \"The examination will start from : %i / %i / %i\"%exam_st_date)"
   ]
  },
  {
   "cell_type": "markdown",
   "metadata": {},
   "source": [
    "### 10.Write a Python program that accepts an integer (n) and computes the value of n+nn+nnn.\n",
    "Sample value of n is 5\n",
    "\n",
    "Expected Result : 615"
   ]
  },
  {
   "cell_type": "code",
   "execution_count": 17,
   "metadata": {},
   "outputs": [
    {
     "name": "stdout",
     "output_type": "stream",
     "text": [
      "615\n"
     ]
    }
   ],
   "source": [
    "n =5\n",
    "value= n+ 10*n+n+ 100*n+10*n+n\n",
    "print(value)"
   ]
  },
  {
   "cell_type": "code",
   "execution_count": 18,
   "metadata": {},
   "outputs": [
    {
     "name": "stdout",
     "output_type": "stream",
     "text": [
      "Input an integer : 5\n",
      "615\n"
     ]
    }
   ],
   "source": [
    "a = int(input(\"Input an integer : \"))\n",
    "n1 = int( \"%s\" % a )\n",
    "n2 = int( \"%s%s\" % (a,a) )\n",
    "n3 = int( \"%s%s%s\" % (a,a,a) )\n",
    "print (n1+n2+n3)"
   ]
  },
  {
   "cell_type": "markdown",
   "metadata": {},
   "source": [
    "**11. Write a Python program to print the documents (syntax, description etc.) of Python built-in function(s).**\n",
    "Sample function : abs()\n",
    "Expected Result :\n",
    "abs(number) -> number\n",
    "Return the absolute value of the argument.\n",
    "Click me to see the sample solution\n",
    "\n",
    "**12. Write a Python program that prints the calendar for a given month and year.**\n",
    "Note : Use 'calendar' module.\n",
    "Click me to see the sample solution\n",
    "\n",
    "**13. Write a Python program to print the following 'here document'.**\n",
    "Sample string :\n",
    "a string that you \"don't\" have to escape\n",
    "This\n",
    "is a ....... multi-line\n",
    "heredoc string --------> example\n",
    "Click me to see the sample solution\n",
    "\n",
    "**14. Write a Python program to calculate the number of days between two dates.**\n",
    "Sample dates : (2014, 7, 2), (2014, 7, 11)\n",
    "Expected output : 9 days\n",
    "Click me to see the sample solution\n",
    "\n",
    "**15. Write a Python program to get the volume of a sphere with radius six.**\n",
    "Click me to see the sample solution\n",
    "\n",
    "**16. Write a Python program to calculate the difference between a given number and 17. If the number is greater than 17, return twice the absolute difference.**\n",
    "Click me to see the sample solution\n",
    "\n",
    "**17. Write a Python program to test whether a number is within 100 of 1000 or 2000.**\n",
    "Click me to see the sample solution\n",
    "\n",
    "**18. Write a Python program to calculate the sum of three given numbers. If the values are equal, return three times their sum.**\n",
    "Click me to see the sample solution\n",
    "\n",
    "**19. Write a Python program to get a newly-generated string from a given string where \"Is\" has been added to the front. Return the string unchanged if the given string already begins with \"Is\".**\n",
    "Click me to see the sample solution\n",
    "\n",
    "**20. Write a Python program that returns a string that is n (non-negative integer) copies of a given string.**\n",
    "Click me to see the sample solution\n",
    "\n",
    "**21. Write a Python program that determines whether a given number (accepted from the user) is even or odd, and prints an appropriate message to the user.**\n",
    "Click me to see the sample solution\n",
    "\n",
    "**22. Write a Python program to count the number 4 in a given list.**\n",
    "Click me to see the sample solution\n",
    "\n",
    "**23. Write a Python program to get n (non-negative integer) copies of the first 2 characters of a given string. Return n copies of the whole string if the length is less than 2.**\n",
    "Click me to see the sample solution\n",
    "\n",
    "**24. Write a Python program to test whether a passed letter is a vowel or not.**\n",
    "Click me to see the sample solution\n",
    "\n",
    "**25. Write a Python program that checks whether a specified value is contained within a group of values.**\n",
    "\n",
    "Test Data :\n",
    "\n",
    "3 -> [1, 5, 8, 3] : True\n",
    "-1 -> [1, 5, 8, 3] : False"
   ]
  },
  {
   "cell_type": "code",
   "execution_count": 32,
   "metadata": {},
   "outputs": [
    {
     "name": "stdout",
     "output_type": "stream",
     "text": [
      "IsArray\n",
      "IsEmpty\n"
     ]
    }
   ],
   "source": [
    "def new_string(text):\n",
    "    if len(text) >= 2 and text [:2] == \"Is\":\n",
    "        return text\n",
    "    return \"Is\" + text\n",
    "print(new_string(\"Array\"))\n",
    "print(new_string(\"IsEmpty\")) \n"
   ]
  },
  {
   "cell_type": "code",
   "execution_count": 33,
   "metadata": {},
   "outputs": [
    {
     "name": "stdout",
     "output_type": "stream",
     "text": [
      "abab\n",
      "ppp\n"
     ]
    }
   ],
   "source": [
    "#23\n",
    "def substring_copy(text, n):\n",
    "    flen = 2\n",
    "    if flen > len(text):\n",
    "        flen = len(text)\n",
    "    substr = text[:flen]\n",
    "    result = \"\"\n",
    "    for i in range(n):\n",
    "        result = result + substr\n",
    "    return result\n",
    "print(substring_copy('abcdef', 2))\n",
    "print(substring_copy('p', 3));\n"
   ]
  },
  {
   "cell_type": "code",
   "execution_count": 34,
   "metadata": {},
   "outputs": [
    {
     "name": "stdout",
     "output_type": "stream",
     "text": [
      "False\n",
      "True\n"
     ]
    }
   ],
   "source": [
    "def is_vowel(char):\n",
    "    all_vowels = 'aeiou'\n",
    "    return char in all_vowels\n",
    "print(is_vowel('c'))\n",
    "print(is_vowel('e'))"
   ]
  },
  {
   "cell_type": "code",
   "execution_count": 39,
   "metadata": {},
   "outputs": [
    {
     "name": "stdout",
     "output_type": "stream",
     "text": [
      "Return the absolute value of the argument.\n",
      "Return the sum of a 'start' value (default: 0) plus an iterable of numbers\n",
      "\n",
      "When the iterable is empty, return the start value.\n",
      "This function is intended specifically for use with numeric values and may\n",
      "reject non-numeric types.\n"
     ]
    }
   ],
   "source": [
    "# problem: 11\n",
    "print(abs.__doc__)\n",
    "print(sum.__doc__)"
   ]
  },
  {
   "cell_type": "code",
   "execution_count": 45,
   "metadata": {},
   "outputs": [
    {
     "name": "stdout",
     "output_type": "stream",
     "text": [
      "enter the month:07\n",
      "enter the year:2023\n",
      "     July 2023\n",
      "Mo Tu We Th Fr Sa Su\n",
      "                1  2\n",
      " 3  4  5  6  7  8  9\n",
      "10 11 12 13 14 15 16\n",
      "17 18 19 20 21 22 23\n",
      "24 25 26 27 28 29 30\n",
      "31\n",
      "\n"
     ]
    }
   ],
   "source": [
    "#problem:12 \n",
    "import calendar\n",
    "m= int(input(\"enter the month:\"))\n",
    "y= int(input(\"enter the year:\"))\n",
    "print(calendar.month(y,m))"
   ]
  },
  {
   "cell_type": "code",
   "execution_count": 47,
   "metadata": {},
   "outputs": [
    {
     "name": "stdout",
     "output_type": "stream",
     "text": [
      "a string that you \"don't\" have to escape\n",
      "This is a ....... multi-line heredoc string -------->\n"
     ]
    }
   ],
   "source": [
    "#problem: 13\n",
    "print(\"\"\"a string that you \"don't\" have to escape\n",
    "This is a ....... multi-line heredoc string -------->\"\"\")"
   ]
  },
  {
   "cell_type": "code",
   "execution_count": 50,
   "metadata": {},
   "outputs": [
    {
     "name": "stdout",
     "output_type": "stream",
     "text": [
      "9\n"
     ]
    }
   ],
   "source": [
    "#problem: 14\n",
    "from datetime import date\n",
    "start_date= date(2014, 7, 2)\n",
    "end_date= date(2014, 7, 11)\n",
    "diff= end_date- start_date\n",
    "print(diff.days)"
   ]
  },
  {
   "cell_type": "code",
   "execution_count": 52,
   "metadata": {},
   "outputs": [
    {
     "data": {
      "text/plain": [
       "523.5987755982989"
      ]
     },
     "execution_count": 52,
     "metadata": {},
     "output_type": "execute_result"
    }
   ],
   "source": [
    "#problem: 15\n",
    "from math import pi\n",
    "def vol_sphere(r):\n",
    "        volume= 4/3*pi*r**3\n",
    "        return volume\n",
    "vol_sphere(5)"
   ]
  },
  {
   "cell_type": "code",
   "execution_count": 54,
   "metadata": {},
   "outputs": [
    {
     "name": "stdout",
     "output_type": "stream",
     "text": [
      "15\n",
      "2\n"
     ]
    }
   ],
   "source": [
    "#problem: 16\n",
    "def diff_num(n):\n",
    "    if n<=17:\n",
    "        return (17-n)\n",
    "    else:\n",
    "        return abs(17-n)*3\n",
    "print(diff_num(22))\n",
    "print(diff_num(15))"
   ]
  },
  {
   "cell_type": "code",
   "execution_count": 61,
   "metadata": {},
   "outputs": [
    {
     "name": "stdout",
     "output_type": "stream",
     "text": [
      "False\n",
      "False\n",
      "True\n"
     ]
    }
   ],
   "source": [
    "#problem:17\n",
    "def number_within(num):\n",
    "    return ((abs(1000-num)<=100) or (abs(2000-num)<=100))\n",
    "print(number_within(500))\n",
    "print(number_within(2300))\n",
    "print(number_within(1000))"
   ]
  },
  {
   "cell_type": "code",
   "execution_count": 3,
   "metadata": {},
   "outputs": [
    {
     "name": "stdout",
     "output_type": "stream",
     "text": [
      "9\n",
      "27\n"
     ]
    }
   ],
   "source": [
    "#problem: 18\n",
    "def sum_three_num(a,b,c):\n",
    "    num_sum= a+b+c\n",
    "    if a==b==c:\n",
    "        return num_sum*3\n",
    "    else:\n",
    "        return num_sum\n",
    "print(sum_three_num(2,3,4))\n",
    "print(sum_three_num(3,3,3))"
   ]
  },
  {
   "cell_type": "code",
   "execution_count": 9,
   "metadata": {},
   "outputs": [
    {
     "name": "stdout",
     "output_type": "stream",
     "text": [
      "IsArray\n",
      "IsMetrics\n"
     ]
    }
   ],
   "source": [
    "#problem: 19\n",
    "def newly_generated_string(s):\n",
    "    if len(s) >= 2 and s[:2]== 'Is':\n",
    "        return s\n",
    "    else:\n",
    "        return 'Is'+s`b\n",
    "# s_1= 'Isram'\n",
    "# s_2= 'ram'\n",
    "print(newly_generated_string('IsArray'))\n",
    "print(newly_generated_string('Metrics'))"
   ]
  },
  {
   "cell_type": "code",
   "execution_count": 12,
   "metadata": {},
   "outputs": [
    {
     "name": "stdout",
     "output_type": "stream",
     "text": [
      "abhi abhi abhi "
     ]
    }
   ],
   "source": [
    "#problem: 20\n",
    "def string_copy(text,n):\n",
    "    for i in range(0,n):\n",
    "        print(text, end= ' ')\n",
    "string_copy('abhi', 3)    "
   ]
  },
  {
   "cell_type": "code",
   "execution_count": 16,
   "metadata": {},
   "outputs": [
    {
     "data": {
      "text/plain": [
       "'abhiabhi'"
      ]
     },
     "execution_count": 16,
     "metadata": {},
     "output_type": "execute_result"
    }
   ],
   "source": [
    "def string_copy(text, n):\n",
    "    copy_file= ''\n",
    "    for i in range(n):\n",
    "        copy_file= copy_file + text\n",
    "    return copy_file\n",
    "string_copy('abhi', 2)"
   ]
  },
  {
   "cell_type": "code",
   "execution_count": 21,
   "metadata": {},
   "outputs": [
    {
     "name": "stdout",
     "output_type": "stream",
     "text": [
      "Enter a number: 7\n"
     ]
    },
    {
     "data": {
      "text/plain": [
       "False"
      ]
     },
     "execution_count": 21,
     "metadata": {},
     "output_type": "execute_result"
    }
   ],
   "source": [
    "#problem: 21\n",
    "n= int(input(\"Enter a number: \"))\n",
    "def num_even_odd(n):\n",
    "    if n%2 > 0:\n",
    "        return False\n",
    "    else:\n",
    "        return True\n",
    "num_even_odd(n)"
   ]
  },
  {
   "cell_type": "code",
   "execution_count": 25,
   "metadata": {},
   "outputs": [
    {
     "data": {
      "text/plain": [
       "2"
      ]
     },
     "execution_count": 25,
     "metadata": {},
     "output_type": "execute_result"
    }
   ],
   "source": [
    "#problem: 22\n",
    "def count_four_in_list(list_1):\n",
    "    num= 0\n",
    "    for i in list_1:\n",
    "        if i == 4:\n",
    "            num += 1\n",
    "    return num\n",
    "list_1= [2,4,8,4]\n",
    "count_four_in_list(list_1)\n",
    "    "
   ]
  },
  {
   "cell_type": "code",
   "execution_count": 29,
   "metadata": {},
   "outputs": [
    {
     "name": "stdout",
     "output_type": "stream",
     "text": [
      "I I I None\n",
      "ra ra ra None\n"
     ]
    }
   ],
   "source": [
    "#problem: 23\n",
    "def non_negative_copies(text, n):\n",
    "    result=''\n",
    "    if len(text)< 2:\n",
    "        for i in range(n):\n",
    "            print(text, end= ' ')\n",
    "    else:\n",
    "        for i in range(n):\n",
    "            print(text[:2], end= ' ')\n",
    "\n",
    "print(non_negative_copies('I',3))\n",
    "print(non_negative_copies('radheshaym', 3))        "
   ]
  },
  {
   "cell_type": "code",
   "execution_count": 30,
   "metadata": {},
   "outputs": [
    {
     "name": "stdout",
     "output_type": "stream",
     "text": [
      "abab\n",
      "ppp\n"
     ]
    }
   ],
   "source": [
    "def substring_copy(text, n):\n",
    "    flen = 2\n",
    "    if flen > len(text):\n",
    "        flen = len(text)\n",
    "    substr = text[:flen]\n",
    "    result = \"\"\n",
    "    for i in range(n):\n",
    "        result = result + substr\n",
    "    return result\n",
    "print(substring_copy('abcdef', 2))\n",
    "print(substring_copy('p', 3));\n"
   ]
  },
  {
   "cell_type": "code",
   "execution_count": 40,
   "metadata": {},
   "outputs": [
    {
     "name": "stdout",
     "output_type": "stream",
     "text": [
      "a is a vowel\n",
      "i is a vowel\n",
      "e is a vowel\n",
      "let's check vowels in the given abhishek :\n",
      "['a', 'i', 'e']\n"
     ]
    }
   ],
   "source": [
    "#problem: 24\n",
    "\n",
    "def check_for_vowels(strng):\n",
    "    vowels= 'aeiou'\n",
    "    vowel_string=[]\n",
    "    for i in strng:\n",
    "        if i in vowels:\n",
    "            print(f\"{i} is a vowel\")\n",
    "            vowel_string.append(i)\n",
    "    print(\"let's check vowels in the given {} :\".format(strng))\n",
    "    return vowel_string\n",
    "print(check_for_vowels('abhishek'))"
   ]
  },
  {
   "cell_type": "code",
   "execution_count": 41,
   "metadata": {},
   "outputs": [
    {
     "name": "stdout",
     "output_type": "stream",
     "text": [
      "False\n",
      "True\n"
     ]
    }
   ],
   "source": [
    "#problem: 25\n",
    "list_1= [2,3,4,5]\n",
    "def check_number_in_list(list_1, n):\n",
    "    if n in list_1:\n",
    "        return True\n",
    "    else:\n",
    "        return False\n",
    "print(check_number_in_list(list_1, 8))\n",
    "print(check_number_in_list(list_1, 3))"
   ]
  },
  {
   "cell_type": "markdown",
   "metadata": {},
   "source": [
    "**26. Write a Python program to create a histogram from a given list of integers.**\n",
    "\n",
    "\n",
    "**27. Write a Python program that concatenates all elements in a list into a string and returns it.**\n",
    "\n",
    "**28. Write a Python program to print all even numbers from a given list of numbers in the same order and stop printing any after 237 in the sequence.**\n",
    "\n",
    "\n",
    "numbers = [    \n",
    "    386, 462, 47, 418, 907, 344, 236, 375, 823, 566, 597, 978, 328, 615, 953, 345, \n",
    "    399, 162, 758, 219, 918, 237, 412, 566, 826, 248, 866, 950, 626, 949, 687, 217, \n",
    "    815, 67, 104, 58, 512, 24, 892, 894, 767, 553, 81, 379, 843, 831, 445, 742, 717, \n",
    "    958,743, 527\n",
    "    ]\n",
    "\n",
    "**29. Write a Python program that prints out all colors from color_list_1 that are not present in color_list_2.**\n",
    "Test Data :\n",
    "color_list_1 = set([\"White\", \"Black\", \"Red\"])\n",
    "color_list_2 = set([\"Red\", \"Green\"])\n",
    "Expected Output :\n",
    "{'Black', 'White'}\n",
    "\n",
    "\n",
    "**30. Write a Python program that will accept the base and height of a triangle and compute its area.**\n",
    "\n",
    "\n",
    "**31. Write a Python program that computes the greatest common divisor (GCD) of two positive integers.**\n",
    "\n",
    "\n",
    "**32. Write a Python program to find the least common multiple (LCM) of two positive integers.**\n",
    "\n",
    "\n",
    "**33. Write a Python program to sum three given integers. However, if two values are equal, the sum will be zero.**\n",
    "\n",
    "\n",
    "**34. Write a Python program to sum two given integers. However, if the sum is between 15 and 20 it will return 20.**\n",
    "\n",
    "**35. Write a Python program that returns true if the two given integer values are equal or their sum or difference is 5.**"
   ]
  },
  {
   "cell_type": "code",
   "execution_count": 1,
   "metadata": {},
   "outputs": [
    {
     "name": "stdout",
     "output_type": "stream",
     "text": [
      "*****\n",
      "*******\n",
      "***\n",
      "******\n"
     ]
    }
   ],
   "source": [
    "#problem: 26\n",
    "list_1= [5, 7,3,6]\n",
    "def create_histogram(list_1):\n",
    "    for i in list_1:\n",
    "        order=''\n",
    "        times= i \n",
    "        while(times >0):\n",
    "            order+='*'\n",
    "            times= times-1\n",
    "        print(order)\n",
    "create_histogram(list_1)"
   ]
  },
  {
   "cell_type": "code",
   "execution_count": 2,
   "metadata": {},
   "outputs": [
    {
     "data": {
      "text/plain": [
       "'ramshyammohan'"
      ]
     },
     "execution_count": 2,
     "metadata": {},
     "output_type": "execute_result"
    }
   ],
   "source": [
    "#problem:27\n",
    "list_1= ['ram','shyam','mohan']\n",
    "def concate_elements(list_1):\n",
    "    list_2= ''\n",
    "    for i in list_1:\n",
    "        list_2= list_2+i\n",
    "    return list_2\n",
    "concate_elements(list_1)        "
   ]
  },
  {
   "cell_type": "code",
   "execution_count": 4,
   "metadata": {},
   "outputs": [
    {
     "name": "stdout",
     "output_type": "stream",
     "text": [
      "15122\n"
     ]
    }
   ],
   "source": [
    "def concatenate_list_data(list):\n",
    "    result= ''\n",
    "    for element in list:\n",
    "        result += str(element)\n",
    "    return result\n",
    "\n",
    "print(concatenate_list_data([1, 5, 12, 2]))"
   ]
  },
  {
   "cell_type": "code",
   "execution_count": 6,
   "metadata": {},
   "outputs": [
    {
     "name": "stdout",
     "output_type": "stream",
     "text": [
      "237\n",
      "[386, 462, 418, 344, 236, 566, 978, 328, 162, 758, 918]\n"
     ]
    }
   ],
   "source": [
    "#problem: 28\n",
    "even_list= []\n",
    "numbers = [\n",
    "    386, 462, 47, 418, 907, 344, 236, 375, 823, 566, 597, 978, 328,\\\n",
    "    615, 953, 345, 399, 162, 758, 219, 918, 237, 412, 566, 826, 248, \\\n",
    "    866, 950, 626, 949, 687, 217, 815, 67, 104, 58, 512, 24, 892, 894, \\\n",
    "    767, 553, 81, 379, 843, 831, 445, 742, 717, 958,743, 527 ]\n",
    "even_list = []\n",
    "\n",
    "def extracting_even_number(nums):\n",
    "    for i in nums:\n",
    "        if i == 237:\n",
    "            print(i)\n",
    "            break\n",
    "        elif i % 2 == 0:\n",
    "            even_list.append(i)\n",
    "    return even_list\n",
    "\n",
    "print(extracting_even_number(numbers))"
   ]
  },
  {
   "cell_type": "markdown",
   "metadata": {},
   "source": [
    "### Problem 29: \n",
    "**Write a Python program that prints out all colors from color_list_1 that are not present in color_list_2.**\n"
   ]
  },
  {
   "cell_type": "raw",
   "metadata": {},
   "source": [
    "Test Data:\n",
    "color_list_1 = set([\"White\", \"Black\", \"Red\"])\n",
    "color_list_2 = set([\"Red\", \"Green\"])\n",
    "Expected Output :\n",
    "{'Black', 'White'}"
   ]
  },
  {
   "cell_type": "code",
   "execution_count": 7,
   "metadata": {},
   "outputs": [
    {
     "name": "stdout",
     "output_type": "stream",
     "text": [
      "['White', 'Black']\n"
     ]
    }
   ],
   "source": [
    "color_list_1 = set([\"White\", \"Black\", \"Red\"])\n",
    "color_list_2 = set([\"Red\", \"Green\"])\n",
    "color_list= []\n",
    "def printing_color_list_1(color_list_1, color_list_2):\n",
    "    for i in color_list_1:\n",
    "        if i not in color_list_2:\n",
    "            color_list.append(i)\n",
    "    return color_list\n",
    "print(printing_color_list_1(color_list_1, color_list_2))"
   ]
  },
  {
   "cell_type": "code",
   "execution_count": 8,
   "metadata": {},
   "outputs": [
    {
     "name": "stdout",
     "output_type": "stream",
     "text": [
      "{'White', 'Black'}\n"
     ]
    }
   ],
   "source": [
    "print(color_list_1.difference(color_list_2))"
   ]
  },
  {
   "cell_type": "markdown",
   "metadata": {},
   "source": [
    "### Problem 30: \n",
    "**Write a Python program that will accept the base and height of a triangle and compute its area.**"
   ]
  },
  {
   "cell_type": "code",
   "execution_count": 9,
   "metadata": {},
   "outputs": [
    {
     "name": "stdout",
     "output_type": "stream",
     "text": [
      "4.0\n"
     ]
    }
   ],
   "source": [
    "def area_triangle(base, height):\n",
    "    area= 0.5 *base*height\n",
    "    return area\n",
    "print(area_triangle(2,4))"
   ]
  },
  {
   "cell_type": "markdown",
   "metadata": {},
   "source": [
    "### Problem 31:\n",
    "**Write a Python program that computes the greatest common divisor (GCD) of two positive integers.**"
   ]
  },
  {
   "attachments": {
    "image.png": {
     "image/png": "[encoded data removed]"
    }
   },
   "cell_type": "markdown",
   "metadata": {},
   "source": [
    "The greatest common divisor (GCD) of two nonzero integers a and b is the greatest positive integer d such that d is a divisor of both a and b; that is, there are integers e and f such that a = de and b = df, and d is the largest such integer. The GCD of a and b is generally denoted gcd(a, b).\n",
    "\n",
    "![image.png](attachment:image.png)"
   ]
  },
  {
   "cell_type": "code",
   "execution_count": 11,
   "metadata": {},
   "outputs": [
    {
     "name": "stdout",
     "output_type": "stream",
     "text": [
      "Enter the first number: 25\n",
      "Enter the second number: 35\n",
      "The Greatest Common Divisor (GCD) of 25 and 35 is: 5\n"
     ]
    }
   ],
   "source": [
    "def gcd(a, b):\n",
    "    while b != 0:\n",
    "        a, b = b, a % b\n",
    "    return a\n",
    "\n",
    "num1 = int(input(\"Enter the first number: \"))\n",
    "num2 = int(input(\"Enter the second number: \"))\n",
    "\n",
    "result = gcd(num1, num2)\n",
    "print(f\"The Greatest Common Divisor (GCD) of {num1} and {num2} is: {result}\")\n"
   ]
  },
  {
   "cell_type": "code",
   "execution_count": 17,
   "metadata": {},
   "outputs": [
    {
     "name": "stdout",
     "output_type": "stream",
     "text": [
      "GCD of 12 & 17 = 1\n",
      "GCD of 4 & 6 = 2\n",
      "GCD of 336 & 360 = 24\n"
     ]
    }
   ],
   "source": [
    "def gcd(x, y):\n",
    "    gcd = 1   \n",
    "    if x % y == 0:\n",
    "        return y   \n",
    "    for k in range(int(y / 2), 0, -1):\n",
    "        if x % k == 0 and y % k == 0:\n",
    "            gcd = k\n",
    "            break \n",
    "    return gcd\n",
    "print(\"GCD of 12 & 17 =\",gcd(12, 17))\n",
    "print(\"GCD of 4 & 6 =\",gcd(4, 6))\n",
    "print(\"GCD of 336 & 360 =\",gcd(336, 360))"
   ]
  },
  {
   "cell_type": "markdown",
   "metadata": {},
   "source": [
    "### Problem 32:\n",
    "**Write a Python program to find the least common multiple (LCM) of two positive integers.**"
   ]
  },
  {
   "attachments": {
    "image.png": {
     "image/png": "[encoded data removed]"
    }
   },
   "cell_type": "markdown",
   "metadata": {},
   "source": [
    "From Wikipedia,\n",
    "In arithmetic and number theory, the least common multiple, lowest common multiple, or smallest common multiple of two integers a and b, usually denoted by lcm(a, b), is the smallest positive integer that is divisible by both a and b. Since division of integers by zero is undefined, this definition has meaning only if a and b are both different from zero. However, some authors define lcm(a,0) as 0 for all a, which is the result of taking the lcm to be the least upper bound in the lattice of divisibility.\n",
    "\n",
    "![image.png](attachment:image.png)"
   ]
  },
  {
   "cell_type": "code",
   "execution_count": 21,
   "metadata": {},
   "outputs": [
    {
     "name": "stdout",
     "output_type": "stream",
     "text": [
      "LCM of 15 & 17 = 255\n",
      "LCM of 4 & 6 = 12\n"
     ]
    }
   ],
   "source": [
    "def finding_lcm(x, y):\n",
    "    return (x*y)//gcd(x, y)\n",
    "    \n",
    "print(\"LCM of 15 & 17 =\",finding_lcm(15, 17))\n",
    "print(\"LCM of 4 & 6 =\",finding_lcm(4, 6))"
   ]
  },
  {
   "cell_type": "markdown",
   "metadata": {},
   "source": [
    "### Problem 33:\n",
    "**Write a Python program to sum three given integers. However, if two values are equal, the sum will be zero.**"
   ]
  },
  {
   "attachments": {
    "image.png": {
     "image/png": "[encoded data removed]"
    }
   },
   "cell_type": "markdown",
   "metadata": {},
   "source": [
    "![image.png](attachment:image.png)"
   ]
  },
  {
   "cell_type": "code",
   "execution_count": 22,
   "metadata": {},
   "outputs": [
    {
     "name": "stdout",
     "output_type": "stream",
     "text": [
      "0\n",
      "6\n"
     ]
    }
   ],
   "source": [
    "def summing_three_numbers(a,b,c):\n",
    "    if a==b or a==c or b==c:\n",
    "        return 0\n",
    "    else:\n",
    "        return a+b+c\n",
    "print(summing_three_numbers(2,1,2))\n",
    "print(summing_three_numbers(1,2,3))"
   ]
  },
  {
   "cell_type": "markdown",
   "metadata": {},
   "source": [
    "### Problem 34:\n",
    "**Write a Python program to sum two given integers. However, if the sum is between 15 and 20 it will return 20.**"
   ]
  },
  {
   "cell_type": "code",
   "execution_count": 23,
   "metadata": {},
   "outputs": [
    {
     "name": "stdout",
     "output_type": "stream",
     "text": [
      "12\n",
      "20\n",
      "15\n"
     ]
    }
   ],
   "source": [
    "def sum_two_num(a,b):\n",
    "    c= a+b\n",
    "    if c < 20 and c>15:\n",
    "        return 20\n",
    "    else:\n",
    "        return c\n",
    "print(sum_two_num(10,2))\n",
    "print(sum_two_num(10,7))\n",
    "print(sum_two_num(10,5))"
   ]
  },
  {
   "cell_type": "markdown",
   "metadata": {},
   "source": [
    "### Problem 35:\n",
    "**Write a Python program that returns true if the two given integer values are equal or their sum or difference is 5.**"
   ]
  },
  {
   "cell_type": "code",
   "execution_count": 30,
   "metadata": {},
   "outputs": [
    {
     "name": "stdout",
     "output_type": "stream",
     "text": [
      "True\n",
      "True\n",
      "True\n",
      " \n"
     ]
    }
   ],
   "source": [
    "def sum_condition(a,b):\n",
    "    if a==b or (a+b)==5 or abs((a-b))==5:\n",
    "        return True\n",
    "    else:\n",
    "        return ' '\n",
    "print(sum_condition(2,3))\n",
    "print(sum_condition(7,2))\n",
    "print(sum_condition(3,3))\n",
    "print(sum_condition(4,3))"
   ]
  },
  {
   "cell_type": "markdown",
   "metadata": {},
   "source": [
    "### Problem 36:\n",
    "**Write a Python program to add two objects if both objects are integers.**\n",
    "\n"
   ]
  },
  {
   "cell_type": "code",
   "execution_count": 39,
   "metadata": {},
   "outputs": [
    {
     "name": "stdout",
     "output_type": "stream",
     "text": [
      "Both inputs should be integers.\n",
      "5\n",
      "Both inputs should be integers.\n"
     ]
    }
   ],
   "source": [
    "def integer_addition(num1,num2):\n",
    "    if isinstance(num1, int) and isinstance(num2, int):\n",
    "        result = num1 + num2\n",
    "        return result\n",
    "    else:\n",
    "        return \"Both inputs should be integers.\"\n",
    "print(integer_addition(2, 'ram'))\n",
    "print(integer_addition(2,3))\n",
    "print(integer_addition('ram','ram'))"
   ]
  },
  {
   "cell_type": "markdown",
   "metadata": {},
   "source": [
    "### Problem 37: \n",
    "**Write a Python program that displays your name, age, and address on three different lines.**\n",
    "\n"
   ]
  },
  {
   "attachments": {
    "image.png": {
     "image/png": "[encoded data removed]"
    }
   },
   "cell_type": "markdown",
   "metadata": {},
   "source": [
    "![image.png](attachment:image.png)"
   ]
  },
  {
   "cell_type": "code",
   "execution_count": 42,
   "metadata": {},
   "outputs": [
    {
     "name": "stdout",
     "output_type": "stream",
     "text": [
      "Enter the name: Abhishek\n",
      "Enter the age: 32\n",
      "Enter the address: Udyog vihar, sector 19, Gurgaon\n",
      "Person Details: {'name': 'Abhishek', 'age': 32, 'address': 'Udyog vihar, sector 19, Gurgaon'}\n"
     ]
    }
   ],
   "source": [
    "# Create an empty dictionary\n",
    "person_dict = {}\n",
    "\n",
    "# Input name, age, and address from the user\n",
    "name = input(\"Enter the name: \")\n",
    "age = int(input(\"Enter the age: \"))\n",
    "address = input(\"Enter the address: \")\n",
    "\n",
    "# Add name, age, and address to the dictionary\n",
    "person_dict[\"name\"] = name\n",
    "person_dict[\"age\"] = age\n",
    "person_dict[\"address\"] = address\n",
    "\n",
    "# Print the dictionary\n",
    "print(\"Person Details:\", person_dict)"
   ]
  },
  {
   "cell_type": "code",
   "execution_count": 43,
   "metadata": {},
   "outputs": [
    {
     "name": "stdout",
     "output_type": "stream",
     "text": [
      "Name: Simon\n",
      "Age: 19\n",
      "Address: Bangalore, Karnataka, India\n"
     ]
    }
   ],
   "source": [
    "def personal_details():\n",
    "    name, age = \"Simon\", 19\n",
    "    address = \"Bangalore, Karnataka, India\"\n",
    "    print(\"Name: {}\\nAge: {}\\nAddress: {}\".format(name, age, address))\n",
    "\n",
    "personal_details()\n"
   ]
  },
  {
   "cell_type": "markdown",
   "metadata": {},
   "source": [
    "### Problem 38:\n",
    "**Write a Python program to solve (x + y) * (x + y).**\n",
    "\n",
    "Test Data : x = 4, y = 3\n",
    "\n",
    "Expected Output : (4 + 3) ^ 2) = 49\n",
    "\n"
   ]
  },
  {
   "cell_type": "code",
   "execution_count": 45,
   "metadata": {},
   "outputs": [
    {
     "data": {
      "text/plain": [
       "49"
      ]
     },
     "execution_count": 45,
     "metadata": {},
     "output_type": "execute_result"
    }
   ],
   "source": [
    "def power_of_num(x,y):\n",
    "    return (x+y)*(x+y)\n",
    "power_of_num(4,3)"
   ]
  },
  {
   "cell_type": "markdown",
   "metadata": {},
   "source": [
    "### Problem 39:\n",
    "**Write a Python program to compute the future value of a specified principal amount, rate of interest, and number of years.**"
   ]
  },
  {
   "cell_type": "raw",
   "metadata": {},
   "source": [
    "The formula for future value with compound interest is FV = P(1 + r/n)^nt.\n",
    "FV = the future value;\n",
    "P = the principal;\n",
    "r = the annual interest rate expressed as a decimal;\n",
    "n = the number of times interest is paid each year;\n",
    "t = time in years.\n",
    "\n",
    "Test Data : amt = 10000, int = 3.5, years = 7\n",
    "Expected Output : 12722.79"
   ]
  },
  {
   "cell_type": "code",
   "execution_count": 48,
   "metadata": {},
   "outputs": [
    {
     "data": {
      "text/plain": [
       "12722.79"
      ]
     },
     "execution_count": 48,
     "metadata": {},
     "output_type": "execute_result"
    }
   ],
   "source": [
    "def compoud_interest(p,r,t):\n",
    "    CI= p*(1+(r/100))**t\n",
    "    return round(CI, 2)\n",
    "compoud_interest(10000, 3.5, 7)    "
   ]
  },
  {
   "cell_type": "markdown",
   "metadata": {},
   "source": [
    "### Problem 40: \n",
    "**Write a Python program to calculate the distance between the points (x1, y1) and (x2, y2).**"
   ]
  },
  {
   "cell_type": "code",
   "execution_count": 49,
   "metadata": {},
   "outputs": [
    {
     "data": {
      "text/plain": [
       "2.8284271247461903"
      ]
     },
     "execution_count": 49,
     "metadata": {},
     "output_type": "execute_result"
    }
   ],
   "source": [
    "from math import sqrt\n",
    "a= [2,3]\n",
    "b= [4,5]\n",
    "def finding_distance(a,b):\n",
    "    distance= sqrt((a[0]-b[0])**2+ (a[1]-b[1])**2)\n",
    "    return distance\n",
    "finding_distance(a,b)"
   ]
  },
  {
   "cell_type": "markdown",
   "metadata": {},
   "source": [
    "### problem 41:\n",
    "**Write a Python program to check whether a file exists.**"
   ]
  },
  {
   "cell_type": "code",
   "execution_count": 50,
   "metadata": {},
   "outputs": [
    {
     "name": "stdout",
     "output_type": "stream",
     "text": [
      "False\n",
      "False\n"
     ]
    }
   ],
   "source": [
    "import os\n",
    "print(os.path.isfile('main.txt'))\n",
    "print(os.path.isfile('main.py'))"
   ]
  },
  {
   "cell_type": "code",
   "execution_count": 51,
   "metadata": {},
   "outputs": [
    {
     "data": {
      "text/plain": [
       "True"
      ]
     },
     "execution_count": 51,
     "metadata": {},
     "output_type": "execute_result"
    }
   ],
   "source": [
    "os.path.isfile('Conversation_2.json')"
   ]
  },
  {
   "cell_type": "markdown",
   "metadata": {},
   "source": [
    "### Problem 42: \n",
    "**Write a Python program to determine if a Python shell is executing in 32bit or 64bit mode on OS.**"
   ]
  },
  {
   "cell_type": "code",
   "execution_count": 52,
   "metadata": {},
   "outputs": [
    {
     "name": "stdout",
     "output_type": "stream",
     "text": [
      "64\n"
     ]
    }
   ],
   "source": [
    "# For 32 bit it will return 32 and for 64 bit it will return 64\n",
    "import struct\n",
    "print(struct.calcsize(\"P\") * 8)"
   ]
  },
  {
   "cell_type": "code",
   "execution_count": 53,
   "metadata": {},
   "outputs": [
    {
     "name": "stdout",
     "output_type": "stream",
     "text": [
      "64bit\n",
      "64\n"
     ]
    }
   ],
   "source": [
    "import platform, struct\n",
    "print(platform.architecture()[0])\n",
    "print(struct.calcsize(\"P\") * 8)"
   ]
  },
  {
   "cell_type": "markdown",
   "metadata": {},
   "source": [
    "### Problem 43:\n",
    "**Write a Python program to get OS name, platform and release information.**"
   ]
  },
  {
   "cell_type": "code",
   "execution_count": 54,
   "metadata": {},
   "outputs": [
    {
     "name": "stdout",
     "output_type": "stream",
     "text": [
      "os.name                      posix\n",
      "sys.platform                 linux\n",
      "platform.system()            Linux\n",
      "sysconfig.get_platform()     linux-x86_64\n",
      "platform.machine()           x86_64\n",
      "platform.architecture()      ('64bit', 'ELF')\n"
     ]
    }
   ],
   "source": [
    "import os\n",
    "import sys\n",
    "import platform\n",
    "import sysconfig\n",
    "print(\"os.name                     \", os.name)\n",
    "print(\"sys.platform                \", sys.platform)\n",
    "print(\"platform.system()           \", platform.system())\n",
    "print(\"sysconfig.get_platform()    \", sysconfig.get_platform())\n",
    "print(\"platform.machine()          \", platform.machine())\n",
    "print(\"platform.architecture()     \", platform.architecture())\n"
   ]
  },
  {
   "cell_type": "markdown",
   "metadata": {},
   "source": [
    "### Problem 44:\n",
    "**Write a Python program to locate Python site packages.**"
   ]
  },
  {
   "cell_type": "code",
   "execution_count": 56,
   "metadata": {},
   "outputs": [
    {
     "name": "stdout",
     "output_type": "stream",
     "text": [
      "['/usr/local/lib/python3.10/site-packages']\n"
     ]
    }
   ],
   "source": [
    "import site\n",
    "print(site.getsitepackages())"
   ]
  },
  {
   "cell_type": "markdown",
   "metadata": {},
   "source": [
    "### Problem 45:\n",
    "**Write a Python program that calls an external command.**"
   ]
  },
  {
   "cell_type": "code",
   "execution_count": 57,
   "metadata": {},
   "outputs": [
    {
     "name": "stdout",
     "output_type": "stream",
     "text": [
      "total 1112\n",
      "-rw-rw-r-- 1 tvtroot tvtroot 240928 Jul 25 12:57 basic_part_1.ipynb\n",
      "-rw-rw-r-- 1 tvtroot tvtroot  82403 Jul 20 05:05 conversation_2.csv\n",
      "-rw-rw-r-- 1 tvtroot tvtroot 112602 Jul 19 06:19 Conversation_2.json\n",
      "-rw-rw-r-- 1 tvtroot tvtroot  11177 Jul 13 10:24 conversation.csv\n",
      "-rw-rw-r-- 1 tvtroot tvtroot   3927 Jul 19 09:05 conversation_metrics.py\n",
      "-rw-rw-r-- 1 tvtroot tvtroot   3317 Jul 19 09:24 converstional_analytics_app.py\n",
      "-rw-rw-r-- 1 tvtroot tvtroot  43207 Jul  3 05:35 customer_satisfaction_score.ipynb\n",
      "-rw-rw-r-- 1 tvtroot tvtroot  15319 Jul  5 12:33 KPI_conversational_bot.ipynb\n",
      "-rw-rw-r-- 1 tvtroot tvtroot  75335 Jul 24 07:54 Learn_conversation_data.ipynb\n",
      "-rw-rw-r-- 1 tvtroot tvtroot 151737 Jul 25 10:01 learning_points_for_practice.ipynb\n",
      "drwxrwxr-x 2 tvtroot tvtroot   4096 Jul 19 09:19 __pycache__\n",
      "-rw-rw-r-- 1 tvtroot tvtroot 198113 Jul 25 08:13 sentiment_analysis_results.json\n",
      "-rw-rw-r-- 1 tvtroot tvtroot 173422 Jul 25 10:01 Untitled.ipynb\n"
     ]
    },
    {
     "data": {
      "text/plain": [
       "0"
      ]
     },
     "execution_count": 57,
     "metadata": {},
     "output_type": "execute_result"
    }
   ],
   "source": [
    "from subprocess import call\n",
    "call([\"ls\", \"-l\"])"
   ]
  },
  {
   "cell_type": "markdown",
   "metadata": {},
   "source": [
    "### Problem 46:\n",
    "**46. Write a Python program to retrieve the path and name of the file currently being executed.\n",
    "Click me to see the sample solution**"
   ]
  },
  {
   "cell_type": "code",
   "execution_count": 62,
   "metadata": {},
   "outputs": [
    {
     "name": "stdout",
     "output_type": "stream",
     "text": [
      "Path of the current file: /home/Abhishek/conversational_project/Conversation_2.json\n",
      "Name of the current file: Conversation_2.json\n"
     ]
    }
   ],
   "source": [
    "import os\n",
    "\n",
    "# Get the path of the current file\n",
    "current_file_path = os.path.abspath('Conversation_2.json')\n",
    "\n",
    "# Get the name of the current file\n",
    "current_file_name = os.path.basename('Conversation_2.json')\n",
    "\n",
    "print(\"Path of the current file:\", current_file_path)\n",
    "print(\"Name of the current file:\", current_file_name)"
   ]
  },
  {
   "cell_type": "markdown",
   "metadata": {},
   "source": [
    "### Problem 47:\n",
    "**47. Write a Python program to find out the number of CPUs used.**"
   ]
  },
  {
   "cell_type": "code",
   "execution_count": 63,
   "metadata": {},
   "outputs": [
    {
     "name": "stdout",
     "output_type": "stream",
     "text": [
      "4\n"
     ]
    }
   ],
   "source": [
    "import multiprocessing\n",
    "print(multiprocessing.cpu_count())"
   ]
  },
  {
   "cell_type": "markdown",
   "metadata": {},
   "source": [
    "### Problem 48:\n",
    "**Write a Python program to parse a string to float or integer.**"
   ]
  },
  {
   "cell_type": "code",
   "execution_count": 64,
   "metadata": {},
   "outputs": [
    {
     "name": "stdout",
     "output_type": "stream",
     "text": [
      "246.2458\n",
      "246\n"
     ]
    }
   ],
   "source": [
    "n = \"246.2458\"\n",
    "print(float(n))\n",
    "print(int(float(n)))"
   ]
  },
  {
   "cell_type": "markdown",
   "metadata": {},
   "source": [
    "### Problem 49:\n",
    "**Write a Python program to list all files in a directory.**"
   ]
  },
  {
   "cell_type": "code",
   "execution_count": 66,
   "metadata": {},
   "outputs": [
    {
     "data": {
      "text/plain": [
       "['KPI_conversational_bot.ipynb',\n",
       " 'Untitled.ipynb',\n",
       " 'conversation.csv',\n",
       " 'customer_satisfaction_score.ipynb',\n",
       " 'Conversation_2.json',\n",
       " '.ipynb_checkpoints',\n",
       " '__pycache__',\n",
       " 'converstional_analytics_app.py',\n",
       " 'basic_part_1.ipynb',\n",
       " 'learning_points_for_practice.ipynb',\n",
       " 'conversation_2.csv',\n",
       " 'sentiment_analysis_results.json',\n",
       " 'conversation_metrics.py',\n",
       " 'Learn_conversation_data.ipynb']"
      ]
     },
     "execution_count": 66,
     "metadata": {},
     "output_type": "execute_result"
    }
   ],
   "source": [
    "import os\n",
    "os.listdir('/home/Abhishek/conversational_project')"
   ]
  },
  {
   "cell_type": "code",
   "execution_count": 68,
   "metadata": {},
   "outputs": [
    {
     "name": "stdout",
     "output_type": "stream",
     "text": [
      "['KPI_conversational_bot.ipynb', 'Untitled.ipynb', 'conversation.csv', 'customer_satisfaction_score.ipynb', 'Conversation_2.json', 'converstional_analytics_app.py', 'basic_part_1.ipynb', 'learning_points_for_practice.ipynb', 'conversation_2.csv', 'sentiment_analysis_results.json', 'conversation_metrics.py', 'Learn_conversation_data.ipynb']\n"
     ]
    }
   ],
   "source": [
    "from os.path import isfile, join\n",
    "files_list = [f for f in os.listdir('/home/Abhishek/conversational_project') if isfile(join('/home/Abhishek/conversational_project', f))]\n",
    "print(files_list);"
   ]
  },
  {
   "cell_type": "markdown",
   "metadata": {},
   "source": [
    "### Problem 50\n",
    "**Write a Python program to print without a newline or space.**"
   ]
  },
  {
   "cell_type": "code",
   "execution_count": 69,
   "metadata": {},
   "outputs": [
    {
     "name": "stdout",
     "output_type": "stream",
     "text": [
      "**********\n",
      "\n"
     ]
    }
   ],
   "source": [
    "for i in range(0, 10):\n",
    "    print('*', end=\"\")\n",
    "print(\"\\n\")"
   ]
  },
  {
   "cell_type": "code",
   "execution_count": 3,
   "metadata": {},
   "outputs": [
    {
     "name": "stdout",
     "output_type": "stream",
     "text": [
      "enter your nameAbhishek\n",
      "hello,Abhishek !!!\n"
     ]
    }
   ],
   "source": [
    "### Rough works \n",
    "name= input(\"enter your name\")\n",
    "print(\"hello,\"+name, \"!!!\")"
   ]
  },
  {
   "cell_type": "code",
   "execution_count": 11,
   "metadata": {},
   "outputs": [
    {
     "name": "stdout",
     "output_type": "stream",
     "text": [
      "Hello, {name} \n",
      "hello, Abhishek\n"
     ]
    }
   ],
   "source": [
    "name= \"Abhishek\"\n",
    "print(\"Hello, {name} \")\n",
    "# f-string\n",
    "print(f\"hello, {name}\") "
   ]
  },
  {
   "cell_type": "code",
   "execution_count": 19,
   "metadata": {},
   "outputs": [
    {
     "name": "stdout",
     "output_type": "stream",
     "text": [
      "    abhishek        kumar\n",
      "    ABHISHEK        KUMAR\n",
      "    abhishek        kumar\n",
      "    Abhishek        Kumar\n"
     ]
    }
   ],
   "source": [
    "name= \"    abhishek        kumar\"\n",
    "name= name.lower()\n",
    "print(name)\n",
    "name= name.upper()\n",
    "print(name)\n",
    "name= name.lower()\n",
    "name= name.capitalize()\n",
    "print(name)\n",
    "name= name.title()\n",
    "print(name)"
   ]
  },
  {
   "cell_type": "code",
   "execution_count": 20,
   "metadata": {},
   "outputs": [
    {
     "name": "stdout",
     "output_type": "stream",
     "text": [
      "Abhishek        kumar\n"
     ]
    }
   ],
   "source": [
    "name= name.strip().capitalize()\n",
    "print(name)"
   ]
  },
  {
   "cell_type": "code",
   "execution_count": 21,
   "metadata": {},
   "outputs": [
    {
     "data": {
      "text/plain": [
       "2"
      ]
     },
     "execution_count": 21,
     "metadata": {},
     "output_type": "execute_result"
    }
   ],
   "source": [
    "2%3"
   ]
  },
  {
   "cell_type": "code",
   "execution_count": 22,
   "metadata": {},
   "outputs": [
    {
     "data": {
      "text/plain": [
       "1"
      ]
     },
     "execution_count": 22,
     "metadata": {},
     "output_type": "execute_result"
    }
   ],
   "source": [
    "3%2"
   ]
  },
  {
   "cell_type": "code",
   "execution_count": null,
   "metadata": {},
   "outputs": [],
   "source": []
  }
 ],
 "metadata": {
  "kernelspec": {
   "display_name": "Python 3",
   "language": "python",
   "name": "python3"
  },
  "language_info": {
   "codemirror_mode": {
    "name": "ipython",
    "version": 3
   },
   "file_extension": ".py",
   "mimetype": "text/x-python",
   "name": "python",
   "nbconvert_exporter": "python",
   "pygments_lexer": "ipython3",
   "version": "3.6.9"
  }
 },
 "nbformat": 4,
 "nbformat_minor": 5
}
