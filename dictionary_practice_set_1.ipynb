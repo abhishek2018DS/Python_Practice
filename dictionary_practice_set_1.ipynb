{
 "cells": [
  {
   "cell_type": "markdown",
   "metadata": {},
   "source": [
    "### 1. Merging two Dictionaries"
   ]
  },
  {
   "cell_type": "code",
   "execution_count": 1,
   "metadata": {},
   "outputs": [
    {
     "name": "stdout",
     "output_type": "stream",
     "text": [
      "None\n",
      "{'d': 6, 'c': 4, 'a': 10, 'b': 8}\n"
     ]
    }
   ],
   "source": [
    "# Python code to merge dict using update() method\n",
    "def Merge(dict1, dict2):\n",
    "    return(dict2.update(dict1))\n",
    "\n",
    "# Driver code\n",
    "dict1 = {'a': 10, 'b': 8}\n",
    "dict2 = {'d': 6, 'c': 4}\n",
    "\n",
    "# This return None\n",
    "print(Merge(dict1, dict2))\n",
    "\n",
    "# changes made in dict2\n",
    "print(dict2)"
   ]
  },
  {
   "cell_type": "markdown",
   "metadata": {},
   "source": [
    "### 2. create grade calculator\n",
    "10 % of marks scored from submission of Assignments\n",
    "\n",
    "70 % of marks scored from Test\n",
    "\n",
    "20 % of marks scored in Lab-Works\n",
    " \n",
    "Grade will be calculated according to :\n",
    "\n",
    "1. score >= 90 : \"A\"\n",
    "\n",
    "2. score >= 80 : \"B\"\n",
    "\n",
    "3. score >= 70 : \"C\"\n",
    "\n",
    "4. score >= 60 : \"D\""
   ]
  },
  {
   "cell_type": "code",
   "execution_count": 2,
   "metadata": {},
   "outputs": [
    {
     "name": "stdout",
     "output_type": "stream",
     "text": [
      "Jack Frost\n",
      "=+=+=+=+=+=+=+=+=+=+=+=+=+=+=+=+=+=+=+=\n",
      "Average marks of Jack Frost is : 72.79 \n",
      "Letter Grade of Jack Frost is : C\n",
      "\n",
      "James Potter\n",
      "=+=+=+=+=+=+=+=+=+=+=+=+=+=+=+=+=+=+=+=\n",
      "Average marks of James Potter is : 75.962 \n",
      "Letter Grade of James Potter is : C\n",
      "\n",
      "Dylan Rhodes\n",
      "=+=+=+=+=+=+=+=+=+=+=+=+=+=+=+=+=+=+=+=\n",
      "Average marks of Dylan Rhodes is : 75.775 \n",
      "Letter Grade of Dylan Rhodes is : C\n",
      "\n",
      "Jessica Stone\n",
      "=+=+=+=+=+=+=+=+=+=+=+=+=+=+=+=+=+=+=+=\n",
      "Average marks of Jessica Stone is : 48.356 \n",
      "Letter Grade of Jessica Stone is : E\n",
      "\n",
      "Tom Hanks\n",
      "=+=+=+=+=+=+=+=+=+=+=+=+=+=+=+=+=+=+=+=\n",
      "Average marks of Tom Hanks is : 57.26 \n",
      "Letter Grade of Tom Hanks is : E\n",
      "\n",
      "Class Average is 72.79\n",
      "Letter Grade of the class is C \n"
     ]
    }
   ],
   "source": [
    "# 1. Jack's dictionary\n",
    "jack = { \"name\":\"Jack Frost\",\n",
    "         \"assignment\" : [80, 50, 40, 20],\n",
    "         \"test\" : [75, 75],\n",
    "         \"lab\" : [78.20, 77.20]\n",
    "       }\n",
    "         \n",
    "# 2. James's dictionary\n",
    "james = { \"name\":\"James Potter\",\n",
    "          \"assignment\" : [82, 56, 44, 30],\n",
    "          \"test\" : [80, 80],\n",
    "          \"lab\" : [67.90, 78.72]\n",
    "        }\n",
    "  \n",
    "# 3. Dylan's dictionary\n",
    "dylan = { \"name\" : \"Dylan Rhodes\",\n",
    "          \"assignment\" : [77, 82, 23, 39],\n",
    "          \"test\" : [78, 77],\n",
    "          \"lab\" : [80, 80]\n",
    "        }\n",
    "          \n",
    "# 4. Jessica's dictionary\n",
    "jess = { \"name\" : \"Jessica Stone\",\n",
    "         \"assignment\" : [67, 55, 77, 21],\n",
    "         \"test\" : [40, 50],\n",
    "         \"lab\" : [69, 44.56]\n",
    "       }\n",
    "         \n",
    "# 5. Tom's dictionary\n",
    "tom = { \"name\" : \"Tom Hanks\",\n",
    "        \"assignment\" : [29, 89, 60, 56],\n",
    "        \"test\" : [65, 56],\n",
    "        \"lab\" : [50, 40.6]\n",
    "      }\n",
    "  \n",
    "# Function calculates average \n",
    "def get_average(marks):\n",
    "    total_sum = sum(marks)\n",
    "    total_sum = float(total_sum)\n",
    "    return total_sum / len(marks)\n",
    "  \n",
    "# Function calculates total average\n",
    "def calculate_total_average(students):\n",
    "    assignment = get_average(students[\"assignment\"])\n",
    "    test = get_average(students[\"test\"])\n",
    "    lab = get_average(students[\"lab\"])\n",
    "  \n",
    "    # Return the result based\n",
    "    # on weightage supplied\n",
    "    # 10 % from assignments\n",
    "    # 70 % from test\n",
    "    # 20 % from lab-works\n",
    "    return (0.1 * assignment +\n",
    "            0.7 * test + 0.2 * lab)\n",
    "  \n",
    "  \n",
    "# Calculate letter grade of each student\n",
    "def assign_letter_grade(score):\n",
    "    if score >= 90: return \"A\"\n",
    "    elif score >= 80: return \"B\"\n",
    "    elif score >= 70: return \"C\"\n",
    "    elif score >= 60: return \"D\"\n",
    "    else : return \"E\"\n",
    "  \n",
    "# Function to calculate the total\n",
    "# average marks of the whole class\n",
    "def class_average_is(student_list):\n",
    "    result_list = []\n",
    "  \n",
    "    for student in student_list:\n",
    "        stud_avg = calculate_total_average(student)\n",
    "        result_list.append(stud_avg)\n",
    "        return get_average(result_list)\n",
    "  \n",
    "# Student list consisting the\n",
    "# dictionary of all students\n",
    "students = [jack, james, dylan, jess, tom]\n",
    "  \n",
    "# Iterate through the students list\n",
    "# and calculate their respective\n",
    "# average marks and letter grade\n",
    "for i in students :\n",
    "    print(i[\"name\"])\n",
    "    print(\"=+=+=+=+=+=+=+=+=+=+=+=+=+=+=+=+=+=+=+=\")\n",
    "    print(\"Average marks of %s is : %s \" %(i[\"name\"],\n",
    "                         calculate_total_average(i)))\n",
    "                           \n",
    "    print(\"Letter Grade of %s is : %s\" %(i[\"name\"],\n",
    "    assign_letter_grade(calculate_total_average(i))))\n",
    "      \n",
    "    print()\n",
    "  \n",
    "  \n",
    "# Calculate the average of whole class\n",
    "class_av = class_average_is(students)\n",
    "  \n",
    "print( \"Class Average is %s\" %(class_av))\n",
    "print(\"Letter Grade of the class is %s \" \n",
    "        %(assign_letter_grade(class_av)))"
   ]
  },
  {
   "cell_type": "markdown",
   "metadata": {},
   "source": [
    "### 3. Group Similar items to Dictionary Values List\n",
    "Input : test_list = [4, 6, 6, 4, 2, 2, 4, 8, 5, 8]\n",
    "\n",
    "Output : {4: [4, 4, 4], 6: [6, 6], 2: [2, 2], 8: [8, 8], 5: [5]}\n",
    "\n",
    "Explanation : Similar items grouped together on occurrences.\n",
    "\n",
    "Input : test_list = [7, 7, 7, 7]\n",
    "\n",
    "Output : {7 : [7, 7, 7, 7]}\n",
    "\n",
    "Explanation : Similar items grouped together on occurrences."
   ]
  },
  {
   "cell_type": "code",
   "execution_count": 3,
   "metadata": {},
   "outputs": [
    {
     "name": "stdout",
     "output_type": "stream",
     "text": [
      "The original list : [4, 6, 6, 4, 2, 2, 4, 4, 8, 5, 8]\n",
      "Similar grouped dictionary : {4: [4, 4, 4, 4], 6: [6, 6], 2: [2, 2], 8: [8, 8], 5: [5]}\n"
     ]
    }
   ],
   "source": [
    "from collections import defaultdict\n",
    "  \n",
    "# initializing list\n",
    "test_list = [4, 6, 6, 4, 2, 2, 4, 4, 8, 5, 8]\n",
    "  \n",
    "# printing original list\n",
    "print(\"The original list : \" + str(test_list))\n",
    "  \n",
    "# using defaultdict for default list \n",
    "res = defaultdict(list)\n",
    "for ele in test_list:\n",
    "      \n",
    "    # appending Similar values\n",
    "    res[ele].append(ele)\n",
    "  \n",
    "# printing result \n",
    "print(\"Similar grouped dictionary : \" + str(dict(res)))"
   ]
  },
  {
   "cell_type": "code",
   "execution_count": 4,
   "metadata": {},
   "outputs": [
    {
     "name": "stdout",
     "output_type": "stream",
     "text": [
      "The original list : [4, 6, 6, 4, 2, 2, 4, 4, 8, 5, 8]\n",
      "Similar grouped dictionary : {4: [4, 4, 4, 4], 6: [6, 6], 2: [2, 2], 8: [8, 8], 5: [5]}\n"
     ]
    }
   ],
   "source": [
    "# Python3 code to demonstrate working of\n",
    "# Group Similar items to Dictionary Values List\n",
    "# Using dictionary comprehension + Counter()\n",
    "from collections import Counter\n",
    "\n",
    "# initializing list\n",
    "test_list = [4, 6, 6, 4, 2, 2, 4, 4, 8, 5, 8]\n",
    "\n",
    "# printing original list\n",
    "print(\"The original list : \" + str(test_list))\n",
    "\n",
    "# using * operator to perform multiplication\n",
    "res = {key : [key] * val for key, val in Counter(test_list).items()}\n",
    "\n",
    "# printing result\n",
    "print(\"Similar grouped dictionary : \" + str(res))\n"
   ]
  },
  {
   "cell_type": "markdown",
   "metadata": {},
   "source": [
    "### 4. Dictionary and counter in Python to find winner of election\n",
    "Input :  votes[] = {\"john\", \"johnny\", \"jackie\", \n",
    "                    \"johnny\", \"john\", \"jackie\", \n",
    "                    \"jamie\", \"jamie\", \"john\",\n",
    "                    \"johnny\", \"jamie\", \"johnny\", \n",
    "                    \"john\"};\n",
    "\n",
    "Output : John\n",
    "\n",
    "We have four Candidates with name as 'John', \n",
    "'Johnny', 'jamie', 'jackie'. The candidates\n",
    "John and Johny get maximum votes. Since John\n",
    "is alphabetically smaller, we print it."
   ]
  },
  {
   "cell_type": "code",
   "execution_count": 5,
   "metadata": {},
   "outputs": [
    {
     "name": "stdout",
     "output_type": "stream",
     "text": [
      "john\n"
     ]
    }
   ],
   "source": [
    "from collections import Counter\n",
    " \n",
    "def winner(input):\n",
    " \n",
    "    # convert list of candidates into dictionary\n",
    "    # output will be likes candidates = {'A':2, 'B':4}\n",
    "    votes = Counter(input)\n",
    "     \n",
    "    # create another dictionary and it's key will\n",
    "    # be count of votes values will be name of\n",
    "    # candidates\n",
    "    dict = {}\n",
    " \n",
    "    for value in votes.values():\n",
    " \n",
    "        # initialize empty list to each key to\n",
    "        # insert candidate names having same\n",
    "        # number of votes\n",
    "        dict[value] = []\n",
    " \n",
    "    for (key,value) in votes.items():\n",
    "        dict[value].append(key)\n",
    " \n",
    "    # sort keys in descending order to get maximum\n",
    "    # value of votes\n",
    "    maxVote = sorted(dict.keys(),reverse=True)[0]\n",
    " \n",
    "    # check if more than 1 candidates have same\n",
    "    # number of votes. If yes, then sort the list\n",
    "    # first and print first element\n",
    "    if len(dict[maxVote])>1:\n",
    "        print (sorted(dict[maxVote])[0])\n",
    "    else:\n",
    "        print (dict[maxVote][0])\n",
    " \n",
    "# Driver program\n",
    "if __name__ == \"__main__\":\n",
    "    input =['john','johnny','jackie','johnny',\n",
    "            'john','jackie','jamie','jamie',\n",
    "            'john','johnny','jamie','johnny',\n",
    "            'john']\n",
    "    winner(input)"
   ]
  },
  {
   "cell_type": "markdown",
   "metadata": {},
   "source": [
    "### 5. K’th Non-repeating Character\n",
    "Input : str = geeksforgeeks, k = 3\n",
    "\n",
    "Output : r\n",
    "\n",
    "First non-repeating character is f,\n",
    "second is o and third is r.\n",
    "\n",
    "Input : str = geeksforgeeks, k = 2\n",
    "\n",
    "Output : o\n",
    "\n",
    "Input : str = geeksforgeeks, k = 4\n",
    "\n",
    "Output : Less than k non-repeating\n",
    "         characters in input."
   ]
  },
  {
   "cell_type": "code",
   "execution_count": 6,
   "metadata": {},
   "outputs": [
    {
     "name": "stdout",
     "output_type": "stream",
     "text": [
      "r\n"
     ]
    }
   ],
   "source": [
    "from collections import OrderedDict \n",
    "  \n",
    "def kthRepeating(input,k): \n",
    "  \n",
    "    # OrderedDict returns a dictionary data \n",
    "        # structure having characters of input \n",
    "    # string as keys in the same order they \n",
    "        # were inserted and 0 as their default value \n",
    "    dict=OrderedDict.fromkeys(input,0) \n",
    "  \n",
    "    # now traverse input string to calculate \n",
    "        # frequency of each character \n",
    "    for ch in input: \n",
    "        dict[ch]+=1\n",
    "  \n",
    "    # now extract list of all keys whose value \n",
    "        # is 1 from dict Ordered Dictionary \n",
    "    nonRepeatDict = [key for (key,value) in dict.items() if value==1] \n",
    "      \n",
    "    # now return (k-1)th character from above list \n",
    "    if len(nonRepeatDict) < k: \n",
    "        return 'Less than k non-repeating characters in input.' \n",
    "    else: \n",
    "        return nonRepeatDict[k-1] \n",
    "  \n",
    "# Driver function \n",
    "if __name__ == \"__main__\": \n",
    "    input = \"geeksforgeeks\"\n",
    "    k = 3\n",
    "    print (kthRepeating(input, k)) "
   ]
  },
  {
   "cell_type": "markdown",
   "metadata": {},
   "source": [
    "### 6. Create Nested Dictionary using given List\n",
    "Input : test_dict = {‘Gfg’ : 4, ‘best’ : 9}, test_list = [8, 2]\n",
    "\n",
    "Output : {8: {‘Gfg’: 4}, 2: {‘best’: 9}}\n",
    "\n",
    "Explanation : Index-wise key-value pairing from list [8] to dict {‘Gfg’ : 4} and so on.\n",
    "\n",
    "Input : test_dict = {‘Gfg’ : 4}, test_list = [8]\n",
    "\n",
    "Output : {8: {‘Gfg’: 4}}\n",
    "\n",
    "Explanation : Index-wise key-value pairing from list [8] to dict {‘Gfg’ : 4}."
   ]
  },
  {
   "cell_type": "code",
   "execution_count": 7,
   "metadata": {},
   "outputs": [
    {
     "name": "stdout",
     "output_type": "stream",
     "text": [
      "The original dictionary is : {'Gfg': 4, 'is': 5, 'best': 9}\n",
      "The original list is : [8, 3, 2]\n",
      "The mapped dictionary : {8: {'Gfg': 4}, 3: {'is': 5}, 2: {'best': 9}}\n"
     ]
    }
   ],
   "source": [
    "# initializing dictionary and list\n",
    "test_dict = {'Gfg' : 4, 'is' : 5, 'best' : 9} \n",
    "test_list = [8, 3, 2]\n",
    "  \n",
    "# printing original dictionary and list\n",
    "print(\"The original dictionary is : \" + str(test_dict))\n",
    "print(\"The original list is : \" + str(test_list))\n",
    "  \n",
    "# using zip() and loop to perform \n",
    "# combining and assignment respectively.\n",
    "res = {}\n",
    "for key, ele in zip(test_list, test_dict.items()):\n",
    "    res[key] = dict([ele])\n",
    "          \n",
    "# printing result \n",
    "print(\"The mapped dictionary : \" + str(res)) "
   ]
  },
  {
   "cell_type": "markdown",
   "metadata": {},
   "source": [
    "### 7. Reverse Dictionary Keys Order\n"
   ]
  },
  {
   "cell_type": "code",
   "execution_count": 8,
   "metadata": {},
   "outputs": [
    {
     "name": "stdout",
     "output_type": "stream",
     "text": [
      "The original dictionary : {'gfg': 4, 'is': 2, 'best': 5}\n",
      "The reversed order dictionary : OrderedDict([('best', 5), ('is', 2), ('gfg', 4)])\n"
     ]
    }
   ],
   "source": [
    "# Python3 code to demonstrate working of\n",
    "# Reverse Dictionary Keys Order\n",
    "# Using OrderedDict() + reversed() + items()\n",
    "from collections import OrderedDict\n",
    "\n",
    "# initializing dictionary\n",
    "test_dict = {'gfg' : 4, 'is' : 2, 'best' : 5}\n",
    "\n",
    "# printing original dictionary\n",
    "print(\"The original dictionary : \" + str(test_dict))\n",
    "\n",
    "# Reverse Dictionary Keys Order\n",
    "# Using OrderedDict() + reversed() + items()\n",
    "res = OrderedDict(reversed(list(test_dict.items())))\n",
    "\n",
    "# printing result\n",
    "print(\"The reversed order dictionary : \" + str(res))"
   ]
  },
  {
   "cell_type": "markdown",
   "metadata": {},
   "source": [
    "### 8. Filter dictionary values in heterogeneous dictionary\n",
    "Input : test_dict = {‘Gfg’ : 10, ‘for’ : ‘geeks’} \n",
    "    \n",
    "Output : {‘Gfg’: 10, ‘for’: ‘geeks’}\n",
    "\n",
    "Input : test_dict = {‘Gfg’ : ‘geeks’} \n",
    "    \n",
    "Output : {‘Gfg’: ‘geeks’} "
   ]
  },
  {
   "cell_type": "code",
   "execution_count": 9,
   "metadata": {},
   "outputs": [
    {
     "name": "stdout",
     "output_type": "stream",
     "text": [
      "The original dictionary : {'Gfg': 4, 'is': 2, 'best': 3, 'for': 'geeks'}\n",
      "Values greater than K : {'Gfg': 4, 'for': 'geeks'}\n"
     ]
    }
   ],
   "source": [
    "# initializing dictionary\n",
    "test_dict = {'Gfg' : 4, 'is' : 2, 'best' : 3, 'for' : 'geeks'}\n",
    "  \n",
    "# printing original dictionary\n",
    "print(\"The original dictionary : \" + str(test_dict))\n",
    "  \n",
    "# initializing K \n",
    "K = 3\n",
    "  \n",
    "# Filter dictionary values in heterogeneous dictionary\n",
    "# Using type() + dictionary comprehension\n",
    "res = {key : val for key, val in test_dict.items()\n",
    "                   if type(val) != int or val > K}\n",
    "  \n",
    "# printing result \n",
    "print(\"Values greater than K : \" + str(res)) "
   ]
  },
  {
   "cell_type": "code",
   "execution_count": 10,
   "metadata": {},
   "outputs": [
    {
     "data": {
      "text/plain": [
       "dict_items([('Gfg', 4), ('is', 2), ('best', 3), ('for', 'geeks')])"
      ]
     },
     "execution_count": 10,
     "metadata": {},
     "output_type": "execute_result"
    }
   ],
   "source": [
    "test_dict.items()"
   ]
  },
  {
   "cell_type": "code",
   "execution_count": 11,
   "metadata": {},
   "outputs": [
    {
     "data": {
      "text/plain": [
       "(dict_keys(['Gfg', 'is', 'best', 'for']), dict_values([4, 2, 3, 'geeks']))"
      ]
     },
     "execution_count": 11,
     "metadata": {},
     "output_type": "execute_result"
    }
   ],
   "source": [
    "test_dict.keys(), test_dict.values()"
   ]
  },
  {
   "cell_type": "markdown",
   "metadata": {},
   "source": [
    "### 9. Check if binary representations of two numbers are anagram\n",
    "Input : a = 8, b = 4 \n",
    "\n",
    "Output : Yes\n",
    "\n",
    "Binary representations of both\n",
    "numbers have same 0s and 1s.\n",
    "\n",
    "Input : a = 4, b = 5\n",
    "\n",
    "Output : No"
   ]
  },
  {
   "cell_type": "code",
   "execution_count": 12,
   "metadata": {},
   "outputs": [
    {
     "name": "stdout",
     "output_type": "stream",
     "text": [
      "Yes\n"
     ]
    }
   ],
   "source": [
    "from collections import Counter\n",
    "  \n",
    "def checkAnagram(num1,num2):\n",
    "  \n",
    "    # convert numbers into in binary\n",
    "    # and remove first two characters of \n",
    "    # output string because bin function \n",
    "    # '0b' as prefix in output string\n",
    "    bin1 = bin(num1)[2:]\n",
    "    bin2 = bin(num2)[2:]\n",
    "  \n",
    "    # append zeros in shorter string\n",
    "    zeros = abs(len(bin1)-len(bin2))\n",
    "    if (len(bin1)>len(bin2)):\n",
    "         bin2 = zeros * '0' + bin2\n",
    "    else:\n",
    "         bin1 = zeros * '0' + bin1\n",
    "  \n",
    "    # convert binary representations \n",
    "    # into dictionary\n",
    "    dict1 = Counter(bin1)\n",
    "    dict2 = Counter(bin2)\n",
    "  \n",
    "    # compare both dictionaries\n",
    "    if dict1 == dict2:\n",
    "         print('Yes')\n",
    "    else:\n",
    "         print('No')\n",
    "  \n",
    "# Driver program\n",
    "if __name__ == \"__main__\":\n",
    "    num1 = 8\n",
    "    num2 = 4\n",
    "    checkAnagram(num1,num2)"
   ]
  },
  {
   "cell_type": "markdown",
   "metadata": {},
   "source": [
    "### 10. Convert Key-Value list Dictionary to List of Lists\n"
   ]
  },
  {
   "cell_type": "code",
   "execution_count": 13,
   "metadata": {},
   "outputs": [
    {
     "name": "stdout",
     "output_type": "stream",
     "text": [
      "The original dictionary is : {'gfg': [1, 3, 4], 'is': [7, 6], 'best': [4, 5]}\n",
      "The converted list is : [['gfg', 1, 3, 4], ['is', 7, 6], ['best', 4, 5]]\n"
     ]
    }
   ],
   "source": [
    "# initializing Dictionary\n",
    "test_dict = {'gfg' : [1, 3, 4], 'is' : [7, 6], 'best' : [4, 5]}\n",
    "  \n",
    "# printing original dictionary\n",
    "print(\"The original dictionary is : \" + str(test_dict))\n",
    "  \n",
    "# Convert Key-Value list Dictionary to Lists of List\n",
    "# Using loop + items()\n",
    "res = []\n",
    "for key, val in test_dict.items():\n",
    "    res.append([key] + val)\n",
    "  \n",
    "# printing result \n",
    "print(\"The converted list is : \" + str(res)) "
   ]
  },
  {
   "cell_type": "code",
   "execution_count": null,
   "metadata": {},
   "outputs": [],
   "source": []
  }
 ],
 "metadata": {
  "kernelspec": {
   "display_name": "Python 3",
   "language": "python",
   "name": "python3"
  },
  "language_info": {
   "codemirror_mode": {
    "name": "ipython",
    "version": 3
   },
   "file_extension": ".py",
   "mimetype": "text/x-python",
   "name": "python",
   "nbconvert_exporter": "python",
   "pygments_lexer": "ipython3",
   "version": "3.6.9"
  }
 },
 "nbformat": 4,
 "nbformat_minor": 4
}
