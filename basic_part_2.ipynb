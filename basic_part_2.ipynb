{
 "cells": [
  {
   "cell_type": "markdown",
   "id": "409f5264",
   "metadata": {},
   "source": [
    "### Problem 51:\n",
    "**Write a Python program to determine the profiling of Python programs.**"
   ]
  },
  {
   "cell_type": "raw",
   "id": "3886c91e",
   "metadata": {},
   "source": [
    "Note: A profile is a set of statistics that describes how often and for how long various parts of the program executed. These statistics can be formatted into reports via the pstats module."
   ]
  },
  {
   "cell_type": "code",
   "execution_count": 1,
   "id": "bad408bc",
   "metadata": {},
   "outputs": [
    {
     "name": "stdout",
     "output_type": "stream",
     "text": [
      "         4 function calls in 0.000 seconds\n",
      "\n",
      "   Ordered by: standard name\n",
      "\n",
      "   ncalls  tottime  percall  cumtime  percall filename:lineno(function)\n",
      "        1    0.000    0.000    0.000    0.000 1328314078.py:2(adding_two_num)\n",
      "        1    0.000    0.000    0.000    0.000 <string>:1(<module>)\n",
      "        1    0.000    0.000    0.000    0.000 {built-in method builtins.exec}\n",
      "        1    0.000    0.000    0.000    0.000 {method 'disable' of '_lsprof.Profiler' objects}\n",
      "\n",
      "\n"
     ]
    }
   ],
   "source": [
    "import cProfile\n",
    "def adding_two_num(a,b):\n",
    "    return a+b\n",
    "cProfile.run('adding_two_num(2,3)')"
   ]
  },
  {
   "cell_type": "markdown",
   "id": "9ee20130",
   "metadata": {},
   "source": [
    "### Problem 52:\n",
    "**Write a Python program to print to STDERR.**"
   ]
  },
  {
   "attachments": {
    "image.png": {
     "image/png": "[encoded data removed]"
    }
   },
   "cell_type": "markdown",
   "id": "67e113b8",
   "metadata": {},
   "source": [
    "![image.png](attachment:image.png)"
   ]
  },
  {
   "cell_type": "code",
   "execution_count": 2,
   "id": "30109b58",
   "metadata": {},
   "outputs": [
    {
     "name": "stderr",
     "output_type": "stream",
     "text": [
      "abc--efg--xyz\n"
     ]
    }
   ],
   "source": [
    "from __future__ import print_function\n",
    "import sys\n",
    "\n",
    "def eprint(*args, **kwargs):\n",
    "    print(*args, file=sys.stderr, **kwargs)\n",
    "\n",
    "eprint(\"abc\", \"efg\", \"xyz\", sep=\"--\")\n"
   ]
  },
  {
   "cell_type": "markdown",
   "id": "b9fa7555",
   "metadata": {},
   "source": [
    "### Problem 53:\n",
    "**Write a Python program to get the execution time of a Python method.**"
   ]
  },
  {
   "cell_type": "code",
   "execution_count": 4,
   "id": "eedf9323",
   "metadata": {},
   "outputs": [
    {
     "name": "stdout",
     "output_type": "stream",
     "text": [
      "the time taken to run the method: \n",
      "* * * * * * * * * * "
     ]
    },
    {
     "data": {
      "text/plain": [
       "0.0001964569091796875"
      ]
     },
     "execution_count": 4,
     "metadata": {},
     "output_type": "execute_result"
    }
   ],
   "source": [
    "import time \n",
    "start_time= time.time()\n",
    "def print_num(n):\n",
    "    for i in range (n):\n",
    "        print('*', end=' ')\n",
    "    end_time= time.time()\n",
    "    return end_time-start_time\n",
    "print(\"the time taken to run the method: \")\n",
    "print_num(10)"
   ]
  },
  {
   "cell_type": "markdown",
   "id": "79dd8ba5",
   "metadata": {},
   "source": [
    "### Problem 54:\n",
    "**Write a Python program to sum the first n positive integers.**"
   ]
  },
  {
   "cell_type": "code",
   "execution_count": 6,
   "id": "0f277a84",
   "metadata": {},
   "outputs": [
    {
     "data": {
      "text/plain": [
       "15.0"
      ]
     },
     "execution_count": 6,
     "metadata": {},
     "output_type": "execute_result"
    }
   ],
   "source": [
    "def sum_first_n_num(n):\n",
    "    sum_num = (n*(n+1))/2\n",
    "    return sum_num\n",
    "sum_first_n_num(5)"
   ]
  },
  {
   "cell_type": "markdown",
   "id": "33be76e2",
   "metadata": {},
   "source": [
    "### Problem 55: \n",
    "**Write a Python program to calculate the hypotenuse of a right angled triangle.**"
   ]
  },
  {
   "cell_type": "code",
   "execution_count": 7,
   "id": "fc03c5be",
   "metadata": {},
   "outputs": [
    {
     "data": {
      "text/plain": [
       "5.0"
      ]
     },
     "execution_count": 7,
     "metadata": {},
     "output_type": "execute_result"
    }
   ],
   "source": [
    "from math import sqrt\n",
    "def find_hypotenuse(a,b):\n",
    "    hpt= sqrt((a**2+b**2))\n",
    "    return hpt\n",
    "find_hypotenuse(3,4)"
   ]
  },
  {
   "cell_type": "markdown",
   "id": "2df0656e",
   "metadata": {},
   "source": [
    "### Problem 56:\n",
    "**Write a Python program to convert all units of time into seconds.**"
   ]
  },
  {
   "cell_type": "code",
   "execution_count": 8,
   "id": "485f8b92",
   "metadata": {},
   "outputs": [
    {
     "name": "stdout",
     "output_type": "stream",
     "text": [
      "Input days: 4\n",
      "Input hours: 5\n",
      "Input minutes: 35\n",
      "Input seconds: 12\n",
      "The  amounts of seconds 365712\n"
     ]
    }
   ],
   "source": [
    "days = int(input(\"Input days: \")) * 3600 * 24\n",
    "hours = int(input(\"Input hours: \")) * 3600\n",
    "minutes = int(input(\"Input minutes: \")) * 60\n",
    "seconds = int(input(\"Input seconds: \"))\n",
    "\n",
    "time = days + hours + minutes + seconds\n",
    "\n",
    "print(\"The  amounts of seconds\", time)"
   ]
  },
  {
   "cell_type": "markdown",
   "id": "ac063d57",
   "metadata": {},
   "source": [
    "### problem 57:\n",
    "**Write a Python program to get an absolute file path.**"
   ]
  },
  {
   "cell_type": "code",
   "execution_count": 9,
   "id": "c0215d1e",
   "metadata": {},
   "outputs": [
    {
     "data": {
      "text/plain": [
       "'/home/Abhishek/conversational_project/python_practice/Conversation_2.json'"
      ]
     },
     "execution_count": 9,
     "metadata": {},
     "output_type": "execute_result"
    }
   ],
   "source": [
    "def finding_abs_path(file):\n",
    "    import os\n",
    "    file_path= os.path.abspath(file)\n",
    "    return file_path\n",
    "finding_abs_path('Conversation_2.json')"
   ]
  },
  {
   "cell_type": "markdown",
   "id": "529c1773",
   "metadata": {},
   "source": [
    "### Problem 58:\n",
    "**Write a Python program that retrieves the date and time of file creation and modification.**"
   ]
  },
  {
   "cell_type": "code",
   "execution_count": 14,
   "id": "69cb7e44",
   "metadata": {},
   "outputs": [
    {
     "name": "stdout",
     "output_type": "stream",
     "text": [
      "the file /home/Abhishek/conversational_project/Conversation_2.jsonlast modified and created respectively: \n"
     ]
    },
    {
     "data": {
      "text/plain": [
       "('Wed Jul 19 06:19:17 2023', 'Thu Jul 20 05:02:51 2023')"
      ]
     },
     "execution_count": 14,
     "metadata": {},
     "output_type": "execute_result"
    }
   ],
   "source": [
    "def file_creation_modification(file):\n",
    "    import os.path, time\n",
    "    last_modified= time.ctime(os.path.getmtime(file))\n",
    "    created= time.ctime(os.path.getctime(file))\n",
    "    print(f\"the file {file}last modified and created respectively: \")\n",
    "    return last_modified, created\n",
    "file_creation_modification('/home/Abhishek/conversational_project/Conversation_2.json')"
   ]
  },
  {
   "cell_type": "markdown",
   "id": "e4f3b6bc",
   "metadata": {},
   "source": [
    "### Problem 59:\n",
    "**Write a Python program to calculate sum of digits of a number.**"
   ]
  },
  {
   "cell_type": "code",
   "execution_count": 17,
   "id": "b134172f",
   "metadata": {},
   "outputs": [
    {
     "name": "stdout",
     "output_type": "stream",
     "text": [
      "Enter any number: 345\n"
     ]
    },
    {
     "data": {
      "text/plain": [
       "12"
      ]
     },
     "execution_count": 17,
     "metadata": {},
     "output_type": "execute_result"
    }
   ],
   "source": [
    "def sum_digits(num):\n",
    "    new_num= str(num)\n",
    "    sum_list=0\n",
    "    for i in new_num:\n",
    "        sum_list+= int(i)\n",
    "    return sum_list\n",
    "num= int(input(\"Enter any number: \"))\n",
    "sum_digits(num) "
   ]
  },
  {
   "cell_type": "markdown",
   "id": "f05dbf49",
   "metadata": {},
   "source": [
    "### Problem 60:\n",
    "**Write a Python program to sort three integers without using conditional statements and loops.**"
   ]
  },
  {
   "cell_type": "code",
   "execution_count": 19,
   "id": "1e0578d6",
   "metadata": {},
   "outputs": [
    {
     "name": "stdout",
     "output_type": "stream",
     "text": [
      "Enter three integer5\n",
      "Enter three integer9\n",
      "Enter three integer4\n",
      "sorting the number: \n"
     ]
    },
    {
     "data": {
      "text/plain": [
       "(4, 5, 9)"
      ]
     },
     "execution_count": 19,
     "metadata": {},
     "output_type": "execute_result"
    }
   ],
   "source": [
    "def sorting_without_cond_loop():\n",
    "    num_list=[]\n",
    "    for i in range(3):\n",
    "        num= int(input(\"Enter three integer\"))\n",
    "        num_list.append(num)\n",
    "    num_min= min(num_list)\n",
    "    num_max= max(num_list)\n",
    "    num_sum= sum(num_list)\n",
    "    print(\"sorting the number: \")\n",
    "    return num_min, ((num_sum)-num_max-num_min), num_max\n",
    "sorting_without_cond_loop()    "
   ]
  },
  {
   "cell_type": "markdown",
   "id": "6c929dba",
   "metadata": {},
   "source": [
    "### Problem 61: \n",
    "**Write a Python program to sort files by date.**"
   ]
  },
  {
   "cell_type": "code",
   "execution_count": 28,
   "id": "8b5531a4",
   "metadata": {},
   "outputs": [
    {
     "name": "stdout",
     "output_type": "stream",
     "text": [
      "/home/Abhishek/conversational_project/customer_satisfaction_score.ipynb\n",
      "/home/Abhishek/conversational_project/KPI_conversational_bot.ipynb\n",
      "/home/Abhishek/conversational_project/Learn_conversation_data.ipynb\n",
      "/home/Abhishek/conversational_project/Untitled.ipynb\n",
      "/home/Abhishek/conversational_project/learning_points_for_practice.ipynb\n"
     ]
    }
   ],
   "source": [
    "#os.path.getmtime\n",
    "import glob\n",
    "import os\n",
    "files= glob.glob('/home/Abhishek/conversational_project/*.ipynb')\n",
    "files.sort(key= os.path.getmtime)\n",
    "print(\"\\n\".join(files))"
   ]
  },
  {
   "cell_type": "markdown",
   "id": "eac255ae",
   "metadata": {},
   "source": [
    "### problem 62:\n",
    "**Write a Python program to get a directory listing, sorted by creation date.**"
   ]
  },
  {
   "cell_type": "code",
   "execution_count": 33,
   "id": "152f3085",
   "metadata": {},
   "outputs": [
    {
     "name": "stdout",
     "output_type": "stream",
     "text": [
      "Files sorted by creation date:\n",
      "customer_satisfaction_score.ipynb\n",
      "KPI_conversational_bot.ipynb\n",
      "conversation.csv\n",
      "conversation_metrics.py\n",
      "converstional_analytics_app.py\n",
      "Conversation_2.json\n",
      "conversation_2.csv\n",
      "Learn_conversation_data.ipynb\n",
      "sentiment_analysis_results.json\n",
      "Untitled.ipynb\n",
      "learning_points_for_practice.ipynb\n"
     ]
    }
   ],
   "source": [
    "import os\n",
    "import datetime\n",
    "\n",
    "def get_creation_date(file_path):\n",
    "    # Get the creation time of the file\n",
    "    creation_time = os.path.getctime(file_path)\n",
    "    \n",
    "    # Convert the timestamp to a readable date format\n",
    "    creation_date = datetime.datetime.fromtimestamp(creation_time)\n",
    "    \n",
    "    return creation_time, creation_date\n",
    "\n",
    "def sort_files_by_creation_date(directory):\n",
    "    # Get a list of all files in the directory\n",
    "    files = [f for f in os.listdir(directory) if os.path.isfile(os.path.join(directory, f))]\n",
    "    \n",
    "    # Sort the files based on their creation dates using the get_creation_date function\n",
    "    sorted_files = sorted(files, key=lambda f: get_creation_date(os.path.join(directory, f)))\n",
    "    \n",
    "    return sorted_files\n",
    "\n",
    "# Test the function\n",
    "directory_path = \"/home/Abhishek/conversational_project/\"\n",
    "sorted_files = sort_files_by_creation_date(directory_path)\n",
    "get_files_cration_date= get_creation_date(directory_path)\n",
    "\n",
    "print(\"Files sorted by creation date:\")\n",
    "for file in sorted_files:\n",
    "    print(file)"
   ]
  },
  {
   "cell_type": "markdown",
   "id": "01d75516",
   "metadata": {},
   "source": [
    "### Problem 63:\n",
    "**Write a Python program to get the details of the math module.**"
   ]
  },
  {
   "cell_type": "code",
   "execution_count": 35,
   "id": "2a04f3a8",
   "metadata": {},
   "outputs": [
    {
     "name": "stdout",
     "output_type": "stream",
     "text": [
      "['__doc__', '__file__', '__loader__', '__name__', '__package__', '__spec__', 'acos', 'acosh', 'asin', 'asinh', 'atan', 'atan2', 'atanh', 'ceil', 'comb', 'copysign', 'cos', 'cosh', 'degrees', 'dist', 'e', 'erf', 'erfc', 'exp', 'expm1', 'fabs', 'factorial', 'floor', 'fmod', 'frexp', 'fsum', 'gamma', 'gcd', 'hypot', 'inf', 'isclose', 'isfinite', 'isinf', 'isnan', 'isqrt', 'lcm', 'ldexp', 'lgamma', 'log', 'log10', 'log1p', 'log2', 'modf', 'nan', 'nextafter', 'perm', 'pi', 'pow', 'prod', 'radians', 'remainder', 'sin', 'sinh', 'sqrt', 'tan', 'tanh', 'tau', 'trunc', 'ulp']\n"
     ]
    }
   ],
   "source": [
    "import math\n",
    "print(dir(math))"
   ]
  },
  {
   "cell_type": "markdown",
   "id": "4d026fb9",
   "metadata": {},
   "source": [
    "### Problem 64:\n",
    "**Write a Python program to calculate the midpoints of a line.**"
   ]
  },
  {
   "attachments": {
    "image.png": {
     "image/png": "[encoded data removed]"
    }
   },
   "cell_type": "markdown",
   "id": "c17c51a9",
   "metadata": {},
   "source": [
    "![image.png](attachment:image.png)"
   ]
  },
  {
   "cell_type": "code",
   "execution_count": 36,
   "id": "c6a9425b",
   "metadata": {},
   "outputs": [
    {
     "data": {
      "text/plain": [
       "[2.0, 3.0]"
      ]
     },
     "execution_count": 36,
     "metadata": {},
     "output_type": "execute_result"
    }
   ],
   "source": [
    "x= [1,2]\n",
    "y=[3,4]\n",
    "def finding_mid_point(x,y):\n",
    "    mid_point= [(x[0]+y[0])/2, (x[1]+y[1])/2]\n",
    "    return mid_point\n",
    "finding_mid_point(x,y)                     "
   ]
  },
  {
   "cell_type": "markdown",
   "id": "388e72a0",
   "metadata": {},
   "source": [
    "### Problem 64:\n",
    "**Write a Python program to hash a word.**"
   ]
  },
  {
   "cell_type": "markdown",
   "id": "cae8a98d",
   "metadata": {},
   "source": [
    "Hashing is simply passing some data through a formula that produces a result, called a hash. That hash is usually a string of characters and the hashes generated by a formula are always the same length, regardless of how much data you feed into it. For example, the MD5 formula always produces 32 character-long hashes."
   ]
  },
  {
   "cell_type": "code",
   "execution_count": 37,
   "id": "ced58171",
   "metadata": {},
   "outputs": [
    {
     "name": "stdout",
     "output_type": "stream",
     "text": [
      "Original integer value: 112\n",
      "Hash value of the said integer value: 112\n",
      "Original float value: 23.99\n",
      "Hash value of the said float value: 2282784579121553431\n",
      "Original text: Python Exercises\n",
      "Hash value of the said text: 375978610190126428\n"
     ]
    }
   ],
   "source": [
    "int_num = 112\n",
    "flt_num = 23.99\n",
    "text_val = 'Python Exercises'\n",
    "print(\"Original integer value:\",int_num)\n",
    "print (\"Hash value of the said integer value: \" + str(hash(int_num)))\n",
    "print(\"Original float value:\",flt_num)\n",
    "print (\"Hash value of the said float value: \" + str(hash(flt_num)))\n",
    "print(\"Original text:\",text_val)\n",
    "print (\"Hash value of the said text: \" + str(hash(text_val)))"
   ]
  },
  {
   "cell_type": "markdown",
   "id": "b8aa428f",
   "metadata": {},
   "source": [
    "### Problem 65:\n",
    "**Write a Python program to get the copyright information and write Copyright information in Python code.**"
   ]
  },
  {
   "cell_type": "code",
   "execution_count": 38,
   "id": "48c6d7ff",
   "metadata": {},
   "outputs": [
    {
     "name": "stdout",
     "output_type": "stream",
     "text": [
      "\n",
      "Python Copyright Information\n",
      "Copyright (c) 2001-2023 Python Software Foundation.\n",
      "All Rights Reserved.\n",
      "\n",
      "Copyright (c) 2000 BeOpen.com.\n",
      "All Rights Reserved.\n",
      "\n",
      "Copyright (c) 1995-2001 Corporation for National Research Initiatives.\n",
      "All Rights Reserved.\n",
      "\n",
      "Copyright (c) 1991-1995 Stichting Mathematisch Centrum, Amsterdam.\n",
      "All Rights Reserved.\n",
      "\n"
     ]
    }
   ],
   "source": [
    "import sys\n",
    "print(\"\\nPython Copyright Information\")\n",
    "print(sys.copyright)\n",
    "print()"
   ]
  },
  {
   "cell_type": "markdown",
   "id": "4f75136b",
   "metadata": {},
   "source": [
    "### Problem 66:\n",
    "**Write a Python program to get the command-line arguments (name of the script, the number of arguments, arguments) passed to a script.**"
   ]
  },
  {
   "cell_type": "code",
   "execution_count": 39,
   "id": "9f661068",
   "metadata": {
    "scrolled": true
   },
   "outputs": [
    {
     "name": "stdout",
     "output_type": "stream",
     "text": [
      "This is the name/path of the script:\n",
      "Number of arguments: 3\n",
      "Argument List: ['/home/tvtroot/.local/lib/python3.10/site-packages/ipykernel_launcher.py', '-f', '/home/tvtroot/.local/share/jupyter/runtime/kernel-f10bfdce-d0ea-49f4-a68e-23c1e614a018.json']\n"
     ]
    }
   ],
   "source": [
    "import sys\n",
    "print(\"This is the name/path of the script:\"),sys.argv[0]\n",
    "print(\"Number of arguments:\",len(sys.argv))\n",
    "print(\"Argument List:\",str(sys.argv))"
   ]
  },
  {
   "cell_type": "markdown",
   "id": "4a47727c",
   "metadata": {},
   "source": [
    "### Problem 67:\n",
    "**Write a Python program to test whether the system is a big-endian platform or a little-endian platform.**\n",
    "\n",
    "sys.byteorder: An indicator of the native byte order. This will have the value 'big' on big-endian (most-significant byte first) platforms, and 'little' on little-endian (least-significant byte first) platforms.\n",
    "\n"
   ]
  },
  {
   "cell_type": "code",
   "execution_count": 40,
   "id": "0451e3d2",
   "metadata": {},
   "outputs": [
    {
     "name": "stdout",
     "output_type": "stream",
     "text": [
      "\n",
      "Little-endian platform.\n",
      "\n"
     ]
    }
   ],
   "source": [
    "import sys\n",
    "print()\n",
    "if sys.byteorder == \"little\":\n",
    "    #intel, alpha\n",
    "    print(\"Little-endian platform.\")\n",
    "else:\n",
    "    #motorola, sparc\n",
    "    print(\"Big-endian platform.\")\n",
    "print()"
   ]
  },
  {
   "cell_type": "code",
   "execution_count": 41,
   "id": "b4ad3cd5",
   "metadata": {},
   "outputs": [
    {
     "data": {
      "text/plain": [
       "'little'"
      ]
     },
     "execution_count": 41,
     "metadata": {},
     "output_type": "execute_result"
    }
   ],
   "source": [
    "sys.byteorder"
   ]
  },
  {
   "cell_type": "markdown",
   "id": "929b981a",
   "metadata": {},
   "source": [
    "### Problem 68:\n",
    "**Write a Python program to find the available built-in modules.**"
   ]
  },
  {
   "cell_type": "code",
   "execution_count": 45,
   "id": "be92a07d",
   "metadata": {},
   "outputs": [
    {
     "name": "stdout",
     "output_type": "stream",
     "text": [
      "_abc, _ast, _codecs, _collections, _functools, _imp, _io, _locale, _operator, _signal, _sre, _stat,\n",
      "_string, _symtable, _thread, _tracemalloc, _warnings, _weakref, atexit, builtins, errno,\n",
      "faulthandler, gc, itertools, marshal, posix, pwd, sys, time, xxsubtype\n"
     ]
    }
   ],
   "source": [
    "import sys \n",
    "import textwrap\n",
    "module_name = ', '.join(sorted(sys.builtin_module_names))\n",
    "print(textwrap.fill(module_name, width=100))"
   ]
  },
  {
   "cell_type": "markdown",
   "id": "a0a2149a",
   "metadata": {},
   "source": [
    "### Problem 69:\n",
    "**Write a Python program to get the size of an object in bytes.**"
   ]
  },
  {
   "cell_type": "code",
   "execution_count": 46,
   "id": "be542ec8",
   "metadata": {},
   "outputs": [
    {
     "name": "stdout",
     "output_type": "stream",
     "text": [
      "Size of  one = 52 bytes\n",
      "Size of  four = 53 bytes\n",
      "Size of  three = 54 bytes\n"
     ]
    }
   ],
   "source": [
    "import sys\n",
    "str1 = \"one\"\n",
    "str2 = \"four\"\n",
    "str3 = \"three\"\n",
    "\n",
    "print(\"Size of \",str1,\"=\",str(sys.getsizeof(str1))+ \" bytes\")\n",
    "print(\"Size of \",str2,\"=\",str(sys.getsizeof(str2))+ \" bytes\")\n",
    "print(\"Size of \",str3,\"=\",str(sys.getsizeof(str3))+ \" bytes\")"
   ]
  },
  {
   "cell_type": "markdown",
   "id": "5eca788c",
   "metadata": {},
   "source": [
    "### Problem 70:\n",
    "**Write a Python program to get the current value of the recursion limit.**\n",
    "\n",
    "sys.getrecursionlimit(): Return the current value of the recursion limit, the maximum depth of the Python interpreter stack. This limit prevents infinite recursion from causing an overflow of the C stack and crashing Python. It can be set by setrecursionlimit()."
   ]
  },
  {
   "cell_type": "code",
   "execution_count": 47,
   "id": "f3d15963",
   "metadata": {},
   "outputs": [
    {
     "name": "stdout",
     "output_type": "stream",
     "text": [
      "\n",
      "Current value of the recursion limit:\n",
      "3000\n",
      "\n"
     ]
    }
   ],
   "source": [
    "import sys\n",
    "print()\n",
    "print(\"Current value of the recursion limit:\")\n",
    "print(sys.getrecursionlimit())\n",
    "print()"
   ]
  },
  {
   "cell_type": "markdown",
   "id": "21bd2055",
   "metadata": {},
   "source": [
    "### Problem 71:\n",
    "**Write a Python program to concatenate N strings.**"
   ]
  },
  {
   "attachments": {
    "image.png": {
     "image/png": "[encoded data removed]"
    }
   },
   "cell_type": "markdown",
   "id": "b7a13d26",
   "metadata": {},
   "source": [
    "![image.png](attachment:image.png)"
   ]
  },
  {
   "cell_type": "code",
   "execution_count": 52,
   "id": "6567bf33",
   "metadata": {},
   "outputs": [
    {
     "data": {
      "text/plain": [
       "'ram-shayam-mohan'"
      ]
     },
     "execution_count": 52,
     "metadata": {},
     "output_type": "execute_result"
    }
   ],
   "source": [
    "list_string= ['ram', 'shayam', 'mohan']\n",
    "list_string= '-'.join(list_string)\n",
    "list_string"
   ]
  },
  {
   "cell_type": "markdown",
   "id": "77a16774",
   "metadata": {},
   "source": [
    "### problem 72:\n",
    "**Write a Python program to test whether all numbers in a list are greater than a certain number.**"
   ]
  },
  {
   "attachments": {
    "image.png": {
     "image/png": "[encoded data removed]"
    }
   },
   "cell_type": "markdown",
   "id": "bcf2f2ac",
   "metadata": {},
   "source": [
    "![image.png](attachment:image.png)"
   ]
  },
  {
   "cell_type": "code",
   "execution_count": 53,
   "id": "1426d6c4",
   "metadata": {},
   "outputs": [
    {
     "name": "stdout",
     "output_type": "stream",
     "text": [
      "condition False\n",
      "condition True\n"
     ]
    }
   ],
   "source": [
    "list_number=[4,9,11,5]\n",
    "def check_the_condition(n):\n",
    "    for i in list_number:\n",
    "        if i < n:\n",
    "            return \"condition True\"\n",
    "        else:\n",
    "            return \"condition False\"\n",
    "print(check_the_condition(2))\n",
    "print(check_the_condition(7))"
   ]
  },
  {
   "cell_type": "markdown",
   "id": "cf58de1a",
   "metadata": {},
   "source": [
    "### Problem 73:\n",
    "**Write a Python program to count the number of occurrences of a specific character in a string.**"
   ]
  },
  {
   "cell_type": "code",
   "execution_count": 54,
   "id": "5d057a0e",
   "metadata": {},
   "outputs": [
    {
     "name": "stdout",
     "output_type": "stream",
     "text": [
      "The searching character: h\n",
      "Enter the string: Abhishek\n"
     ]
    },
    {
     "data": {
      "text/plain": [
       "'the count of h is 2'"
      ]
     },
     "execution_count": 54,
     "metadata": {},
     "output_type": "execute_result"
    }
   ],
   "source": [
    "def character_occurrence(ch):\n",
    "    string_= input(\"Enter the string: \")\n",
    "    count =0 \n",
    "    for i in string_:\n",
    "        if i==ch:\n",
    "            count+=1\n",
    "    return f\"the count of {ch} is {count}\"\n",
    "ch= input(\"The searching character: \")        \n",
    "character_occurrence(ch)"
   ]
  },
  {
   "cell_type": "markdown",
   "id": "d9a36465",
   "metadata": {},
   "source": [
    "### problem 74:\n",
    "**Write a Python program to check whether a file path is a file or a directory.**"
   ]
  },
  {
   "cell_type": "code",
   "execution_count": 56,
   "id": "e5a092f2",
   "metadata": {},
   "outputs": [
    {
     "name": "stdout",
     "output_type": "stream",
     "text": [
      "file\n"
     ]
    }
   ],
   "source": [
    "file_path= '/home/Abhishek/conversational_project/Conversation_2.json'\n",
    "dir_path= '/home/Abhishek/conversational_project'\n",
    "list_file= [file_path, dir_path]\n",
    "def check_for_file_dir(file):\n",
    "    import os\n",
    "    for i in file:\n",
    "        if os.path.isdir(i):\n",
    "            return \"directory\"\n",
    "        elif os.path.isfile(i):\n",
    "            return \"file\"\n",
    "        else:\n",
    "            return \"unknown\"\n",
    "print(check_for_file_dir(list_file))"
   ]
  },
  {
   "cell_type": "markdown",
   "id": "894fb293",
   "metadata": {},
   "source": [
    "### Problem 75:"
   ]
  },
  {
   "cell_type": "markdown",
   "id": "28a116a3",
   "metadata": {},
   "source": [
    "#### Write a Python program to get the ASCII value of a character.\n"
   ]
  },
  {
   "cell_type": "code",
   "execution_count": 1,
   "id": "9984f9fd",
   "metadata": {},
   "outputs": [
    {
     "name": "stdout",
     "output_type": "stream",
     "text": [
      "\n",
      "97\n",
      "65\n",
      "49\n",
      "64\n",
      "\n"
     ]
    }
   ],
   "source": [
    "print()\n",
    "print(ord('a'))\n",
    "print(ord('A'))\n",
    "print(ord('1'))\n",
    "print(ord('@'))\n",
    "print()"
   ]
  },
  {
   "cell_type": "markdown",
   "id": "01ee7b74",
   "metadata": {},
   "source": [
    "### Problem 76:"
   ]
  },
  {
   "cell_type": "markdown",
   "id": "02e0dfc4",
   "metadata": {},
   "source": [
    "#### Write a Python program to get the size of a file."
   ]
  },
  {
   "cell_type": "code",
   "execution_count": 6,
   "id": "285c99c7",
   "metadata": {},
   "outputs": [
    {
     "name": "stdout",
     "output_type": "stream",
     "text": [
      "\n",
      "The size of abc.txt is : 112602 Bytes\n",
      "\n"
     ]
    }
   ],
   "source": [
    "import os\n",
    "file_size = os.path.getsize(\"/home/Abhishek/conversational_project/Conversation_2.json\")\n",
    "print(\"\\nThe size of abc.txt is :\",file_size,\"Bytes\")\n",
    "print()\n"
   ]
  },
  {
   "cell_type": "markdown",
   "id": "6447d694",
   "metadata": {},
   "source": [
    "### Problem 77:\n",
    "#### Write a Python program to clear the screen or terminal."
   ]
  },
  {
   "cell_type": "code",
   "execution_count": 7,
   "id": "a5104d66",
   "metadata": {},
   "outputs": [
    {
     "name": "stdout",
     "output_type": "stream",
     "text": [
      "basic_part_1.ipynb\n",
      "basic_part_2.ipynb\n",
      "\u001b[H\u001b[2J"
     ]
    },
    {
     "data": {
      "text/plain": [
       "0"
      ]
     },
     "execution_count": 7,
     "metadata": {},
     "output_type": "execute_result"
    }
   ],
   "source": [
    "import os\n",
    "import time\n",
    "# for windows\n",
    "# os.system('cls')\n",
    "os.system(\"ls\")\n",
    "time.sleep(2)\n",
    "# Ubuntu version 10.10\n",
    "os.system('clear')"
   ]
  },
  {
   "cell_type": "markdown",
   "id": "f4d19cb1",
   "metadata": {},
   "source": [
    "### problem 78:\n",
    "#### Write a Python program to get the name of the host on which the routine is running."
   ]
  },
  {
   "cell_type": "code",
   "execution_count": 8,
   "id": "9befa233",
   "metadata": {},
   "outputs": [
    {
     "name": "stdout",
     "output_type": "stream",
     "text": [
      "Host name: tvtroot\n"
     ]
    }
   ],
   "source": [
    "import socket\n",
    "host_name = socket.gethostname()\n",
    "print(\"Host name:\", host_name)"
   ]
  },
  {
   "cell_type": "markdown",
   "id": "07f2b4a1",
   "metadata": {},
   "source": [
    "### Problem 79:"
   ]
  },
  {
   "cell_type": "markdown",
   "id": "aa5ddf04",
   "metadata": {},
   "source": [
    "#### Write a Python program to access and print a URL's content to the console."
   ]
  },
  {
   "cell_type": "code",
   "execution_count": 9,
   "id": "32072d16",
   "metadata": {},
   "outputs": [
    {
     "name": "stdout",
     "output_type": "stream",
     "text": [
      "b'<!doctype html>\\n<html>\\n<head>\\n    <title>Example Domain</title>\\n\\n    <meta charset=\"utf-8\" />\\n    <meta http-equiv=\"Content-type\" content=\"text/html; charset=utf-8\" />\\n    <meta name=\"viewport\" content=\"width=device-width, initial-scale=1\" />\\n    <style type=\"text/css\">\\n    body {\\n        background-color: #f0f0f2;\\n        margin: 0;\\n        padding: 0;\\n        font-family: -apple-system, system-ui, BlinkMacSystemFont, \"Segoe UI\", \"Open Sans\", \"Helvetica Neue\", Helvetica, Arial, sans-serif;\\n        \\n    }\\n    div {\\n        width: 600px;\\n        margin: 5em auto;\\n        padding: 2em;\\n        background-color: #fdfdff;\\n        border-radius: 0.5em;\\n        box-shadow: 2px 3px 7px 2px rgba(0,0,0,0.02);\\n    }\\n    a:link, a:visited {\\n        color: #38488f;\\n        text-decoration: none;\\n    }\\n    @media (max-width: 700px) {\\n        div {\\n            margin: 0 auto;\\n            width: auto;\\n        }\\n    }\\n    </style>    \\n</head>\\n\\n<body>\\n<div>\\n    <h1>Example Domain</h1>\\n    <p>This domain is for use in illustrative examples in documents. You may use this\\n    domain in literature without prior coordination or asking for permission.</p>\\n    <p><a href=\"https://www.iana.org/domains/example\">More information...</a></p>\\n</div>\\n</body>\\n</html>\\n'\n"
     ]
    }
   ],
   "source": [
    "from http.client import HTTPConnection\n",
    "conn = HTTPConnection(\"example.com\")\n",
    "conn.request(\"GET\", \"/\")  \n",
    "result = conn.getresponse()\n",
    "# retrieves the entire contents.  \n",
    "contents = result.read() \n",
    "print(contents)"
   ]
  },
  {
   "cell_type": "markdown",
   "id": "b7ce6e5c",
   "metadata": {},
   "source": [
    "### problem 80:\n",
    "#### Write a Python program to get system command output."
   ]
  },
  {
   "cell_type": "code",
   "execution_count": 10,
   "id": "600e0d9e",
   "metadata": {},
   "outputs": [
    {
     "name": "stdout",
     "output_type": "stream",
     "text": [
      "dir command to list file and directory\n",
      "basic_part_1.ipynb  basic_part_2.ipynb\n",
      "\n"
     ]
    }
   ],
   "source": [
    "import subprocess\n",
    "# file and directory listing\n",
    "returned_text = subprocess.check_output(\"dir\", shell=True, universal_newlines=True)\n",
    "print(\"dir command to list file and directory\")\n",
    "print(returned_text)"
   ]
  },
  {
   "cell_type": "markdown",
   "id": "12fbc780",
   "metadata": {},
   "source": [
    "### problem 81:\n",
    "#### Write a Python program to extract the filename from a given path."
   ]
  },
  {
   "cell_type": "code",
   "execution_count": 13,
   "id": "68fe6807",
   "metadata": {},
   "outputs": [
    {
     "name": "stdout",
     "output_type": "stream",
     "text": [
      "\n",
      "Conversation_2.json\n",
      "\n"
     ]
    }
   ],
   "source": [
    "import os\n",
    "print()\n",
    "print(os.path.basename('/home/Abhishek/conversational_project/Conversation_2.json'))\n",
    "print()"
   ]
  },
  {
   "cell_type": "markdown",
   "id": "52efc5c5",
   "metadata": {},
   "source": [
    "### Problem 82:\n",
    "#### Write a Python program to get the effective group id, effective user id, real group id, and a list of supplemental group ids associated with the current process."
   ]
  },
  {
   "cell_type": "code",
   "execution_count": 11,
   "id": "16bdb358",
   "metadata": {},
   "outputs": [
    {
     "name": "stdout",
     "output_type": "stream",
     "text": [
      "\n",
      "Effective group id:  1000\n",
      "Effective user id:  1000\n",
      "Real group id:  1000\n",
      "List of supplemental group ids:  [4, 24, 27, 30, 46, 108, 1000]\n",
      "\n"
     ]
    }
   ],
   "source": [
    "import os\n",
    "print(\"\\nEffective group id: \",os.getegid())\n",
    "print(\"Effective user id: \",os.geteuid())\n",
    "print(\"Real group id: \",os.getgid())\n",
    "print(\"List of supplemental group ids: \",os.getgroups())\n",
    "print()"
   ]
  },
  {
   "cell_type": "markdown",
   "id": "26dfd5c8",
   "metadata": {},
   "source": [
    "### problem 83:\n",
    "#### Write a Python program to get the users environment."
   ]
  },
  {
   "cell_type": "code",
   "execution_count": 14,
   "id": "a39b1394",
   "metadata": {},
   "outputs": [
    {
     "name": "stdout",
     "output_type": "stream",
     "text": [
      "\n",
      "environ({'LS_COLORS': 'rs=0:di=01;34:ln=01;36:mh=00:pi=40;33:so=01;35:do=01;35:bd=40;33;01:cd=40;33;01:or=40;31;01:mi=00:su=37;41:sg=30;43:ca=30;41:tw=30;42:ow=34;42:st=37;44:ex=01;32:*.tar=01;31:*.tgz=01;31:*.arc=01;31:*.arj=01;31:*.taz=01;31:*.lha=01;31:*.lz4=01;31:*.lzh=01;31:*.lzma=01;31:*.tlz=01;31:*.txz=01;31:*.tzo=01;31:*.t7z=01;31:*.zip=01;31:*.z=01;31:*.Z=01;31:*.dz=01;31:*.gz=01;31:*.lrz=01;31:*.lz=01;31:*.lzo=01;31:*.xz=01;31:*.zst=01;31:*.tzst=01;31:*.bz2=01;31:*.bz=01;31:*.tbz=01;31:*.tbz2=01;31:*.tz=01;31:*.deb=01;31:*.rpm=01;31:*.jar=01;31:*.war=01;31:*.ear=01;31:*.sar=01;31:*.rar=01;31:*.alz=01;31:*.ace=01;31:*.zoo=01;31:*.cpio=01;31:*.7z=01;31:*.rz=01;31:*.cab=01;31:*.wim=01;31:*.swm=01;31:*.dwm=01;31:*.esd=01;31:*.jpg=01;35:*.jpeg=01;35:*.mjpg=01;35:*.mjpeg=01;35:*.gif=01;35:*.bmp=01;35:*.pbm=01;35:*.pgm=01;35:*.ppm=01;35:*.tga=01;35:*.xbm=01;35:*.xpm=01;35:*.tif=01;35:*.tiff=01;35:*.png=01;35:*.svg=01;35:*.svgz=01;35:*.mng=01;35:*.pcx=01;35:*.mov=01;35:*.mpg=01;35:*.mpeg=01;35:*.m2v=01;35:*.mkv=01;35:*.webm=01;35:*.ogm=01;35:*.mp4=01;35:*.m4v=01;35:*.mp4v=01;35:*.vob=01;35:*.qt=01;35:*.nuv=01;35:*.wmv=01;35:*.asf=01;35:*.rm=01;35:*.rmvb=01;35:*.flc=01;35:*.avi=01;35:*.fli=01;35:*.flv=01;35:*.gl=01;35:*.dl=01;35:*.xcf=01;35:*.xwd=01;35:*.yuv=01;35:*.cgm=01;35:*.emf=01;35:*.ogv=01;35:*.ogx=01;35:*.aac=00;36:*.au=00;36:*.flac=00;36:*.m4a=00;36:*.mid=00;36:*.midi=00;36:*.mka=00;36:*.mp3=00;36:*.mpc=00;36:*.ogg=00;36:*.ra=00;36:*.wav=00;36:*.oga=00;36:*.opus=00;36:*.spx=00;36:*.xspf=00;36:', 'SSH_CONNECTION': '172.16.4.69 52942 172.16.5.20 22', 'LESSCLOSE': '/usr/bin/lesspipe %s %s', 'LANG': 'en_US.UTF-8', 'OLDPWD': '/home/Abhishek', 'VIRTUAL_ENV': '/home/Abhishek/conversational_analytics', 'S_COLORS': 'auto', 'XDG_SESSION_ID': '6455', 'USER': 'tvtroot', 'PWD': '/home/Abhishek/conversational_project', 'HOME': '/home/tvtroot', 'SSH_CLIENT': '172.16.4.69 52942 22', 'XDG_DATA_DIRS': '/usr/local/share:/usr/share:/var/lib/snapd/desktop', 'SSH_TTY': '/dev/pts/0', 'MAIL': '/var/mail/tvtroot', 'TERM': 'xterm-color', 'SHELL': '/bin/bash', 'SHLVL': '1', 'LOGNAME': 'tvtroot', 'DBUS_SESSION_BUS_ADDRESS': 'unix:path=/run/user/1000/bus', 'XDG_RUNTIME_DIR': '/run/user/1000', 'PATH': '/home/tvtroot/.local/bin:/home/Abhishek/conversational_analytics/bin:/usr/local/sbin:/usr/local/bin:/usr/sbin:/usr/bin:/sbin:/bin:/usr/games:/usr/local/games:/snap/bin', 'PS1': '(conversational_analytics) \\\\[\\\\e]0;\\\\u@\\\\h: \\\\w\\\\a\\\\]${debian_chroot:+($debian_chroot)}\\\\[\\\\033[01;32m\\\\]\\\\u@\\\\h\\\\[\\\\033[00m\\\\]:\\\\[\\\\033[01;34m\\\\]\\\\w\\\\[\\\\033[00m\\\\]\\\\$ ', 'LESSOPEN': '| /usr/bin/lesspipe %s', '_': '/home/tvtroot/.local/bin/jupyter', 'PYDEVD_USE_FRAME_EVAL': 'NO', 'JPY_SESSION_NAME': '/home/Abhishek/conversational_project/python_practice/basic_part_2.ipynb', 'JPY_PARENT_PID': '23364', 'CLICOLOR': '1', 'FORCE_COLOR': '1', 'CLICOLOR_FORCE': '1', 'PAGER': 'cat', 'GIT_PAGER': 'cat', 'MPLBACKEND': 'module://matplotlib_inline.backend_inline'})\n",
      "\n"
     ]
    }
   ],
   "source": [
    "import os\n",
    "print()\n",
    "print(os.environ)\n",
    "print()"
   ]
  },
  {
   "cell_type": "markdown",
   "id": "da3fb081",
   "metadata": {},
   "source": [
    "### problem 84:\n",
    "#### Write a Python program to divide a path by the extension separator."
   ]
  },
  {
   "cell_type": "code",
   "execution_count": 15,
   "id": "e68474db",
   "metadata": {},
   "outputs": [
    {
     "name": "stdout",
     "output_type": "stream",
     "text": [
      "\"test.txt\" : ('test', '.txt')\n",
      "\"filename\" : ('filename', '')\n",
      "\"/user/system/test.txt\" : ('/user/system/test', '.txt')\n",
      "\"/\" : ('/', '')\n",
      "\"\" : ('', '')\n"
     ]
    }
   ],
   "source": [
    "import os.path\n",
    "for path in [ 'test.txt', 'filename', '/user/system/test.txt', '/', '' ]:\n",
    "    print('\"%s\" :' % path, os.path.splitext(path))"
   ]
  },
  {
   "cell_type": "markdown",
   "id": "e86c3a31",
   "metadata": {},
   "source": [
    "### Problem 85:\n",
    "#### Write a Python program to retrieve file properties."
   ]
  },
  {
   "cell_type": "code",
   "execution_count": 18,
   "id": "7f992a1b",
   "metadata": {},
   "outputs": [
    {
     "name": "stdout",
     "output_type": "stream",
     "text": [
      "File         : /home/Abhishek/conversational_project/Conversation_2.json\n",
      "Access time  : Fri Jul 28 11:58:05 2023\n",
      "Modified time: Wed Jul 19 06:19:17 2023\n",
      "Change time  : Thu Jul 20 05:02:51 2023\n",
      "Size         : 112602\n"
     ]
    }
   ],
   "source": [
    "import os.path\n",
    "import time\n",
    "__file__= '/home/Abhishek/conversational_project/Conversation_2.json'\n",
    "print('File         :', '/home/Abhishek/conversational_project/Conversation_2.json')\n",
    "print('Access time  :', time.ctime(os.path.getatime(__file__)))\n",
    "print('Modified time:', time.ctime(os.path.getmtime(__file__)))\n",
    "print('Change time  :', time.ctime(os.path.getctime(__file__)))\n",
    "print('Size         :', os.path.getsize(__file__))"
   ]
  },
  {
   "cell_type": "markdown",
   "id": "df4a1763",
   "metadata": {},
   "source": [
    "### Problem 86:\n",
    "#### Write a Python program to find the path to a file or directory when you encounter a path name."
   ]
  },
  {
   "cell_type": "code",
   "execution_count": 19,
   "id": "f69d3b87",
   "metadata": {},
   "outputs": [
    {
     "name": "stdout",
     "output_type": "stream",
     "text": [
      "File        : /home/Abhishek/conversational_project/Conversation_2.json\n",
      "Absolute    : True\n",
      "Is File?    : True\n",
      "Is Dir?     : False\n",
      "Is Link?    : False\n",
      "Exists?     : True\n",
      "Link Exists?: True\n",
      "File        : /home/Abhishek/conversational_project\n",
      "Absolute    : True\n",
      "Is File?    : False\n",
      "Is Dir?     : True\n",
      "Is Link?    : False\n",
      "Exists?     : True\n",
      "Link Exists?: True\n",
      "File        : /\n",
      "Absolute    : True\n",
      "Is File?    : False\n",
      "Is Dir?     : True\n",
      "Is Link?    : False\n",
      "Exists?     : True\n",
      "Link Exists?: True\n",
      "File        : ./broken_link\n",
      "Absolute    : False\n",
      "Is File?    : False\n",
      "Is Dir?     : False\n",
      "Is Link?    : False\n",
      "Exists?     : False\n",
      "Link Exists?: False\n"
     ]
    }
   ],
   "source": [
    "import os.path\n",
    "\n",
    "for file in [ __file__, os.path.dirname(__file__), '/', './broken_link']:\n",
    "    print('File        :', file)\n",
    "    print('Absolute    :', os.path.isabs(file))\n",
    "    print('Is File?    :', os.path.isfile(file))\n",
    "    print('Is Dir?     :', os.path.isdir(file))\n",
    "    print('Is Link?    :', os.path.islink(file))\n",
    "    print('Exists?     :', os.path.exists(file))\n",
    "    print('Link Exists?:', os.path.lexists(file))"
   ]
  },
  {
   "cell_type": "markdown",
   "id": "b64d11fe",
   "metadata": {},
   "source": [
    "### Problem 87\n",
    "#### Write a Python program to round a floating-point number to a specified number of decimal places."
   ]
  },
  {
   "cell_type": "code",
   "execution_count": 20,
   "id": "d5e685c3",
   "metadata": {},
   "outputs": [
    {
     "name": "stdout",
     "output_type": "stream",
     "text": [
      "\n",
      "The total order amount comes to 212.374000\n",
      "The total order amount comes to 212.37\n",
      "\n"
     ]
    }
   ],
   "source": [
    "order_amt = 212.374\n",
    "print('\\nThe total order amount comes to %f' % order_amt)\n",
    "print('The total order amount comes to %.2f' % order_amt)\n",
    "print()"
   ]
  },
  {
   "cell_type": "code",
   "execution_count": null,
   "id": "25c2ffa5",
   "metadata": {},
   "outputs": [],
   "source": []
  }
 ],
 "metadata": {
  "kernelspec": {
   "display_name": "Python 3 (ipykernel)",
   "language": "python",
   "name": "python3"
  },
  "language_info": {
   "codemirror_mode": {
    "name": "ipython",
    "version": 3
   },
   "file_extension": ".py",
   "mimetype": "text/x-python",
   "name": "python",
   "nbconvert_exporter": "python",
   "pygments_lexer": "ipython3",
   "version": "3.10.12"
  }
 },
 "nbformat": 4,
 "nbformat_minor": 5
}
